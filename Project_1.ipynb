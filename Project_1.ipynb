{
 "cells": [
  {
   "cell_type": "markdown",
   "metadata": {
    "deletable": false,
    "editable": false,
    "id": "E0vqbgi9ay0H"
   },
   "source": [
    "# Яндекс Музыка"
   ]
  },
  {
   "cell_type": "markdown",
   "metadata": {
    "deletable": false,
    "editable": false,
    "id": "VUC88oWjTJw2"
   },
   "source": [
    "Сравнение Москвы и Петербурга окружено мифами. Например:\n",
    " * Москва — мегаполис, подчинённый жёсткому ритму рабочей недели;\n",
    " * Петербург — культурная столица, со своими вкусами.\n",
    "\n",
    "На данных Яндекс Музыки вы сравните поведение пользователей двух столиц.\n",
    "\n",
    "**Цель исследования** — проверьте три гипотезы:\n",
    "1. Активность пользователей зависит от дня недели. Причём в Москве и Петербурге это проявляется по-разному.\n",
    "2. В понедельник утром в Москве преобладают одни жанры, а в Петербурге — другие. Так же и вечером пятницы преобладают разные жанры — в зависимости от города. \n",
    "3. Москва и Петербург предпочитают разные жанры музыки. В Москве чаще слушают поп-музыку, в Петербурге — русский рэп.\n",
    "\n",
    "**Ход исследования**\n",
    "\n",
    "Данные о поведении пользователей вы получите из файла `yandex_music_project.csv`. О качестве данных ничего не известно. Поэтому перед проверкой гипотез понадобится обзор данных. \n",
    "\n",
    "Вы проверите данные на ошибки и оцените их влияние на исследование. Затем, на этапе предобработки вы поищете возможность исправить самые критичные ошибки данных.\n",
    " \n",
    "Таким образом, исследование пройдёт в три этапа:\n",
    " 1. Обзор данных.\n",
    " 2. Предобработка данных.\n",
    " 3. Проверка гипотез.\n",
    "\n"
   ]
  },
  {
   "cell_type": "markdown",
   "metadata": {
    "deletable": false,
    "editable": false,
    "id": "Ml1hmfXC_Zcs"
   },
   "source": [
    "## Обзор данных\n",
    "\n",
    "Составьте первое представление о данных Яндекс Музыки.\n",
    "\n",
    "\n"
   ]
  },
  {
   "cell_type": "markdown",
   "metadata": {
    "deletable": false,
    "editable": false,
    "id": "57eAOGIz_Zcs",
    "tags": [
     "start_task"
    ]
   },
   "source": [
    "**Задание 1**\n",
    "\n",
    "Основной инструмент аналитика — `pandas`. Импортируйте эту библиотеку."
   ]
  },
  {
   "cell_type": "code",
   "execution_count": 994,
   "metadata": {
    "deletable": false,
    "id": "AXN7PHPN_Zcs"
   },
   "outputs": [],
   "source": [
    "import pandas as pd # импорт библиотеки pandas"
   ]
  },
  {
   "cell_type": "markdown",
   "metadata": {
    "deletable": false,
    "editable": false,
    "id": "SG23P8tt_Zcs",
    "tags": [
     "start_task"
    ]
   },
   "source": [
    "**Задание 2**\n",
    "\n",
    "Прочитайте файл `yandex_music_project.csv` из папки `/datasets` и сохраните его в переменной `df`:"
   ]
  },
  {
   "cell_type": "code",
   "execution_count": 995,
   "metadata": {
    "deletable": false,
    "id": "fFVu7vqh_Zct"
   },
   "outputs": [],
   "source": [
    "df = pd.read_csv('/datasets/yandex_music_project.csv') # чтение файла с данными и сохранение в df"
   ]
  },
  {
   "cell_type": "markdown",
   "metadata": {
    "deletable": false,
    "editable": false,
    "id": "rDoOMd3uTqnZ",
    "tags": [
     "start_task"
    ]
   },
   "source": [
    "**Задание 3**\n",
    "\n",
    "\n",
    "Выведите на экран первые десять строк таблицы:"
   ]
  },
  {
   "cell_type": "code",
   "execution_count": 996,
   "metadata": {
    "deletable": false,
    "id": "oWTVX3gW_Zct",
    "scrolled": true
   },
   "outputs": [
    {
     "data": {
      "text/html": [
       "<div>\n",
       "<style scoped>\n",
       "    .dataframe tbody tr th:only-of-type {\n",
       "        vertical-align: middle;\n",
       "    }\n",
       "\n",
       "    .dataframe tbody tr th {\n",
       "        vertical-align: top;\n",
       "    }\n",
       "\n",
       "    .dataframe thead th {\n",
       "        text-align: right;\n",
       "    }\n",
       "</style>\n",
       "<table border=\"1\" class=\"dataframe\">\n",
       "  <thead>\n",
       "    <tr style=\"text-align: right;\">\n",
       "      <th></th>\n",
       "      <th>userID</th>\n",
       "      <th>Track</th>\n",
       "      <th>artist</th>\n",
       "      <th>genre</th>\n",
       "      <th>City</th>\n",
       "      <th>time</th>\n",
       "      <th>Day</th>\n",
       "    </tr>\n",
       "  </thead>\n",
       "  <tbody>\n",
       "    <tr>\n",
       "      <th>0</th>\n",
       "      <td>FFB692EC</td>\n",
       "      <td>Kamigata To Boots</td>\n",
       "      <td>The Mass Missile</td>\n",
       "      <td>rock</td>\n",
       "      <td>Saint-Petersburg</td>\n",
       "      <td>20:28:33</td>\n",
       "      <td>Wednesday</td>\n",
       "    </tr>\n",
       "    <tr>\n",
       "      <th>1</th>\n",
       "      <td>55204538</td>\n",
       "      <td>Delayed Because of Accident</td>\n",
       "      <td>Andreas Rönnberg</td>\n",
       "      <td>rock</td>\n",
       "      <td>Moscow</td>\n",
       "      <td>14:07:09</td>\n",
       "      <td>Friday</td>\n",
       "    </tr>\n",
       "    <tr>\n",
       "      <th>2</th>\n",
       "      <td>20EC38</td>\n",
       "      <td>Funiculì funiculà</td>\n",
       "      <td>Mario Lanza</td>\n",
       "      <td>pop</td>\n",
       "      <td>Saint-Petersburg</td>\n",
       "      <td>20:58:07</td>\n",
       "      <td>Wednesday</td>\n",
       "    </tr>\n",
       "    <tr>\n",
       "      <th>3</th>\n",
       "      <td>A3DD03C9</td>\n",
       "      <td>Dragons in the Sunset</td>\n",
       "      <td>Fire + Ice</td>\n",
       "      <td>folk</td>\n",
       "      <td>Saint-Petersburg</td>\n",
       "      <td>08:37:09</td>\n",
       "      <td>Monday</td>\n",
       "    </tr>\n",
       "    <tr>\n",
       "      <th>4</th>\n",
       "      <td>E2DC1FAE</td>\n",
       "      <td>Soul People</td>\n",
       "      <td>Space Echo</td>\n",
       "      <td>dance</td>\n",
       "      <td>Moscow</td>\n",
       "      <td>08:34:34</td>\n",
       "      <td>Monday</td>\n",
       "    </tr>\n",
       "    <tr>\n",
       "      <th>5</th>\n",
       "      <td>842029A1</td>\n",
       "      <td>Преданная</td>\n",
       "      <td>IMPERVTOR</td>\n",
       "      <td>rusrap</td>\n",
       "      <td>Saint-Petersburg</td>\n",
       "      <td>13:09:41</td>\n",
       "      <td>Friday</td>\n",
       "    </tr>\n",
       "    <tr>\n",
       "      <th>6</th>\n",
       "      <td>4CB90AA5</td>\n",
       "      <td>True</td>\n",
       "      <td>Roman Messer</td>\n",
       "      <td>dance</td>\n",
       "      <td>Moscow</td>\n",
       "      <td>13:00:07</td>\n",
       "      <td>Wednesday</td>\n",
       "    </tr>\n",
       "    <tr>\n",
       "      <th>7</th>\n",
       "      <td>F03E1C1F</td>\n",
       "      <td>Feeling This Way</td>\n",
       "      <td>Polina Griffith</td>\n",
       "      <td>dance</td>\n",
       "      <td>Moscow</td>\n",
       "      <td>20:47:49</td>\n",
       "      <td>Wednesday</td>\n",
       "    </tr>\n",
       "    <tr>\n",
       "      <th>8</th>\n",
       "      <td>8FA1D3BE</td>\n",
       "      <td>И вновь продолжается бой</td>\n",
       "      <td>NaN</td>\n",
       "      <td>ruspop</td>\n",
       "      <td>Moscow</td>\n",
       "      <td>09:17:40</td>\n",
       "      <td>Friday</td>\n",
       "    </tr>\n",
       "    <tr>\n",
       "      <th>9</th>\n",
       "      <td>E772D5C0</td>\n",
       "      <td>Pessimist</td>\n",
       "      <td>NaN</td>\n",
       "      <td>dance</td>\n",
       "      <td>Saint-Petersburg</td>\n",
       "      <td>21:20:49</td>\n",
       "      <td>Wednesday</td>\n",
       "    </tr>\n",
       "  </tbody>\n",
       "</table>\n",
       "</div>"
      ],
      "text/plain": [
       "     userID                        Track            artist   genre  \\\n",
       "0  FFB692EC            Kamigata To Boots  The Mass Missile    rock   \n",
       "1  55204538  Delayed Because of Accident  Andreas Rönnberg    rock   \n",
       "2    20EC38            Funiculì funiculà       Mario Lanza     pop   \n",
       "3  A3DD03C9        Dragons in the Sunset        Fire + Ice    folk   \n",
       "4  E2DC1FAE                  Soul People        Space Echo   dance   \n",
       "5  842029A1                    Преданная         IMPERVTOR  rusrap   \n",
       "6  4CB90AA5                         True      Roman Messer   dance   \n",
       "7  F03E1C1F             Feeling This Way   Polina Griffith   dance   \n",
       "8  8FA1D3BE     И вновь продолжается бой               NaN  ruspop   \n",
       "9  E772D5C0                    Pessimist               NaN   dance   \n",
       "\n",
       "             City        time        Day  \n",
       "0  Saint-Petersburg  20:28:33  Wednesday  \n",
       "1            Moscow  14:07:09     Friday  \n",
       "2  Saint-Petersburg  20:58:07  Wednesday  \n",
       "3  Saint-Petersburg  08:37:09     Monday  \n",
       "4            Moscow  08:34:34     Monday  \n",
       "5  Saint-Petersburg  13:09:41     Friday  \n",
       "6            Moscow  13:00:07  Wednesday  \n",
       "7            Moscow  20:47:49  Wednesday  \n",
       "8            Moscow  09:17:40     Friday  \n",
       "9  Saint-Petersburg  21:20:49  Wednesday  "
      ]
     },
     "execution_count": 996,
     "metadata": {},
     "output_type": "execute_result"
    }
   ],
   "source": [
    "df.head(10) # получение первых 10 строк таблицы df"
   ]
  },
  {
   "cell_type": "markdown",
   "metadata": {
    "deletable": false,
    "editable": false,
    "id": "EO73Kwic_Zct",
    "tags": [
     "start_task"
    ]
   },
   "source": [
    "**Задание 4**\n",
    "\n",
    "\n",
    "Одной командой получить общую информацию о таблице c помощью метода `info()`:"
   ]
  },
  {
   "cell_type": "code",
   "execution_count": 997,
   "metadata": {
    "deletable": false,
    "id": "DSf2kIb-_Zct"
   },
   "outputs": [
    {
     "name": "stdout",
     "output_type": "stream",
     "text": [
      "<class 'pandas.core.frame.DataFrame'>\n",
      "RangeIndex: 65079 entries, 0 to 65078\n",
      "Data columns (total 7 columns):\n",
      " #   Column    Non-Null Count  Dtype \n",
      "---  ------    --------------  ----- \n",
      " 0     userID  65079 non-null  object\n",
      " 1   Track     63848 non-null  object\n",
      " 2   artist    57876 non-null  object\n",
      " 3   genre     63881 non-null  object\n",
      " 4     City    65079 non-null  object\n",
      " 5   time      65079 non-null  object\n",
      " 6   Day       65079 non-null  object\n",
      "dtypes: object(7)\n",
      "memory usage: 3.5+ MB\n"
     ]
    }
   ],
   "source": [
    "df.info() # получение общей информации о данных в таблице df"
   ]
  },
  {
   "cell_type": "markdown",
   "metadata": {
    "deletable": false,
    "editable": false,
    "id": "TaQ2Iwbr_Zct"
   },
   "source": [
    "Итак, в таблице семь столбцов. Тип данных во всех столбцах — `object`.\n",
    "\n",
    "Согласно документации к данным:\n",
    "* `userID` — идентификатор пользователя;\n",
    "* `Track` — название трека;  \n",
    "* `artist` — имя исполнителя;\n",
    "* `genre` — название жанра;\n",
    "* `City` — город пользователя;\n",
    "* `time` — время начала прослушивания;\n",
    "* `Day` — день недели.\n",
    "\n",
    "Количество значений в столбцах различается. Значит, в данных есть пропущенные значения."
   ]
  },
  {
   "cell_type": "markdown",
   "metadata": {
    "deletable": false,
    "editable": false,
    "id": "rAfziTBDmf2h",
    "tags": [
     "start_task"
    ]
   },
   "source": [
    "**Задание 5**\n",
    "\n",
    "**Вопрос со свободной формой ответа**\n",
    "\n",
    "В названиях колонок видны нарушения стиля:\n",
    "* Строчные буквы сочетаются с прописными.\n",
    "* Встречаются пробелы.\n",
    "\n",
    "Какое третье нарушение?"
   ]
  },
  {
   "cell_type": "code",
   "execution_count": 998,
   "metadata": {
    "id": "jD8EXEIvmf2h"
   },
   "outputs": [],
   "source": [
    "# Некоторые значения не соответствуют змеиному регистру. Напишите ваш ответ здесь комментарием. Не удаляйте символ #. Не меняйте тип этой ячейки на Markdown."
   ]
  },
  {
   "cell_type": "markdown",
   "metadata": {
    "deletable": false,
    "editable": false,
    "id": "MCB6-dXG_Zct"
   },
   "source": [
    "**Выводы**\n",
    "\n",
    "В каждой строке таблицы — данные о прослушанном треке. Часть колонок описывает саму композицию: название, исполнителя и жанр. Остальные данные рассказывают о пользователе: из какого он города, когда он слушал музыку. \n",
    "\n",
    "Предварительно можно утверждать, что данных достаточно для проверки гипотез. Но встречаются пропуски в данных, а в названиях колонок — расхождения с хорошим стилем.\n",
    "\n",
    "Чтобы двигаться дальше, нужно устранить проблемы в данных."
   ]
  },
  {
   "cell_type": "markdown",
   "metadata": {
    "deletable": false,
    "editable": false,
    "id": "SjYF6Ub9_Zct"
   },
   "source": [
    "## Предобработка данных\n",
    "Исправьте стиль в заголовках столбцов, исключите пропуски. Затем проверьте данные на дубликаты."
   ]
  },
  {
   "cell_type": "markdown",
   "metadata": {
    "deletable": false,
    "editable": false,
    "id": "dIaKXr29_Zct",
    "tags": [
     "start_task"
    ]
   },
   "source": [
    "### Стиль заголовков\n",
    "\n",
    "**Задание 6**\n",
    "\n",
    "Выведите на экран названия столбцов:"
   ]
  },
  {
   "cell_type": "code",
   "execution_count": 999,
   "metadata": {
    "deletable": false,
    "id": "oKOTdF_Q_Zct"
   },
   "outputs": [
    {
     "data": {
      "text/plain": [
       "Index(['  userID', 'Track', 'artist', 'genre', '  City  ', 'time', 'Day'], dtype='object')"
      ]
     },
     "execution_count": 999,
     "metadata": {},
     "output_type": "execute_result"
    }
   ],
   "source": [
    "df.columns # перечень названий столбцов таблицы df"
   ]
  },
  {
   "cell_type": "markdown",
   "metadata": {
    "deletable": false,
    "editable": false,
    "id": "zj5534cv_Zct",
    "tags": [
     "start_task"
    ]
   },
   "source": [
    "**Задание 7**\n",
    "\n",
    "\n",
    "Приведите названия в соответствие с хорошим стилем:\n",
    "* несколько слов в названии запишите в «змеином_регистре»,\n",
    "* все символы сделайте строчными,\n",
    "* устраните пробелы.\n",
    "\n",
    "Для этого переименуйте колонки так:\n",
    "* `'  userID'` → `'user_id'`;\n",
    "* `'Track'` → `'track'`;\n",
    "* `'  City  '` → `'city'`;\n",
    "* `'Day'` → `'day'`."
   ]
  },
  {
   "cell_type": "code",
   "execution_count": 1000,
   "metadata": {
    "deletable": false,
    "id": "ISlFqs5y_Zct"
   },
   "outputs": [],
   "source": [
    "df = df.rename(columns={'  userID' : 'user_id', 'Track' : 'track', '  City  ' : 'city', 'Day' : 'day'}) # переименование столбцов"
   ]
  },
  {
   "cell_type": "markdown",
   "metadata": {
    "deletable": false,
    "editable": false,
    "id": "1dqbh00J_Zct",
    "tags": [
     "start_task"
    ]
   },
   "source": [
    "**Задание 8**\n",
    "\n",
    "\n",
    "Проверьте результат. Для этого ещё раз выведите на экран названия столбцов:"
   ]
  },
  {
   "cell_type": "code",
   "execution_count": 1001,
   "metadata": {
    "deletable": false,
    "id": "d4NOAmTW_Zct"
   },
   "outputs": [
    {
     "data": {
      "text/plain": [
       "Index(['user_id', 'track', 'artist', 'genre', 'city', 'time', 'day'], dtype='object')"
      ]
     },
     "execution_count": 1001,
     "metadata": {},
     "output_type": "execute_result"
    }
   ],
   "source": [
    "df.columns # проверка результатов - перечень названий столбцов"
   ]
  },
  {
   "cell_type": "markdown",
   "metadata": {
    "deletable": false,
    "editable": false,
    "id": "5ISfbcfY_Zct",
    "tags": [
     "start_task"
    ]
   },
   "source": [
    "### Пропуски значений\n",
    "\n",
    "**Задание 9**\n",
    "\n",
    "Сначала посчитайте, сколько в таблице пропущенных значений. Для этого достаточно двух методов `pandas`:"
   ]
  },
  {
   "cell_type": "code",
   "execution_count": 1002,
   "metadata": {
    "deletable": false,
    "id": "RskX29qr_Zct"
   },
   "outputs": [
    {
     "data": {
      "text/plain": [
       "user_id       0\n",
       "track      1231\n",
       "artist     7203\n",
       "genre      1198\n",
       "city          0\n",
       "time          0\n",
       "day           0\n",
       "dtype: int64"
      ]
     },
     "execution_count": 1002,
     "metadata": {},
     "output_type": "execute_result"
    }
   ],
   "source": [
    "df.isna().sum() # подсчёт пропусков"
   ]
  },
  {
   "cell_type": "markdown",
   "metadata": {
    "deletable": false,
    "editable": false,
    "id": "qubhgnlO_Zct"
   },
   "source": [
    "Не все пропущенные значения влияют на исследование. Так в `track` и `artist` пропуски не важны для вашей работы. Достаточно заменить их явными обозначениями.\n",
    "\n",
    "Но пропуски в `genre` могут помешать сравнению музыкальных вкусов в Москве и Санкт-Петербурге. На практике было бы правильно установить причину пропусков и восстановить данные. Такой возможности нет в учебном проекте. Придётся:\n",
    "* заполнить и эти пропуски явными обозначениями;\n",
    "* оценить, насколько они повредят расчётам. "
   ]
  },
  {
   "cell_type": "markdown",
   "metadata": {
    "deletable": false,
    "editable": false,
    "id": "fSv2laPA_Zct",
    "tags": [
     "start_task"
    ]
   },
   "source": [
    "**Задание 10**\n",
    "\n",
    "Замените пропущенные значения в столбцах `track`, `artist` и `genre` на строку `'unknown'`. Для этого создайте список `columns_to_replace`, переберите его элементы циклом `for` и для каждого столбца выполните замену пропущенных значений:"
   ]
  },
  {
   "cell_type": "code",
   "execution_count": 1003,
   "metadata": {
    "deletable": false,
    "id": "KplB5qWs_Zct"
   },
   "outputs": [],
   "source": [
    "columns_to_replace = ['track', 'artist', 'genre'] # перебор названий столбцов в цикле и замена пропущенных значений на 'unknown'\n",
    "for columns in columns_to_replace:\n",
    "    df[columns] = df[columns].fillna('unknown')"
   ]
  },
  {
   "cell_type": "markdown",
   "metadata": {
    "deletable": false,
    "editable": false,
    "id": "Ilsm-MZo_Zct",
    "tags": [
     "start_task"
    ]
   },
   "source": [
    "**Задание 11**\n",
    "\n",
    "Убедитесь, что в таблице не осталось пропусков. Для этого ещё раз посчитайте пропущенные значения."
   ]
  },
  {
   "cell_type": "code",
   "execution_count": 1004,
   "metadata": {
    "deletable": false,
    "id": "Tq4nYRX4_Zct"
   },
   "outputs": [
    {
     "data": {
      "text/plain": [
       "user_id    0\n",
       "track      0\n",
       "artist     0\n",
       "genre      0\n",
       "city       0\n",
       "time       0\n",
       "day        0\n",
       "dtype: int64"
      ]
     },
     "execution_count": 1004,
     "metadata": {},
     "output_type": "execute_result"
    }
   ],
   "source": [
    "df.isna().sum() # подсчёт пропусков"
   ]
  },
  {
   "cell_type": "markdown",
   "metadata": {
    "deletable": false,
    "editable": false,
    "id": "BWKRtBJ3_Zct",
    "tags": [
     "start_task"
    ]
   },
   "source": [
    "### Дубликаты\n",
    "\n",
    "**Задание 12**\n",
    "\n",
    "Посчитайте явные дубликаты в таблице одной командой:"
   ]
  },
  {
   "cell_type": "code",
   "execution_count": 1005,
   "metadata": {
    "deletable": false,
    "id": "36eES_S0_Zct"
   },
   "outputs": [
    {
     "data": {
      "text/plain": [
       "3826"
      ]
     },
     "execution_count": 1005,
     "metadata": {},
     "output_type": "execute_result"
    }
   ],
   "source": [
    "df.duplicated().sum() # подсчёт явных дубликатов"
   ]
  },
  {
   "cell_type": "markdown",
   "metadata": {
    "deletable": false,
    "editable": false,
    "id": "Ot25h6XR_Zct",
    "tags": [
     "start_task"
    ]
   },
   "source": [
    "**Задание 13**\n",
    "\n",
    "Вызовите специальный метод `pandas`, чтобы удалить явные дубликаты:"
   ]
  },
  {
   "cell_type": "code",
   "execution_count": 1006,
   "metadata": {
    "deletable": false,
    "id": "exFHq6tt_Zct"
   },
   "outputs": [],
   "source": [
    "df = df.drop_duplicates() # удаление явных дубликатов"
   ]
  },
  {
   "cell_type": "markdown",
   "metadata": {
    "deletable": false,
    "editable": false,
    "id": "Im2YwBEG_Zct",
    "tags": [
     "start_task"
    ]
   },
   "source": [
    "**Задание 14**\n",
    "\n",
    "Ещё раз посчитайте явные дубликаты в таблице — убедитесь, что полностью от них избавились:"
   ]
  },
  {
   "cell_type": "code",
   "execution_count": 1007,
   "metadata": {
    "deletable": false,
    "id": "-8PuNWQ0_Zct"
   },
   "outputs": [
    {
     "data": {
      "text/plain": [
       "0"
      ]
     },
     "execution_count": 1007,
     "metadata": {},
     "output_type": "execute_result"
    }
   ],
   "source": [
    "df.duplicated().sum() # проверка на отсутствие дубликатов"
   ]
  },
  {
   "cell_type": "markdown",
   "metadata": {
    "deletable": false,
    "editable": false,
    "id": "QlFBsxAr_Zct"
   },
   "source": [
    "Теперь избавьтесь от неявных дубликатов в колонке `genre`. Например, название одного и того же жанра может быть записано немного по-разному. Такие ошибки тоже повлияют на результат исследования."
   ]
  },
  {
   "cell_type": "markdown",
   "metadata": {
    "deletable": false,
    "editable": false,
    "id": "eSjWwsOh_Zct",
    "tags": [
     "start_task"
    ]
   },
   "source": [
    "**Задание 15**\n",
    "\n",
    "Выведите на экран список уникальных названий жанров, отсортированный в алфавитном порядке. Для этого:\n",
    "1. извлеките нужный столбец датафрейма; \n",
    "2. примените к нему метод сортировки;\n",
    "3. для отсортированного столбца вызовите метод, который вернёт уникальные значения из столбца."
   ]
  },
  {
   "cell_type": "code",
   "execution_count": 1008,
   "metadata": {
    "deletable": false,
    "id": "JIUcqzZN_Zct"
   },
   "outputs": [
    {
     "data": {
      "text/plain": [
       "array(['acid', 'acoustic', 'action', 'adult', 'africa', 'afrikaans',\n",
       "       'alternative', 'alternativepunk', 'ambient', 'americana',\n",
       "       'animated', 'anime', 'arabesk', 'arabic', 'arena',\n",
       "       'argentinetango', 'art', 'audiobook', 'author', 'avantgarde',\n",
       "       'axé', 'baile', 'balkan', 'beats', 'bigroom', 'black', 'bluegrass',\n",
       "       'blues', 'bollywood', 'bossa', 'brazilian', 'breakbeat', 'breaks',\n",
       "       'broadway', 'cantautori', 'cantopop', 'canzone', 'caribbean',\n",
       "       'caucasian', 'celtic', 'chamber', 'chanson', 'children', 'chill',\n",
       "       'chinese', 'choral', 'christian', 'christmas', 'classical',\n",
       "       'classicmetal', 'club', 'colombian', 'comedy', 'conjazz',\n",
       "       'contemporary', 'country', 'cuban', 'dance', 'dancehall',\n",
       "       'dancepop', 'dark', 'death', 'deep', 'deutschrock', 'deutschspr',\n",
       "       'dirty', 'disco', 'dnb', 'documentary', 'downbeat', 'downtempo',\n",
       "       'drum', 'dub', 'dubstep', 'eastern', 'easy', 'electronic',\n",
       "       'electropop', 'emo', 'entehno', 'epicmetal', 'estrada', 'ethnic',\n",
       "       'eurofolk', 'european', 'experimental', 'extrememetal', 'fado',\n",
       "       'fairytail', 'film', 'fitness', 'flamenco', 'folk', 'folklore',\n",
       "       'folkmetal', 'folkrock', 'folktronica', 'forró', 'frankreich',\n",
       "       'französisch', 'french', 'funk', 'future', 'gangsta', 'garage',\n",
       "       'german', 'ghazal', 'gitarre', 'glitch', 'gospel', 'gothic',\n",
       "       'grime', 'grunge', 'gypsy', 'handsup', \"hard'n'heavy\", 'hardcore',\n",
       "       'hardstyle', 'hardtechno', 'hip', 'hip-hop', 'hiphop',\n",
       "       'historisch', 'holiday', 'hop', 'horror', 'house', 'hymn', 'idm',\n",
       "       'independent', 'indian', 'indie', 'indipop', 'industrial',\n",
       "       'inspirational', 'instrumental', 'international', 'irish', 'jam',\n",
       "       'japanese', 'jazz', 'jewish', 'jpop', 'jungle', 'k-pop',\n",
       "       'karadeniz', 'karaoke', 'kayokyoku', 'korean', 'laiko', 'latin',\n",
       "       'latino', 'leftfield', 'local', 'lounge', 'loungeelectronic',\n",
       "       'lovers', 'malaysian', 'mandopop', 'marschmusik', 'meditative',\n",
       "       'mediterranean', 'melodic', 'metal', 'metalcore', 'mexican',\n",
       "       'middle', 'minimal', 'miscellaneous', 'modern', 'mood', 'mpb',\n",
       "       'muslim', 'native', 'neoklassik', 'neue', 'new', 'newage',\n",
       "       'newwave', 'nu', 'nujazz', 'numetal', 'oceania', 'old', 'opera',\n",
       "       'orchestral', 'other', 'piano', 'podcasts', 'pop', 'popdance',\n",
       "       'popelectronic', 'popeurodance', 'poprussian', 'post',\n",
       "       'posthardcore', 'postrock', 'power', 'progmetal', 'progressive',\n",
       "       'psychedelic', 'punjabi', 'punk', 'quebecois', 'ragga', 'ram',\n",
       "       'rancheras', 'rap', 'rave', 'reggae', 'reggaeton', 'regional',\n",
       "       'relax', 'religious', 'retro', 'rhythm', 'rnb', 'rnr', 'rock',\n",
       "       'rockabilly', 'rockalternative', 'rockindie', 'rockother',\n",
       "       'romance', 'roots', 'ruspop', 'rusrap', 'rusrock', 'russian',\n",
       "       'salsa', 'samba', 'scenic', 'schlager', 'self', 'sertanejo',\n",
       "       'shanson', 'shoegazing', 'showtunes', 'singer', 'ska', 'skarock',\n",
       "       'slow', 'smooth', 'soft', 'soul', 'soulful', 'sound', 'soundtrack',\n",
       "       'southern', 'specialty', 'speech', 'spiritual', 'sport',\n",
       "       'stonerrock', 'surf', 'swing', 'synthpop', 'synthrock',\n",
       "       'sängerportrait', 'tango', 'tanzorchester', 'taraftar', 'tatar',\n",
       "       'tech', 'techno', 'teen', 'thrash', 'top', 'traditional',\n",
       "       'tradjazz', 'trance', 'tribal', 'trip', 'triphop', 'tropical',\n",
       "       'türk', 'türkçe', 'ukrrock', 'unknown', 'urban', 'uzbek',\n",
       "       'variété', 'vi', 'videogame', 'vocal', 'western', 'world',\n",
       "       'worldbeat', 'ïîï', 'электроника'], dtype=object)"
      ]
     },
     "execution_count": 1008,
     "metadata": {},
     "output_type": "execute_result"
    }
   ],
   "source": [
    "df['genre'].sort_values().unique() # Просмотр уникальных названий жанров"
   ]
  },
  {
   "cell_type": "markdown",
   "metadata": {
    "deletable": false,
    "editable": false,
    "id": "qej-Qmuo_Zct",
    "tags": [
     "start_task"
    ]
   },
   "source": [
    "**Задание 16**\n",
    "\n",
    "Просмотрите список и найдите неявные дубликаты названия `hiphop`. Это могут быть названия с ошибками или альтернативные названия того же жанра.\n",
    "\n",
    "Вы увидите следующие неявные дубликаты:\n",
    "* *hip*,\n",
    "* *hop*,\n",
    "* *hip-hop*.\n",
    "\n",
    "Чтобы очистить от них таблицу используйте метод `replace()` с двумя аргументами: списком строк-дубликатов (включащий *hip*, *hop* и *hip-hop*) и строкой с правильным значением. Вам нужно исправить колонку `genre` в таблице `df`: заменить каждое значение из списка дубликатов на верное. Вместо `hip`, `hop` и `hip-hop` в таблице должно быть значение `hiphop`:"
   ]
  },
  {
   "cell_type": "code",
   "execution_count": 1009,
   "metadata": {
    "deletable": false,
    "id": "ErNDkmns_Zct"
   },
   "outputs": [],
   "source": [
    "duplicates = ['hip', 'hop', 'hip-hop'] # Устранение неявных дубликатов\n",
    "name = 'hiphop'\n",
    "df['genre'] = df['genre'].replace(duplicates, name)"
   ]
  },
  {
   "cell_type": "markdown",
   "metadata": {
    "deletable": false,
    "editable": false,
    "id": "zQKF16_RG15m",
    "tags": [
     "start_task"
    ]
   },
   "source": [
    "**Задание 17**\n",
    "\n",
    "Проверьте, что заменили неправильные названия:\n",
    "\n",
    "*   hip,\n",
    "*   hop,\n",
    "*   hip-hop.\n",
    "\n",
    "Выведите отсортированный список уникальных значений столбца `genre`:"
   ]
  },
  {
   "cell_type": "code",
   "execution_count": 1010,
   "metadata": {
    "deletable": false,
    "id": "wvixALnFG15m"
   },
   "outputs": [
    {
     "data": {
      "text/plain": [
       "array(['acid', 'acoustic', 'action', 'adult', 'africa', 'afrikaans',\n",
       "       'alternative', 'alternativepunk', 'ambient', 'americana',\n",
       "       'animated', 'anime', 'arabesk', 'arabic', 'arena',\n",
       "       'argentinetango', 'art', 'audiobook', 'author', 'avantgarde',\n",
       "       'axé', 'baile', 'balkan', 'beats', 'bigroom', 'black', 'bluegrass',\n",
       "       'blues', 'bollywood', 'bossa', 'brazilian', 'breakbeat', 'breaks',\n",
       "       'broadway', 'cantautori', 'cantopop', 'canzone', 'caribbean',\n",
       "       'caucasian', 'celtic', 'chamber', 'chanson', 'children', 'chill',\n",
       "       'chinese', 'choral', 'christian', 'christmas', 'classical',\n",
       "       'classicmetal', 'club', 'colombian', 'comedy', 'conjazz',\n",
       "       'contemporary', 'country', 'cuban', 'dance', 'dancehall',\n",
       "       'dancepop', 'dark', 'death', 'deep', 'deutschrock', 'deutschspr',\n",
       "       'dirty', 'disco', 'dnb', 'documentary', 'downbeat', 'downtempo',\n",
       "       'drum', 'dub', 'dubstep', 'eastern', 'easy', 'electronic',\n",
       "       'electropop', 'emo', 'entehno', 'epicmetal', 'estrada', 'ethnic',\n",
       "       'eurofolk', 'european', 'experimental', 'extrememetal', 'fado',\n",
       "       'fairytail', 'film', 'fitness', 'flamenco', 'folk', 'folklore',\n",
       "       'folkmetal', 'folkrock', 'folktronica', 'forró', 'frankreich',\n",
       "       'französisch', 'french', 'funk', 'future', 'gangsta', 'garage',\n",
       "       'german', 'ghazal', 'gitarre', 'glitch', 'gospel', 'gothic',\n",
       "       'grime', 'grunge', 'gypsy', 'handsup', \"hard'n'heavy\", 'hardcore',\n",
       "       'hardstyle', 'hardtechno', 'hiphop', 'historisch', 'holiday',\n",
       "       'horror', 'house', 'hymn', 'idm', 'independent', 'indian', 'indie',\n",
       "       'indipop', 'industrial', 'inspirational', 'instrumental',\n",
       "       'international', 'irish', 'jam', 'japanese', 'jazz', 'jewish',\n",
       "       'jpop', 'jungle', 'k-pop', 'karadeniz', 'karaoke', 'kayokyoku',\n",
       "       'korean', 'laiko', 'latin', 'latino', 'leftfield', 'local',\n",
       "       'lounge', 'loungeelectronic', 'lovers', 'malaysian', 'mandopop',\n",
       "       'marschmusik', 'meditative', 'mediterranean', 'melodic', 'metal',\n",
       "       'metalcore', 'mexican', 'middle', 'minimal', 'miscellaneous',\n",
       "       'modern', 'mood', 'mpb', 'muslim', 'native', 'neoklassik', 'neue',\n",
       "       'new', 'newage', 'newwave', 'nu', 'nujazz', 'numetal', 'oceania',\n",
       "       'old', 'opera', 'orchestral', 'other', 'piano', 'podcasts', 'pop',\n",
       "       'popdance', 'popelectronic', 'popeurodance', 'poprussian', 'post',\n",
       "       'posthardcore', 'postrock', 'power', 'progmetal', 'progressive',\n",
       "       'psychedelic', 'punjabi', 'punk', 'quebecois', 'ragga', 'ram',\n",
       "       'rancheras', 'rap', 'rave', 'reggae', 'reggaeton', 'regional',\n",
       "       'relax', 'religious', 'retro', 'rhythm', 'rnb', 'rnr', 'rock',\n",
       "       'rockabilly', 'rockalternative', 'rockindie', 'rockother',\n",
       "       'romance', 'roots', 'ruspop', 'rusrap', 'rusrock', 'russian',\n",
       "       'salsa', 'samba', 'scenic', 'schlager', 'self', 'sertanejo',\n",
       "       'shanson', 'shoegazing', 'showtunes', 'singer', 'ska', 'skarock',\n",
       "       'slow', 'smooth', 'soft', 'soul', 'soulful', 'sound', 'soundtrack',\n",
       "       'southern', 'specialty', 'speech', 'spiritual', 'sport',\n",
       "       'stonerrock', 'surf', 'swing', 'synthpop', 'synthrock',\n",
       "       'sängerportrait', 'tango', 'tanzorchester', 'taraftar', 'tatar',\n",
       "       'tech', 'techno', 'teen', 'thrash', 'top', 'traditional',\n",
       "       'tradjazz', 'trance', 'tribal', 'trip', 'triphop', 'tropical',\n",
       "       'türk', 'türkçe', 'ukrrock', 'unknown', 'urban', 'uzbek',\n",
       "       'variété', 'vi', 'videogame', 'vocal', 'western', 'world',\n",
       "       'worldbeat', 'ïîï', 'электроника'], dtype=object)"
      ]
     },
     "execution_count": 1010,
     "metadata": {},
     "output_type": "execute_result"
    }
   ],
   "source": [
    "df['genre'].sort_values().unique() # Проверка на неявные дубликаты"
   ]
  },
  {
   "cell_type": "markdown",
   "metadata": {
    "deletable": false,
    "editable": false,
    "id": "jz6a9-7HQUDd"
   },
   "source": [
    "**Выводы**\n",
    "\n",
    "Предобработка обнаружила три проблемы в данных:\n",
    "\n",
    "- нарушения в стиле заголовков,\n",
    "- пропущенные значения,\n",
    "- дубликаты — явные и неявные.\n",
    "\n",
    "Вы исправили заголовки, чтобы упростить работу с таблицей. Без дубликатов исследование станет более точным.\n",
    "\n",
    "Пропущенные значения вы заменили на `'unknown'`. Ещё предстоит увидеть, не повредят ли исследованию пропуски в колонке `genre`.\n",
    "\n",
    "Теперь можно перейти к проверке гипотез. "
   ]
  },
  {
   "cell_type": "markdown",
   "metadata": {
    "deletable": false,
    "editable": false,
    "id": "WttZHXH0SqKk"
   },
   "source": [
    "## Проверка гипотез"
   ]
  },
  {
   "cell_type": "markdown",
   "metadata": {
    "deletable": false,
    "editable": false,
    "id": "Im936VVi_Zcu"
   },
   "source": [
    "### Сравнение поведения пользователей двух столиц"
   ]
  },
  {
   "cell_type": "markdown",
   "metadata": {
    "deletable": false,
    "editable": false,
    "id": "nwt_MuaL_Zcu"
   },
   "source": [
    "Первая гипотеза утверждает, что пользователи по-разному слушают музыку в Москве и Санкт-Петербурге. Проверьте это предположение по данным о трёх днях недели — понедельнике, среде и пятнице. Для этого:\n",
    "\n",
    "* Разделите пользователей Москвы и Санкт-Петербурга.\n",
    "* Сравните, сколько треков послушала каждая группа пользователей в понедельник, среду и пятницу.\n"
   ]
  },
  {
   "cell_type": "markdown",
   "metadata": {
    "deletable": false,
    "editable": false,
    "id": "8Dw_YMmT_Zcu",
    "tags": [
     "start_task"
    ]
   },
   "source": [
    "**Задание 18**\n",
    "\n",
    "Для тренировки сначала выполните каждый из расчётов по отдельности. \n",
    "\n",
    "Оцените активность пользователей в каждом городе. Сгруппируйте данные по городу и посчитайте прослушивания в каждой группе.\n",
    "\n"
   ]
  },
  {
   "cell_type": "code",
   "execution_count": 1011,
   "metadata": {
    "deletable": false,
    "id": "0_Qs96oh_Zcu"
   },
   "outputs": [
    {
     "data": {
      "text/plain": [
       "city\n",
       "Moscow              42741\n",
       "Saint-Petersburg    18512\n",
       "Name: time, dtype: int64"
      ]
     },
     "execution_count": 1011,
     "metadata": {},
     "output_type": "execute_result"
    }
   ],
   "source": [
    "df.groupby('city')['time'].count() # Подсчёт прослушиваний в каждом городе"
   ]
  },
  {
   "cell_type": "markdown",
   "metadata": {
    "deletable": false,
    "editable": false,
    "id": "dzli3w8o_Zcu",
    "tags": [
     "start_task"
    ]
   },
   "source": [
    "В Москве прослушиваний больше, чем в Петербурге. Из этого не следует, что московские пользователи чаще слушают музыку. Просто самих пользователей в Москве больше.\n",
    "\n",
    "**Задание 19**\n",
    "\n",
    "Теперь сгруппируйте данные по дню недели и посчитайте прослушивания в понедельник, среду и пятницу. Учтите, что в данных есть информация о прослушиваниях только за эти дни.\n"
   ]
  },
  {
   "cell_type": "code",
   "execution_count": 1012,
   "metadata": {
    "deletable": false,
    "id": "uZMKjiJz_Zcu"
   },
   "outputs": [
    {
     "data": {
      "text/plain": [
       "day\n",
       "Friday       21840\n",
       "Monday       21354\n",
       "Wednesday    18059\n",
       "Name: time, dtype: int64"
      ]
     },
     "execution_count": 1012,
     "metadata": {},
     "output_type": "execute_result"
    }
   ],
   "source": [
    "df.groupby('day')['time'].count() # Подсчёт прослушиваний в каждый из трёх дней"
   ]
  },
  {
   "cell_type": "markdown",
   "metadata": {
    "deletable": false,
    "editable": false,
    "id": "cC2tNrlL_Zcu"
   },
   "source": [
    "В среднем пользователи из двух городов менее активны по средам. Но картина может измениться, если рассмотреть каждый город в отдельности."
   ]
  },
  {
   "cell_type": "markdown",
   "metadata": {
    "deletable": false,
    "editable": false,
    "id": "POzs8bGa_Zcu",
    "tags": [
     "start_task"
    ]
   },
   "source": [
    "**Задание 20**\n",
    "\n",
    "\n",
    "Вы видели, как работает группировка по городу и по дням недели. Теперь напишите функцию, которая объединит два эти расчёта.\n",
    "\n",
    "Создайте функцию `number_tracks()`, которая посчитает прослушивания для заданного дня и города. Ей понадобятся два параметра:\n",
    "* день недели,\n",
    "* название города.\n",
    "\n",
    "В функции сохраните в переменную строки исходной таблицы, у которых значение:\n",
    "  * в колонке `day` равно параметру `day`,\n",
    "  * в колонке `city` равно параметру `city`.\n",
    "\n",
    "Для этого примените последовательную фильтрацию с логической индексацией (или сложные логические выражения в одну строку, если вы уже знакомы с ними).\n",
    "\n",
    "Затем посчитайте значения в столбце `user_id` получившейся таблицы. Результат сохраните в новую переменную. Верните эту переменную из функции."
   ]
  },
  {
   "cell_type": "code",
   "execution_count": 1013,
   "metadata": {
    "deletable": false,
    "id": "Nz3GdQB1_Zcu"
   },
   "outputs": [],
   "source": [
    "def number_tracks(day, city):\n",
    "    track_list = df[df['day'] == day]\n",
    "    track_list = track_list[track_list['city'] == city]\n",
    "    track_list_count = track_list['user_id'].count()\n",
    "    return track_list_count \n",
    "\n",
    "# Функция для подсчёта прослушиваний для конкретного города и дня.\n",
    "# С помощью последовательной фильтрации с логической индексацией она \n",
    "# сначала получит из исходной таблицы строки с нужным днём,\n",
    "# затем из результата отфильтрует строки с нужным городом,\n",
    "# методом count() посчитает количество значений в колонке user_id. \n",
    "# Это количество функция вернёт в качестве результата"
   ]
  },
  {
   "cell_type": "markdown",
   "metadata": {
    "deletable": false,
    "editable": false,
    "id": "ytf7xFrFJQ2r",
    "tags": [
     "start_task"
    ]
   },
   "source": [
    "**Задание 21**\n",
    "\n",
    "Вызовите `number_tracks()` шесть раз, меняя значение параметров — так, чтобы получить данные для каждого города в каждый из трёх дней."
   ]
  },
  {
   "cell_type": "code",
   "execution_count": 1014,
   "metadata": {
    "deletable": false,
    "id": "rJcRATNQ_Zcu"
   },
   "outputs": [
    {
     "data": {
      "text/plain": [
       "15740"
      ]
     },
     "execution_count": 1014,
     "metadata": {},
     "output_type": "execute_result"
    }
   ],
   "source": [
    "number_tracks('Monday', 'Moscow') # количество прослушиваний в Москве по понедельникам"
   ]
  },
  {
   "cell_type": "code",
   "execution_count": 1015,
   "metadata": {
    "deletable": false,
    "id": "hq_ncZ5T_Zcu"
   },
   "outputs": [
    {
     "data": {
      "text/plain": [
       "5614"
      ]
     },
     "execution_count": 1015,
     "metadata": {},
     "output_type": "execute_result"
    }
   ],
   "source": [
    "number_tracks('Monday', 'Saint-Petersburg') # количество прослушиваний в Санкт-Петербурге по понедельникам"
   ]
  },
  {
   "cell_type": "code",
   "execution_count": 1016,
   "metadata": {
    "deletable": false,
    "id": "_NTy2VPU_Zcu"
   },
   "outputs": [
    {
     "data": {
      "text/plain": [
       "11056"
      ]
     },
     "execution_count": 1016,
     "metadata": {},
     "output_type": "execute_result"
    }
   ],
   "source": [
    "number_tracks('Wednesday', 'Moscow') # количество прослушиваний в Москве по средам "
   ]
  },
  {
   "cell_type": "code",
   "execution_count": 1017,
   "metadata": {
    "deletable": false,
    "id": "j2y3TAwo_Zcu"
   },
   "outputs": [
    {
     "data": {
      "text/plain": [
       "7003"
      ]
     },
     "execution_count": 1017,
     "metadata": {},
     "output_type": "execute_result"
    }
   ],
   "source": [
    "number_tracks('Wednesday', 'Saint-Petersburg') # количество прослушиваний в Санкт-Петербурге по средам"
   ]
  },
  {
   "cell_type": "code",
   "execution_count": 1018,
   "metadata": {
    "deletable": false,
    "id": "vYDw5u_K_Zcu"
   },
   "outputs": [
    {
     "data": {
      "text/plain": [
       "15945"
      ]
     },
     "execution_count": 1018,
     "metadata": {},
     "output_type": "execute_result"
    }
   ],
   "source": [
    "number_tracks('Friday', 'Moscow') # количество прослушиваний в Москве по пятницам"
   ]
  },
  {
   "cell_type": "code",
   "execution_count": 1019,
   "metadata": {
    "deletable": false,
    "id": "8_yzFtW3_Zcu"
   },
   "outputs": [
    {
     "data": {
      "text/plain": [
       "5895"
      ]
     },
     "execution_count": 1019,
     "metadata": {},
     "output_type": "execute_result"
    }
   ],
   "source": [
    "number_tracks('Friday', 'Saint-Petersburg') # количество прослушиваний в Санкт-Петербурге по пятницам"
   ]
  },
  {
   "cell_type": "markdown",
   "metadata": {
    "deletable": false,
    "editable": false,
    "id": "7QXffbO-_Zcu",
    "tags": [
     "start_task"
    ]
   },
   "source": [
    "**Задание 22**\n",
    "\n",
    "Создайте c помощью конструктора `pd.DataFrame` таблицу, где\n",
    "* названия колонок — `['city', 'monday', 'wednesday', 'friday']`;\n",
    "* данные — результаты, которые вы получили с помощью `number_tracks`."
   ]
  },
  {
   "cell_type": "code",
   "execution_count": 1020,
   "metadata": {
    "deletable": false,
    "id": "APAcLpOr_Zcu"
   },
   "outputs": [
    {
     "data": {
      "text/html": [
       "<div>\n",
       "<style scoped>\n",
       "    .dataframe tbody tr th:only-of-type {\n",
       "        vertical-align: middle;\n",
       "    }\n",
       "\n",
       "    .dataframe tbody tr th {\n",
       "        vertical-align: top;\n",
       "    }\n",
       "\n",
       "    .dataframe thead th {\n",
       "        text-align: right;\n",
       "    }\n",
       "</style>\n",
       "<table border=\"1\" class=\"dataframe\">\n",
       "  <thead>\n",
       "    <tr style=\"text-align: right;\">\n",
       "      <th></th>\n",
       "      <th>city</th>\n",
       "      <th>monday</th>\n",
       "      <th>wednesday</th>\n",
       "      <th>friday</th>\n",
       "    </tr>\n",
       "  </thead>\n",
       "  <tbody>\n",
       "    <tr>\n",
       "      <th>0</th>\n",
       "      <td>Москва</td>\n",
       "      <td>15740</td>\n",
       "      <td>11056</td>\n",
       "      <td>15945</td>\n",
       "    </tr>\n",
       "    <tr>\n",
       "      <th>1</th>\n",
       "      <td>Санкт-Петербург</td>\n",
       "      <td>5614</td>\n",
       "      <td>7003</td>\n",
       "      <td>5895</td>\n",
       "    </tr>\n",
       "  </tbody>\n",
       "</table>\n",
       "</div>"
      ],
      "text/plain": [
       "              city  monday  wednesday  friday\n",
       "0           Москва   15740      11056   15945\n",
       "1  Санкт-Петербург    5614       7003    5895"
      ]
     },
     "execution_count": 1020,
     "metadata": {},
     "output_type": "execute_result"
    }
   ],
   "source": [
    "info = pd.DataFrame(data=[['Москва', 15740, 11056, 15945], ['Санкт-Петербург', 5614, 7003, 5895]], columns=['city', 'monday', 'wednesday', 'friday']) # Таблица с результатами\n",
    "info"
   ]
  },
  {
   "cell_type": "markdown",
   "metadata": {
    "deletable": false,
    "editable": false,
    "id": "-EgPIHYu_Zcu"
   },
   "source": [
    "**Выводы**\n",
    "\n",
    "Данные показывают разницу поведения пользователей:\n",
    "\n",
    "- В Москве пик прослушиваний приходится на понедельник и пятницу, а в среду заметен спад.\n",
    "- В Петербурге, наоборот, больше слушают музыку по средам. Активность в понедельник и пятницу здесь почти в равной мере уступает среде.\n",
    "\n",
    "Значит, данные говорят в пользу первой гипотезы."
   ]
  },
  {
   "cell_type": "markdown",
   "metadata": {
    "deletable": false,
    "editable": false,
    "id": "atZAxtq4_Zcu"
   },
   "source": [
    "### Музыка в начале и в конце недели"
   ]
  },
  {
   "cell_type": "markdown",
   "metadata": {
    "deletable": false,
    "editable": false,
    "id": "eXrQqXFH_Zcu"
   },
   "source": [
    "Согласно второй гипотезе, утром в понедельник в Москве преобладают одни жанры, а в Петербурге — другие. Так же и вечером пятницы преобладают разные жанры — в зависимости от города."
   ]
  },
  {
   "cell_type": "markdown",
   "metadata": {
    "deletable": false,
    "editable": false,
    "id": "S8UcW6Hw_Zcu",
    "tags": [
     "start_task"
    ]
   },
   "source": [
    "**Задание 23**\n",
    "\n",
    "Сохраните таблицы с данными в две переменные:\n",
    "* по Москве — в `moscow_general`;\n",
    "* по Санкт-Петербургу — в `spb_general`."
   ]
  },
  {
   "cell_type": "code",
   "execution_count": 1021,
   "metadata": {
    "deletable": false,
    "id": "qeaFfM_P_Zcu"
   },
   "outputs": [],
   "source": [
    "moscow_general = df[df['city'] == 'Moscow'] # получение таблицы moscow_general из тех строк таблицы df, \n",
    "# для которых значение в столбце 'city' равно 'Moscow'\n"
   ]
  },
  {
   "cell_type": "code",
   "execution_count": 1022,
   "metadata": {
    "deletable": false,
    "id": "ORaVRKto_Zcu"
   },
   "outputs": [],
   "source": [
    "spb_general = df[df['city'] == 'Saint-Petersburg'] # получение таблицы spb_general из тех строк таблицы df,\n",
    "# для которых значение в столбце 'city' равно 'Saint-Petersburg'\n"
   ]
  },
  {
   "cell_type": "markdown",
   "metadata": {
    "deletable": false,
    "editable": false,
    "id": "MEJV-CX2_Zcu",
    "tags": [
     "start_task"
    ]
   },
   "source": [
    "**Задание 24**\n",
    "\n",
    "Создайте функцию `genre_weekday()` с четырьмя параметрами:\n",
    "* таблица (датафрейм) с данными,\n",
    "* день недели,\n",
    "* начальная временная метка в формате 'hh:mm', \n",
    "* последняя временная метка в формате 'hh:mm'.\n",
    "\n",
    "Функция должна вернуть информацию о топ-10 жанров тех треков, которые прослушивали в указанный день, в промежутке между двумя отметками времени."
   ]
  },
  {
   "cell_type": "code",
   "execution_count": 1023,
   "metadata": {
    "deletable": false,
    "id": "laJT9BYl_Zcu"
   },
   "outputs": [],
   "source": [
    "# Объявление функции genre_weekday() с параметрами table, day, time1, time2,\n",
    "# которая возвращает информацию о самых популярных жанрах в указанный день в\n",
    "# заданное время:\n",
    "# 1) в переменную genre_df сохраняются те строки переданного датафрейма table, для\n",
    "#    которых одновременно:\n",
    "#    - значение в столбце day равно значению аргумента day\n",
    "#    - значение в столбце time больше значения аргумента time1\n",
    "#    - значение в столбце time меньше значения аргумента time2\n",
    "#    Используйте последовательную фильтрацию с помощью логической индексации.\n",
    "# 2) сгруппировать датафрейм genre_df по столбцу genre, взять один из его\n",
    "#    столбцов и посчитать методом count() количество записей для каждого из\n",
    "#    присутствующих жанров, получившийся Series записать в переменную\n",
    "#    genre_df_count\n",
    "# 3) отсортировать genre_df_count по убыванию встречаемости и сохранить\n",
    "#    в переменную genre_df_sorted\n",
    "# 4) вернуть Series из 10 первых значений genre_df_sorted, это будут топ-10\n",
    "#    популярных жанров (в указанный день, в заданное время)\n",
    "\n",
    "def genre_weekday(df, day, time1, time2):\n",
    "    # последовательная фильтрация\n",
    "    # оставляем в genre_df только те строки df, у которых день равен day\n",
    "    genre_df = df[df['day'] == day] # ваш код здесь\n",
    "    # оставляем в genre_df только те строки genre_df, у которых время меньше time2\n",
    "    genre_df = genre_df[genre_df['time'] < time2] # ваш код здесь\n",
    "    # оставляем в genre_df только те строки genre_df, у которых время больше time1\n",
    "    genre_df = genre_df[genre_df['time'] > time1] # ваш код здесь\n",
    "    # сгруппируем отфильтрованный датафрейм по столбцу с названиями жанров, возьмём столбец genre и посчитаем кол-во строк для каждого жанра методом count()\n",
    "    genre_df_grouped = genre_df.groupby('genre')['genre'].count() # ваш код здесь\n",
    "    # отсортируем результат по убыванию (чтобы в начале Series оказались самые популярные жанры)\n",
    "    genre_df_sorted = genre_df_grouped.sort_values(ascending=False) # ваш код здесь\n",
    "    # вернём Series с 10 самыми популярными жанрами в указанный отрезок времени заданного дня\n",
    "    return genre_df_sorted[:10]"
   ]
  },
  {
   "cell_type": "markdown",
   "metadata": {
    "deletable": false,
    "editable": false,
    "id": "la2s2_PF_Zcu",
    "tags": [
     "start_task"
    ]
   },
   "source": [
    "**Задание 25**\n",
    "\n",
    "\n",
    "Cравните результаты функции `genre_weekday()` для Москвы и Санкт-Петербурга в понедельник утром (с 7:00 до 11:00) и в пятницу вечером (с 17:00 до 23:00):"
   ]
  },
  {
   "cell_type": "code",
   "execution_count": 1024,
   "metadata": {
    "deletable": false,
    "id": "yz7itPUQ_Zcu"
   },
   "outputs": [
    {
     "data": {
      "text/plain": [
       "genre\n",
       "pop            781\n",
       "dance          549\n",
       "electronic     480\n",
       "rock           474\n",
       "hiphop         286\n",
       "ruspop         186\n",
       "world          181\n",
       "rusrap         175\n",
       "alternative    164\n",
       "unknown        161\n",
       "Name: genre, dtype: int64"
      ]
     },
     "execution_count": 1024,
     "metadata": {},
     "output_type": "execute_result"
    }
   ],
   "source": [
    "genre_weekday(moscow_general, 'Monday', '07:00', '11:00') # вызов функции для утра понедельника в Москве (вместо df — таблица moscow_general)"
   ]
  },
  {
   "cell_type": "code",
   "execution_count": 1025,
   "metadata": {
    "deletable": false,
    "id": "kwUcHPdy_Zcu"
   },
   "outputs": [
    {
     "data": {
      "text/plain": [
       "genre\n",
       "pop            218\n",
       "dance          182\n",
       "rock           162\n",
       "electronic     147\n",
       "hiphop          80\n",
       "ruspop          64\n",
       "alternative     58\n",
       "rusrap          55\n",
       "jazz            44\n",
       "classical       40\n",
       "Name: genre, dtype: int64"
      ]
     },
     "execution_count": 1025,
     "metadata": {},
     "output_type": "execute_result"
    }
   ],
   "source": [
    "genre_weekday(spb_general, 'Monday', '07:00', '11:00') # вызов функции для утра понедельника в Петербурге (вместо df — таблица spb_general)"
   ]
  },
  {
   "cell_type": "code",
   "execution_count": 1026,
   "metadata": {
    "deletable": false,
    "id": "EzXVRE1o_Zcu"
   },
   "outputs": [
    {
     "data": {
      "text/plain": [
       "genre\n",
       "pop            713\n",
       "rock           517\n",
       "dance          495\n",
       "electronic     482\n",
       "hiphop         273\n",
       "world          208\n",
       "ruspop         170\n",
       "alternative    163\n",
       "classical      163\n",
       "rusrap         142\n",
       "Name: genre, dtype: int64"
      ]
     },
     "execution_count": 1026,
     "metadata": {},
     "output_type": "execute_result"
    }
   ],
   "source": [
    "genre_weekday(moscow_general, 'Friday', '17:00', '23:00') # вызов функции для вечера пятницы в Москве"
   ]
  },
  {
   "cell_type": "code",
   "execution_count": 1027,
   "metadata": {
    "deletable": false,
    "id": "JZaEKu5v_Zcu"
   },
   "outputs": [
    {
     "data": {
      "text/plain": [
       "genre\n",
       "pop            256\n",
       "electronic     216\n",
       "rock           216\n",
       "dance          210\n",
       "hiphop          97\n",
       "alternative     63\n",
       "jazz            61\n",
       "classical       60\n",
       "rusrap          59\n",
       "world           54\n",
       "Name: genre, dtype: int64"
      ]
     },
     "execution_count": 1027,
     "metadata": {},
     "output_type": "execute_result"
    }
   ],
   "source": [
    "genre_weekday(spb_general, 'Friday', '17:00', '23:00') # вызов функции для вечера пятницы в Петербурге"
   ]
  },
  {
   "cell_type": "markdown",
   "metadata": {
    "deletable": false,
    "editable": false,
    "id": "wrCe4MNX_Zcu"
   },
   "source": [
    "**Выводы**\n",
    "\n",
    "Если сравнить топ-10 жанров в понедельник утром, можно сделать такие выводы:\n",
    "\n",
    "1. В Москве и Петербурге слушают похожую музыку. Единственное отличие — в московский рейтинг вошёл жанр “world”, а в петербургский — джаз и классика.\n",
    "\n",
    "2. В Москве пропущенных значений оказалось так много, что значение `'unknown'` заняло десятое место среди самых популярных жанров. Значит, пропущенные значения занимают существенную долю в данных и угрожают достоверности исследования.\n",
    "\n",
    "Вечер пятницы не меняет эту картину. Некоторые жанры поднимаются немного выше, другие спускаются, но в целом топ-10 остаётся тем же самым.\n",
    "\n",
    "Таким образом, вторая гипотеза подтвердилась лишь частично:\n",
    "* Пользователи слушают похожую музыку в начале недели и в конце.\n",
    "* Разница между Москвой и Петербургом не слишком выражена. В Москве чаще слушают русскую популярную музыку, в Петербурге — джаз.\n",
    "\n",
    "Однако пропуски в данных ставят под сомнение этот результат. В Москве их так много, что рейтинг топ-10 мог бы выглядеть иначе, если бы не утерянные  данные о жанрах."
   ]
  },
  {
   "cell_type": "markdown",
   "metadata": {
    "deletable": false,
    "editable": false,
    "id": "JolODAqr_Zcu"
   },
   "source": [
    "### Жанровые предпочтения в Москве и Петербурге\n",
    "\n",
    "Гипотеза: Петербург — столица рэпа, музыку этого жанра там слушают чаще, чем в Москве.  А Москва — город контрастов, в котором, тем не менее, преобладает поп-музыка."
   ]
  },
  {
   "cell_type": "markdown",
   "metadata": {
    "deletable": false,
    "editable": false,
    "id": "DlegSvaT_Zcu",
    "tags": [
     "start_task"
    ]
   },
   "source": [
    "**Задание 26**\n",
    "\n",
    "Сгруппируйте таблицу `moscow_general` по жанру и посчитайте прослушивания треков каждого жанра методом `count()`. Затем отсортируйте результат в порядке убывания и сохраните его в таблице `moscow_genres`."
   ]
  },
  {
   "cell_type": "code",
   "execution_count": 1028,
   "metadata": {
    "deletable": false,
    "id": "r19lIPke_Zcu"
   },
   "outputs": [],
   "source": [
    "moscow_genres = moscow_general.groupby('genre')['genre'].count().sort_values(ascending=False) # одной строкой: группировка таблицы moscow_general по столбцу 'genre', \n",
    "# подсчёт числа значений 'genre' в этой группировке методом count(), \n",
    "# сортировка получившегося Series в порядке убывания и сохранение в moscow_genres"
   ]
  },
  {
   "cell_type": "markdown",
   "metadata": {
    "deletable": false,
    "editable": false,
    "id": "6kMuomxTiIr8",
    "tags": [
     "start_task"
    ]
   },
   "source": [
    "**Задание 27**\n",
    "\n",
    "Выведите на экран первые десять строк `moscow_genres`:"
   ]
  },
  {
   "cell_type": "code",
   "execution_count": 1029,
   "metadata": {
    "deletable": false,
    "id": "WhCSooF8_Zcv"
   },
   "outputs": [
    {
     "data": {
      "text/plain": [
       "genre\n",
       "pop            5892\n",
       "dance          4435\n",
       "rock           3965\n",
       "electronic     3786\n",
       "hiphop         2096\n",
       "classical      1616\n",
       "world          1432\n",
       "alternative    1379\n",
       "ruspop         1372\n",
       "rusrap         1161\n",
       "Name: genre, dtype: int64"
      ]
     },
     "execution_count": 1029,
     "metadata": {},
     "output_type": "execute_result"
    }
   ],
   "source": [
    "moscow_genres.head(10) # просмотр первых 10 строк moscow_genres"
   ]
  },
  {
   "cell_type": "markdown",
   "metadata": {
    "deletable": false,
    "editable": false,
    "id": "cnPG2vnN_Zcv",
    "tags": [
     "start_task"
    ]
   },
   "source": [
    "**Задание 28**\n",
    "\n",
    "\n",
    "Теперь повторите то же и для Петербурга.\n",
    "\n",
    "Сгруппируйте таблицу `spb_general` по жанру. Посчитайте прослушивания треков каждого жанра. Результат отсортируйте в порядке убывания и сохраните в таблице `spb_genres`:\n"
   ]
  },
  {
   "cell_type": "code",
   "execution_count": 1030,
   "metadata": {
    "deletable": false,
    "id": "gluLIpE7_Zcv"
   },
   "outputs": [],
   "source": [
    "spb_genres = spb_general.groupby('genre')['genre'].count().sort_values(ascending=False) # одной строкой: группировка таблицы spb_general по столбцу 'genre', \n",
    "# подсчёт числа значений 'genre' в этой группировке методом count(), \n",
    "# сортировка получившегося Series в порядке убывания и сохранение в spb_genres"
   ]
  },
  {
   "cell_type": "markdown",
   "metadata": {
    "deletable": false,
    "editable": false,
    "id": "5Doha_ODgyQ8",
    "tags": [
     "start_task"
    ]
   },
   "source": [
    "**Задание 29**\n",
    "\n",
    "Выведите на экран первые десять строк `spb_genres`:"
   ]
  },
  {
   "cell_type": "code",
   "execution_count": 1031,
   "metadata": {
    "deletable": false,
    "id": "uaGJHjVU_Zcv"
   },
   "outputs": [
    {
     "data": {
      "text/plain": [
       "genre\n",
       "pop            2431\n",
       "dance          1932\n",
       "rock           1879\n",
       "electronic     1736\n",
       "hiphop          960\n",
       "alternative     649\n",
       "classical       646\n",
       "rusrap          564\n",
       "ruspop          538\n",
       "world           515\n",
       "Name: genre, dtype: int64"
      ]
     },
     "execution_count": 1031,
     "metadata": {},
     "output_type": "execute_result"
    }
   ],
   "source": [
    "spb_genres.head(10) # просмотр первых 10 строк spb_genres"
   ]
  },
  {
   "cell_type": "markdown",
   "metadata": {
    "deletable": false,
    "editable": false,
    "id": "RY51YJYu_Zcv"
   },
   "source": [
    "**Выводы**"
   ]
  },
  {
   "cell_type": "markdown",
   "metadata": {
    "deletable": false,
    "editable": false,
    "id": "nVhnJEm__Zcv"
   },
   "source": [
    "Гипотеза частично подтвердилась:\n",
    "* Поп-музыка — самый популярный жанр в Москве, как и предполагала гипотеза. Более того, в топ-10 жанров встречается близкий жанр — русская популярная музыка.\n",
    "* Вопреки ожиданиям, рэп одинаково популярен в Москве и Петербурге. \n"
   ]
  },
  {
   "cell_type": "markdown",
   "metadata": {
    "deletable": false,
    "editable": false,
    "id": "ykKQ0N65_Zcv"
   },
   "source": [
    "## Итоги исследования"
   ]
  },
  {
   "cell_type": "markdown",
   "metadata": {
    "deletable": false,
    "editable": false,
    "id": "tjUwbHb3_Zcv"
   },
   "source": [
    "Вы проверили три гипотезы и установили:\n",
    "\n",
    "1. День недели по-разному влияет на активность пользователей в Москве и Петербурге. \n",
    "\n",
    "Первая гипотеза полностью подтвердилась.\n",
    "\n",
    "2. Музыкальные предпочтения не сильно меняются в течение недели — будь то Москва или Петербург. Небольшие различия заметны в начале недели, по понедельникам:\n",
    "* в Москве слушают музыку жанра “world”,\n",
    "* в Петербурге — джаз и классику.\n",
    "\n",
    "Таким образом, вторая гипотеза подтвердилась лишь отчасти. Этот результат мог оказаться иным, если бы не пропуски в данных.\n",
    "\n",
    "3. Во вкусах пользователей Москвы и Петербурга больше общего чем различий. Вопреки ожиданиям, предпочтения жанров в Петербурге напоминают московские.\n",
    "\n",
    "Третья гипотеза не подтвердилась. Если различия в предпочтениях и существуют, на основной массе пользователей они незаметны.\n",
    "\n",
    "**На практике исследования содержат проверки статистических гипотез.**\n",
    "Из данных одного сервиса не всегда можно сделать вывод о всех жителях города.\n",
    "Проверки статистических гипотез покажут, насколько они достоверны, исходя из имеющихся данных. \n",
    "С методами проверок гипотез вы ещё познакомитесь в следующих темах."
   ]
  }
 ],
 "metadata": {
  "ExecuteTimeLog": [
   {
    "duration": 60,
    "start_time": "2022-08-15T13:16:19.410Z"
   },
   {
    "duration": 7,
    "start_time": "2022-08-15T13:16:35.663Z"
   },
   {
    "duration": 12,
    "start_time": "2022-08-15T13:18:31.290Z"
   },
   {
    "duration": 440,
    "start_time": "2022-08-15T13:18:46.304Z"
   },
   {
    "duration": 558,
    "start_time": "2022-08-15T13:18:46.746Z"
   },
   {
    "duration": 19,
    "start_time": "2022-08-15T13:18:47.306Z"
   },
   {
    "duration": 33,
    "start_time": "2022-08-15T13:18:47.327Z"
   },
   {
    "duration": 3,
    "start_time": "2022-08-15T13:18:47.362Z"
   },
   {
    "duration": 7,
    "start_time": "2022-08-15T13:18:47.366Z"
   },
   {
    "duration": 19,
    "start_time": "2022-08-15T13:18:47.374Z"
   },
   {
    "duration": 12,
    "start_time": "2022-08-15T13:18:47.395Z"
   },
   {
    "duration": 9,
    "start_time": "2022-08-15T13:18:47.409Z"
   },
   {
    "duration": 8,
    "start_time": "2022-08-15T13:18:47.420Z"
   },
   {
    "duration": 7,
    "start_time": "2022-08-15T13:18:47.430Z"
   },
   {
    "duration": 7,
    "start_time": "2022-08-15T13:18:47.438Z"
   },
   {
    "duration": 7,
    "start_time": "2022-08-15T13:18:47.447Z"
   },
   {
    "duration": 7,
    "start_time": "2022-08-15T13:18:47.456Z"
   },
   {
    "duration": 16,
    "start_time": "2022-08-15T13:18:47.465Z"
   },
   {
    "duration": 6,
    "start_time": "2022-08-15T13:18:47.483Z"
   },
   {
    "duration": 17,
    "start_time": "2022-08-15T13:18:47.490Z"
   },
   {
    "duration": 8,
    "start_time": "2022-08-15T13:18:47.509Z"
   },
   {
    "duration": 5,
    "start_time": "2022-08-15T13:18:47.519Z"
   },
   {
    "duration": 10,
    "start_time": "2022-08-15T13:18:47.526Z"
   },
   {
    "duration": 9,
    "start_time": "2022-08-15T13:18:47.537Z"
   },
   {
    "duration": 5,
    "start_time": "2022-08-15T13:18:47.548Z"
   },
   {
    "duration": 6,
    "start_time": "2022-08-15T13:18:47.554Z"
   },
   {
    "duration": 5,
    "start_time": "2022-08-15T13:18:47.561Z"
   },
   {
    "duration": 8,
    "start_time": "2022-08-15T13:18:47.568Z"
   },
   {
    "duration": 28,
    "start_time": "2022-08-15T13:18:47.579Z"
   },
   {
    "duration": 6,
    "start_time": "2022-08-15T13:18:47.609Z"
   },
   {
    "duration": 7,
    "start_time": "2022-08-15T13:18:47.617Z"
   },
   {
    "duration": 20,
    "start_time": "2022-08-15T13:18:47.625Z"
   },
   {
    "duration": 92,
    "start_time": "2022-08-15T13:18:47.647Z"
   },
   {
    "duration": 0,
    "start_time": "2022-08-15T13:18:47.741Z"
   },
   {
    "duration": 0,
    "start_time": "2022-08-15T13:18:47.742Z"
   },
   {
    "duration": 0,
    "start_time": "2022-08-15T13:18:47.744Z"
   },
   {
    "duration": 0,
    "start_time": "2022-08-15T13:18:47.745Z"
   },
   {
    "duration": 0,
    "start_time": "2022-08-15T13:18:47.747Z"
   },
   {
    "duration": 0,
    "start_time": "2022-08-15T13:18:47.748Z"
   },
   {
    "duration": 0,
    "start_time": "2022-08-15T13:18:47.750Z"
   },
   {
    "duration": 0,
    "start_time": "2022-08-15T13:18:47.751Z"
   },
   {
    "duration": 3,
    "start_time": "2022-08-15T13:22:31.255Z"
   },
   {
    "duration": 236,
    "start_time": "2022-08-15T13:22:31.261Z"
   },
   {
    "duration": 13,
    "start_time": "2022-08-15T13:22:31.503Z"
   },
   {
    "duration": 32,
    "start_time": "2022-08-15T13:22:31.517Z"
   },
   {
    "duration": 4,
    "start_time": "2022-08-15T13:22:31.552Z"
   },
   {
    "duration": 15,
    "start_time": "2022-08-15T13:22:31.558Z"
   },
   {
    "duration": 21,
    "start_time": "2022-08-15T13:22:31.575Z"
   },
   {
    "duration": 12,
    "start_time": "2022-08-15T13:22:31.599Z"
   },
   {
    "duration": 10,
    "start_time": "2022-08-15T13:22:31.612Z"
   },
   {
    "duration": 20,
    "start_time": "2022-08-15T13:22:31.623Z"
   },
   {
    "duration": 28,
    "start_time": "2022-08-15T13:22:31.645Z"
   },
   {
    "duration": 11,
    "start_time": "2022-08-15T13:22:31.675Z"
   },
   {
    "duration": 25,
    "start_time": "2022-08-15T13:22:31.687Z"
   },
   {
    "duration": 14,
    "start_time": "2022-08-15T13:22:31.715Z"
   },
   {
    "duration": 14,
    "start_time": "2022-08-15T13:22:31.731Z"
   },
   {
    "duration": 19,
    "start_time": "2022-08-15T13:22:31.747Z"
   },
   {
    "duration": 44,
    "start_time": "2022-08-15T13:22:31.767Z"
   },
   {
    "duration": 20,
    "start_time": "2022-08-15T13:22:31.813Z"
   },
   {
    "duration": 24,
    "start_time": "2022-08-15T13:22:31.835Z"
   },
   {
    "duration": 11,
    "start_time": "2022-08-15T13:22:31.862Z"
   },
   {
    "duration": 39,
    "start_time": "2022-08-15T13:22:31.875Z"
   },
   {
    "duration": 21,
    "start_time": "2022-08-15T13:22:31.917Z"
   },
   {
    "duration": 25,
    "start_time": "2022-08-15T13:22:31.941Z"
   },
   {
    "duration": 16,
    "start_time": "2022-08-15T13:22:31.969Z"
   },
   {
    "duration": 69,
    "start_time": "2022-08-15T13:22:31.988Z"
   },
   {
    "duration": 20,
    "start_time": "2022-08-15T13:22:32.059Z"
   },
   {
    "duration": 30,
    "start_time": "2022-08-15T13:22:32.081Z"
   },
   {
    "duration": 38,
    "start_time": "2022-08-15T13:22:32.113Z"
   },
   {
    "duration": 32,
    "start_time": "2022-08-15T13:22:32.153Z"
   },
   {
    "duration": 80,
    "start_time": "2022-08-15T13:22:32.187Z"
   },
   {
    "duration": 0,
    "start_time": "2022-08-15T13:22:32.269Z"
   },
   {
    "duration": 0,
    "start_time": "2022-08-15T13:22:32.271Z"
   },
   {
    "duration": 0,
    "start_time": "2022-08-15T13:22:32.272Z"
   },
   {
    "duration": 0,
    "start_time": "2022-08-15T13:22:32.273Z"
   },
   {
    "duration": 0,
    "start_time": "2022-08-15T13:22:32.274Z"
   },
   {
    "duration": 0,
    "start_time": "2022-08-15T13:22:32.275Z"
   },
   {
    "duration": 0,
    "start_time": "2022-08-15T13:22:32.276Z"
   },
   {
    "duration": 0,
    "start_time": "2022-08-15T13:22:32.278Z"
   },
   {
    "duration": 2,
    "start_time": "2022-08-15T15:08:35.133Z"
   },
   {
    "duration": 264,
    "start_time": "2022-08-15T15:08:35.166Z"
   },
   {
    "duration": 13,
    "start_time": "2022-08-15T15:08:35.435Z"
   },
   {
    "duration": 42,
    "start_time": "2022-08-15T15:08:35.450Z"
   },
   {
    "duration": 37,
    "start_time": "2022-08-15T15:08:35.496Z"
   },
   {
    "duration": 14,
    "start_time": "2022-08-15T15:08:35.536Z"
   },
   {
    "duration": 29,
    "start_time": "2022-08-15T15:08:35.552Z"
   },
   {
    "duration": 51,
    "start_time": "2022-08-15T15:08:35.583Z"
   },
   {
    "duration": 13,
    "start_time": "2022-08-15T15:08:35.636Z"
   },
   {
    "duration": 28,
    "start_time": "2022-08-15T15:08:35.651Z"
   },
   {
    "duration": 86,
    "start_time": "2022-08-15T15:08:35.681Z"
   },
   {
    "duration": 19,
    "start_time": "2022-08-15T15:08:35.769Z"
   },
   {
    "duration": 44,
    "start_time": "2022-08-15T15:08:35.790Z"
   },
   {
    "duration": 11,
    "start_time": "2022-08-15T15:08:35.836Z"
   },
   {
    "duration": 24,
    "start_time": "2022-08-15T15:08:35.850Z"
   },
   {
    "duration": 10,
    "start_time": "2022-08-15T15:08:35.876Z"
   },
   {
    "duration": 42,
    "start_time": "2022-08-15T15:08:35.888Z"
   },
   {
    "duration": 17,
    "start_time": "2022-08-15T15:08:35.932Z"
   },
   {
    "duration": 9,
    "start_time": "2022-08-15T15:08:35.951Z"
   },
   {
    "duration": 17,
    "start_time": "2022-08-15T15:08:35.961Z"
   },
   {
    "duration": 56,
    "start_time": "2022-08-15T15:08:35.980Z"
   },
   {
    "duration": 42,
    "start_time": "2022-08-15T15:08:36.038Z"
   },
   {
    "duration": 39,
    "start_time": "2022-08-15T15:08:36.082Z"
   },
   {
    "duration": 26,
    "start_time": "2022-08-15T15:08:36.122Z"
   },
   {
    "duration": 32,
    "start_time": "2022-08-15T15:08:36.150Z"
   },
   {
    "duration": 45,
    "start_time": "2022-08-15T15:08:36.184Z"
   },
   {
    "duration": 7,
    "start_time": "2022-08-15T15:08:36.231Z"
   },
   {
    "duration": 40,
    "start_time": "2022-08-15T15:08:36.239Z"
   },
   {
    "duration": 10,
    "start_time": "2022-08-15T15:08:36.281Z"
   },
   {
    "duration": 246,
    "start_time": "2022-08-15T15:08:36.292Z"
   },
   {
    "duration": 0,
    "start_time": "2022-08-15T15:08:36.539Z"
   },
   {
    "duration": 0,
    "start_time": "2022-08-15T15:08:36.540Z"
   },
   {
    "duration": 0,
    "start_time": "2022-08-15T15:08:36.541Z"
   },
   {
    "duration": 0,
    "start_time": "2022-08-15T15:08:36.542Z"
   },
   {
    "duration": 0,
    "start_time": "2022-08-15T15:08:36.543Z"
   },
   {
    "duration": 0,
    "start_time": "2022-08-15T15:08:36.544Z"
   },
   {
    "duration": 0,
    "start_time": "2022-08-15T15:08:36.545Z"
   },
   {
    "duration": 0,
    "start_time": "2022-08-15T15:08:36.546Z"
   },
   {
    "duration": 3,
    "start_time": "2022-08-15T15:12:06.106Z"
   },
   {
    "duration": 234,
    "start_time": "2022-08-15T15:12:06.111Z"
   },
   {
    "duration": 11,
    "start_time": "2022-08-15T15:12:06.347Z"
   },
   {
    "duration": 114,
    "start_time": "2022-08-15T15:12:06.360Z"
   },
   {
    "duration": 52,
    "start_time": "2022-08-15T15:12:06.477Z"
   },
   {
    "duration": 27,
    "start_time": "2022-08-15T15:12:06.531Z"
   },
   {
    "duration": 63,
    "start_time": "2022-08-15T15:12:06.560Z"
   },
   {
    "duration": 30,
    "start_time": "2022-08-15T15:12:06.626Z"
   },
   {
    "duration": 19,
    "start_time": "2022-08-15T15:12:06.658Z"
   },
   {
    "duration": 60,
    "start_time": "2022-08-15T15:12:06.680Z"
   },
   {
    "duration": 34,
    "start_time": "2022-08-15T15:12:06.743Z"
   },
   {
    "duration": 5,
    "start_time": "2022-08-15T15:12:06.779Z"
   },
   {
    "duration": 6,
    "start_time": "2022-08-15T15:12:06.786Z"
   },
   {
    "duration": 43,
    "start_time": "2022-08-15T15:12:06.794Z"
   },
   {
    "duration": 18,
    "start_time": "2022-08-15T15:12:06.839Z"
   },
   {
    "duration": 24,
    "start_time": "2022-08-15T15:12:06.859Z"
   },
   {
    "duration": 29,
    "start_time": "2022-08-15T15:12:06.885Z"
   },
   {
    "duration": 28,
    "start_time": "2022-08-15T15:12:06.916Z"
   },
   {
    "duration": 13,
    "start_time": "2022-08-15T15:12:06.946Z"
   },
   {
    "duration": 7,
    "start_time": "2022-08-15T15:12:06.961Z"
   },
   {
    "duration": 11,
    "start_time": "2022-08-15T15:12:06.970Z"
   },
   {
    "duration": 7,
    "start_time": "2022-08-15T15:12:06.982Z"
   },
   {
    "duration": 42,
    "start_time": "2022-08-15T15:12:06.990Z"
   },
   {
    "duration": 12,
    "start_time": "2022-08-15T15:12:07.034Z"
   },
   {
    "duration": 31,
    "start_time": "2022-08-15T15:12:07.048Z"
   },
   {
    "duration": 6,
    "start_time": "2022-08-15T15:12:07.081Z"
   },
   {
    "duration": 43,
    "start_time": "2022-08-15T15:12:07.089Z"
   },
   {
    "duration": 7,
    "start_time": "2022-08-15T15:12:07.134Z"
   },
   {
    "duration": 17,
    "start_time": "2022-08-15T15:12:07.145Z"
   },
   {
    "duration": 105,
    "start_time": "2022-08-15T15:12:07.165Z"
   },
   {
    "duration": 0,
    "start_time": "2022-08-15T15:12:07.272Z"
   },
   {
    "duration": 0,
    "start_time": "2022-08-15T15:12:07.274Z"
   },
   {
    "duration": 0,
    "start_time": "2022-08-15T15:12:07.276Z"
   },
   {
    "duration": 0,
    "start_time": "2022-08-15T15:12:07.278Z"
   },
   {
    "duration": 0,
    "start_time": "2022-08-15T15:12:07.279Z"
   },
   {
    "duration": 0,
    "start_time": "2022-08-15T15:12:07.281Z"
   },
   {
    "duration": 0,
    "start_time": "2022-08-15T15:12:07.282Z"
   },
   {
    "duration": 0,
    "start_time": "2022-08-15T15:12:07.284Z"
   },
   {
    "duration": 403,
    "start_time": "2022-08-17T10:57:52.223Z"
   },
   {
    "duration": 517,
    "start_time": "2022-08-17T10:57:52.628Z"
   },
   {
    "duration": 33,
    "start_time": "2022-08-17T10:57:53.147Z"
   },
   {
    "duration": 38,
    "start_time": "2022-08-17T10:57:53.183Z"
   },
   {
    "duration": 4,
    "start_time": "2022-08-17T10:57:53.225Z"
   },
   {
    "duration": 9,
    "start_time": "2022-08-17T10:57:53.231Z"
   },
   {
    "duration": 16,
    "start_time": "2022-08-17T10:57:53.242Z"
   },
   {
    "duration": 22,
    "start_time": "2022-08-17T10:57:53.268Z"
   },
   {
    "duration": 40,
    "start_time": "2022-08-17T10:57:53.292Z"
   },
   {
    "duration": 8,
    "start_time": "2022-08-17T10:57:53.333Z"
   },
   {
    "duration": 8,
    "start_time": "2022-08-17T10:57:53.343Z"
   },
   {
    "duration": 6,
    "start_time": "2022-08-17T10:57:53.353Z"
   },
   {
    "duration": 30,
    "start_time": "2022-08-17T10:57:53.361Z"
   },
   {
    "duration": 8,
    "start_time": "2022-08-17T10:57:53.394Z"
   },
   {
    "duration": 10,
    "start_time": "2022-08-17T10:57:53.403Z"
   },
   {
    "duration": 6,
    "start_time": "2022-08-17T10:57:53.415Z"
   },
   {
    "duration": 9,
    "start_time": "2022-08-17T10:57:53.423Z"
   },
   {
    "duration": 10,
    "start_time": "2022-08-17T10:57:53.433Z"
   },
   {
    "duration": 7,
    "start_time": "2022-08-17T10:57:53.446Z"
   },
   {
    "duration": 6,
    "start_time": "2022-08-17T10:57:53.455Z"
   },
   {
    "duration": 22,
    "start_time": "2022-08-17T10:57:53.463Z"
   },
   {
    "duration": 6,
    "start_time": "2022-08-17T10:57:53.488Z"
   },
   {
    "duration": 10,
    "start_time": "2022-08-17T10:57:53.496Z"
   },
   {
    "duration": 11,
    "start_time": "2022-08-17T10:57:53.508Z"
   },
   {
    "duration": 10,
    "start_time": "2022-08-17T10:57:53.521Z"
   },
   {
    "duration": 11,
    "start_time": "2022-08-17T10:57:53.533Z"
   },
   {
    "duration": 9,
    "start_time": "2022-08-17T10:57:53.546Z"
   },
   {
    "duration": 4,
    "start_time": "2022-08-17T10:57:53.557Z"
   },
   {
    "duration": 17,
    "start_time": "2022-08-17T10:57:53.563Z"
   },
   {
    "duration": 72,
    "start_time": "2022-08-17T10:57:53.582Z"
   },
   {
    "duration": 0,
    "start_time": "2022-08-17T10:57:53.656Z"
   },
   {
    "duration": 0,
    "start_time": "2022-08-17T10:57:53.658Z"
   },
   {
    "duration": 0,
    "start_time": "2022-08-17T10:57:53.659Z"
   },
   {
    "duration": 0,
    "start_time": "2022-08-17T10:57:53.660Z"
   },
   {
    "duration": 0,
    "start_time": "2022-08-17T10:57:53.661Z"
   },
   {
    "duration": 0,
    "start_time": "2022-08-17T10:57:53.663Z"
   },
   {
    "duration": 0,
    "start_time": "2022-08-17T10:57:53.664Z"
   },
   {
    "duration": 0,
    "start_time": "2022-08-17T10:57:53.665Z"
   },
   {
    "duration": 2,
    "start_time": "2022-08-17T11:01:32.646Z"
   },
   {
    "duration": 199,
    "start_time": "2022-08-17T11:01:32.650Z"
   },
   {
    "duration": 23,
    "start_time": "2022-08-17T11:01:32.851Z"
   },
   {
    "duration": 36,
    "start_time": "2022-08-17T11:01:32.876Z"
   },
   {
    "duration": 4,
    "start_time": "2022-08-17T11:01:32.914Z"
   },
   {
    "duration": 12,
    "start_time": "2022-08-17T11:01:32.919Z"
   },
   {
    "duration": 24,
    "start_time": "2022-08-17T11:01:32.933Z"
   },
   {
    "duration": 5,
    "start_time": "2022-08-17T11:01:32.959Z"
   },
   {
    "duration": 43,
    "start_time": "2022-08-17T11:01:32.965Z"
   },
   {
    "duration": 46,
    "start_time": "2022-08-17T11:01:33.010Z"
   },
   {
    "duration": 2,
    "start_time": "2022-08-17T11:01:33.058Z"
   },
   {
    "duration": 33,
    "start_time": "2022-08-17T11:01:33.062Z"
   },
   {
    "duration": 27,
    "start_time": "2022-08-17T11:01:33.097Z"
   },
   {
    "duration": 6,
    "start_time": "2022-08-17T11:01:33.127Z"
   },
   {
    "duration": 4,
    "start_time": "2022-08-17T11:01:33.135Z"
   },
   {
    "duration": 5,
    "start_time": "2022-08-17T11:01:33.141Z"
   },
   {
    "duration": 8,
    "start_time": "2022-08-17T11:01:33.147Z"
   },
   {
    "duration": 8,
    "start_time": "2022-08-17T11:01:33.157Z"
   },
   {
    "duration": 18,
    "start_time": "2022-08-17T11:01:33.167Z"
   },
   {
    "duration": 7,
    "start_time": "2022-08-17T11:01:33.188Z"
   },
   {
    "duration": 14,
    "start_time": "2022-08-17T11:01:33.196Z"
   },
   {
    "duration": 5,
    "start_time": "2022-08-17T11:01:33.212Z"
   },
   {
    "duration": 15,
    "start_time": "2022-08-17T11:01:33.218Z"
   },
   {
    "duration": 22,
    "start_time": "2022-08-17T11:01:33.235Z"
   },
   {
    "duration": 47,
    "start_time": "2022-08-17T11:01:33.258Z"
   },
   {
    "duration": 14,
    "start_time": "2022-08-17T11:01:33.306Z"
   },
   {
    "duration": 22,
    "start_time": "2022-08-17T11:01:33.322Z"
   },
   {
    "duration": 17,
    "start_time": "2022-08-17T11:01:33.345Z"
   },
   {
    "duration": 35,
    "start_time": "2022-08-17T11:01:33.364Z"
   },
   {
    "duration": 77,
    "start_time": "2022-08-17T11:01:33.400Z"
   },
   {
    "duration": 0,
    "start_time": "2022-08-17T11:01:33.478Z"
   },
   {
    "duration": 0,
    "start_time": "2022-08-17T11:01:33.480Z"
   },
   {
    "duration": 0,
    "start_time": "2022-08-17T11:01:33.481Z"
   },
   {
    "duration": 0,
    "start_time": "2022-08-17T11:01:33.483Z"
   },
   {
    "duration": 0,
    "start_time": "2022-08-17T11:01:33.486Z"
   },
   {
    "duration": 0,
    "start_time": "2022-08-17T11:01:33.490Z"
   },
   {
    "duration": 0,
    "start_time": "2022-08-17T11:01:33.491Z"
   },
   {
    "duration": 0,
    "start_time": "2022-08-17T11:01:33.492Z"
   },
   {
    "duration": 3,
    "start_time": "2022-08-17T11:02:23.127Z"
   },
   {
    "duration": 313,
    "start_time": "2022-08-17T11:02:23.133Z"
   },
   {
    "duration": 41,
    "start_time": "2022-08-17T11:02:23.449Z"
   },
   {
    "duration": 161,
    "start_time": "2022-08-17T11:02:23.493Z"
   },
   {
    "duration": 40,
    "start_time": "2022-08-17T11:02:23.657Z"
   },
   {
    "duration": 33,
    "start_time": "2022-08-17T11:02:23.699Z"
   },
   {
    "duration": 21,
    "start_time": "2022-08-17T11:02:23.734Z"
   },
   {
    "duration": 93,
    "start_time": "2022-08-17T11:02:23.758Z"
   },
   {
    "duration": 78,
    "start_time": "2022-08-17T11:02:23.853Z"
   },
   {
    "duration": 21,
    "start_time": "2022-08-17T11:02:23.933Z"
   },
   {
    "duration": 74,
    "start_time": "2022-08-17T11:02:23.956Z"
   },
   {
    "duration": 31,
    "start_time": "2022-08-17T11:02:24.032Z"
   },
   {
    "duration": 34,
    "start_time": "2022-08-17T11:02:24.065Z"
   },
   {
    "duration": 17,
    "start_time": "2022-08-17T11:02:24.103Z"
   },
   {
    "duration": 31,
    "start_time": "2022-08-17T11:02:24.121Z"
   },
   {
    "duration": 47,
    "start_time": "2022-08-17T11:02:24.154Z"
   },
   {
    "duration": 35,
    "start_time": "2022-08-17T11:02:24.202Z"
   },
   {
    "duration": 14,
    "start_time": "2022-08-17T11:02:24.239Z"
   },
   {
    "duration": 39,
    "start_time": "2022-08-17T11:02:24.255Z"
   },
   {
    "duration": 34,
    "start_time": "2022-08-17T11:02:24.296Z"
   },
   {
    "duration": 20,
    "start_time": "2022-08-17T11:02:24.331Z"
   },
   {
    "duration": 53,
    "start_time": "2022-08-17T11:02:24.353Z"
   },
   {
    "duration": 30,
    "start_time": "2022-08-17T11:02:24.408Z"
   },
   {
    "duration": 19,
    "start_time": "2022-08-17T11:02:24.440Z"
   },
   {
    "duration": 43,
    "start_time": "2022-08-17T11:02:24.461Z"
   },
   {
    "duration": 17,
    "start_time": "2022-08-17T11:02:24.506Z"
   },
   {
    "duration": 31,
    "start_time": "2022-08-17T11:02:24.525Z"
   },
   {
    "duration": 48,
    "start_time": "2022-08-17T11:02:24.558Z"
   },
   {
    "duration": 20,
    "start_time": "2022-08-17T11:02:24.608Z"
   },
   {
    "duration": 89,
    "start_time": "2022-08-17T11:02:24.630Z"
   },
   {
    "duration": 0,
    "start_time": "2022-08-17T11:02:24.722Z"
   },
   {
    "duration": 0,
    "start_time": "2022-08-17T11:02:24.724Z"
   },
   {
    "duration": 0,
    "start_time": "2022-08-17T11:02:24.725Z"
   },
   {
    "duration": 0,
    "start_time": "2022-08-17T11:02:24.726Z"
   },
   {
    "duration": 0,
    "start_time": "2022-08-17T11:02:24.727Z"
   },
   {
    "duration": 0,
    "start_time": "2022-08-17T11:02:24.728Z"
   },
   {
    "duration": 0,
    "start_time": "2022-08-17T11:02:24.730Z"
   },
   {
    "duration": 0,
    "start_time": "2022-08-17T11:02:24.730Z"
   },
   {
    "duration": 4,
    "start_time": "2022-08-17T11:03:34.784Z"
   },
   {
    "duration": 220,
    "start_time": "2022-08-17T11:03:34.791Z"
   },
   {
    "duration": 12,
    "start_time": "2022-08-17T11:03:35.013Z"
   },
   {
    "duration": 52,
    "start_time": "2022-08-17T11:03:35.027Z"
   },
   {
    "duration": 5,
    "start_time": "2022-08-17T11:03:35.091Z"
   },
   {
    "duration": 7,
    "start_time": "2022-08-17T11:03:35.098Z"
   },
   {
    "duration": 10,
    "start_time": "2022-08-17T11:03:35.107Z"
   },
   {
    "duration": 5,
    "start_time": "2022-08-17T11:03:35.119Z"
   },
   {
    "duration": 53,
    "start_time": "2022-08-17T11:03:35.125Z"
   },
   {
    "duration": 24,
    "start_time": "2022-08-17T11:03:35.185Z"
   },
   {
    "duration": 25,
    "start_time": "2022-08-17T11:03:35.211Z"
   },
   {
    "duration": 86,
    "start_time": "2022-08-17T11:03:35.238Z"
   },
   {
    "duration": 0,
    "start_time": "2022-08-17T11:03:35.327Z"
   },
   {
    "duration": 0,
    "start_time": "2022-08-17T11:03:35.329Z"
   },
   {
    "duration": 0,
    "start_time": "2022-08-17T11:03:35.330Z"
   },
   {
    "duration": 0,
    "start_time": "2022-08-17T11:03:35.331Z"
   },
   {
    "duration": 0,
    "start_time": "2022-08-17T11:03:35.332Z"
   },
   {
    "duration": 0,
    "start_time": "2022-08-17T11:03:35.333Z"
   },
   {
    "duration": 0,
    "start_time": "2022-08-17T11:03:35.334Z"
   },
   {
    "duration": 0,
    "start_time": "2022-08-17T11:03:35.335Z"
   },
   {
    "duration": 0,
    "start_time": "2022-08-17T11:03:35.337Z"
   },
   {
    "duration": 0,
    "start_time": "2022-08-17T11:03:35.338Z"
   },
   {
    "duration": 0,
    "start_time": "2022-08-17T11:03:35.339Z"
   },
   {
    "duration": 0,
    "start_time": "2022-08-17T11:03:35.340Z"
   },
   {
    "duration": 0,
    "start_time": "2022-08-17T11:03:35.341Z"
   },
   {
    "duration": 0,
    "start_time": "2022-08-17T11:03:35.342Z"
   },
   {
    "duration": 0,
    "start_time": "2022-08-17T11:03:35.343Z"
   },
   {
    "duration": 1,
    "start_time": "2022-08-17T11:03:35.370Z"
   },
   {
    "duration": 0,
    "start_time": "2022-08-17T11:03:35.371Z"
   },
   {
    "duration": 0,
    "start_time": "2022-08-17T11:03:35.372Z"
   },
   {
    "duration": 0,
    "start_time": "2022-08-17T11:03:35.373Z"
   },
   {
    "duration": 0,
    "start_time": "2022-08-17T11:03:35.377Z"
   },
   {
    "duration": 0,
    "start_time": "2022-08-17T11:03:35.378Z"
   },
   {
    "duration": 0,
    "start_time": "2022-08-17T11:03:35.380Z"
   },
   {
    "duration": 0,
    "start_time": "2022-08-17T11:03:35.381Z"
   },
   {
    "duration": 0,
    "start_time": "2022-08-17T11:03:35.382Z"
   },
   {
    "duration": 0,
    "start_time": "2022-08-17T11:03:35.382Z"
   },
   {
    "duration": 0,
    "start_time": "2022-08-17T11:03:35.383Z"
   },
   {
    "duration": 3,
    "start_time": "2022-08-17T11:03:46.935Z"
   },
   {
    "duration": 217,
    "start_time": "2022-08-17T11:03:46.941Z"
   },
   {
    "duration": 16,
    "start_time": "2022-08-17T11:03:47.160Z"
   },
   {
    "duration": 61,
    "start_time": "2022-08-17T11:03:47.178Z"
   },
   {
    "duration": 2,
    "start_time": "2022-08-17T11:03:47.241Z"
   },
   {
    "duration": 8,
    "start_time": "2022-08-17T11:03:47.245Z"
   },
   {
    "duration": 9,
    "start_time": "2022-08-17T11:03:47.254Z"
   },
   {
    "duration": 34,
    "start_time": "2022-08-17T11:03:47.265Z"
   },
   {
    "duration": 34,
    "start_time": "2022-08-17T11:03:47.301Z"
   },
   {
    "duration": 19,
    "start_time": "2022-08-17T11:03:47.338Z"
   },
   {
    "duration": 32,
    "start_time": "2022-08-17T11:03:47.359Z"
   },
   {
    "duration": 101,
    "start_time": "2022-08-17T11:03:47.393Z"
   },
   {
    "duration": 2,
    "start_time": "2022-08-17T11:03:47.501Z"
   },
   {
    "duration": 12,
    "start_time": "2022-08-17T11:03:47.505Z"
   },
   {
    "duration": 5,
    "start_time": "2022-08-17T11:03:47.519Z"
   },
   {
    "duration": 8,
    "start_time": "2022-08-17T11:03:47.525Z"
   },
   {
    "duration": 5,
    "start_time": "2022-08-17T11:03:47.535Z"
   },
   {
    "duration": 5,
    "start_time": "2022-08-17T11:03:47.541Z"
   },
   {
    "duration": 27,
    "start_time": "2022-08-17T11:03:47.547Z"
   },
   {
    "duration": 74,
    "start_time": "2022-08-17T11:03:47.576Z"
   },
   {
    "duration": 61,
    "start_time": "2022-08-17T11:03:47.652Z"
   },
   {
    "duration": 10,
    "start_time": "2022-08-17T11:03:47.715Z"
   },
   {
    "duration": 13,
    "start_time": "2022-08-17T11:03:47.726Z"
   },
   {
    "duration": 15,
    "start_time": "2022-08-17T11:03:47.740Z"
   },
   {
    "duration": 53,
    "start_time": "2022-08-17T11:03:47.757Z"
   },
   {
    "duration": 15,
    "start_time": "2022-08-17T11:03:47.812Z"
   },
   {
    "duration": 17,
    "start_time": "2022-08-17T11:03:47.828Z"
   },
   {
    "duration": 51,
    "start_time": "2022-08-17T11:03:47.848Z"
   },
   {
    "duration": 15,
    "start_time": "2022-08-17T11:03:47.901Z"
   },
   {
    "duration": 115,
    "start_time": "2022-08-17T11:03:47.918Z"
   },
   {
    "duration": 0,
    "start_time": "2022-08-17T11:03:48.035Z"
   },
   {
    "duration": 0,
    "start_time": "2022-08-17T11:03:48.036Z"
   },
   {
    "duration": 0,
    "start_time": "2022-08-17T11:03:48.037Z"
   },
   {
    "duration": 0,
    "start_time": "2022-08-17T11:03:48.038Z"
   },
   {
    "duration": 0,
    "start_time": "2022-08-17T11:03:48.039Z"
   },
   {
    "duration": 0,
    "start_time": "2022-08-17T11:03:48.041Z"
   },
   {
    "duration": 0,
    "start_time": "2022-08-17T11:03:48.042Z"
   },
   {
    "duration": 0,
    "start_time": "2022-08-17T11:03:48.043Z"
   },
   {
    "duration": 3,
    "start_time": "2022-08-17T11:04:39.142Z"
   },
   {
    "duration": 238,
    "start_time": "2022-08-17T11:04:39.148Z"
   },
   {
    "duration": 18,
    "start_time": "2022-08-17T11:04:39.388Z"
   },
   {
    "duration": 47,
    "start_time": "2022-08-17T11:04:39.409Z"
   },
   {
    "duration": 24,
    "start_time": "2022-08-17T11:04:39.460Z"
   },
   {
    "duration": 34,
    "start_time": "2022-08-17T11:04:39.486Z"
   },
   {
    "duration": 19,
    "start_time": "2022-08-17T11:04:39.522Z"
   },
   {
    "duration": 36,
    "start_time": "2022-08-17T11:04:39.543Z"
   },
   {
    "duration": 62,
    "start_time": "2022-08-17T11:04:39.585Z"
   },
   {
    "duration": 30,
    "start_time": "2022-08-17T11:04:39.649Z"
   },
   {
    "duration": 54,
    "start_time": "2022-08-17T11:04:39.681Z"
   },
   {
    "duration": 86,
    "start_time": "2022-08-17T11:04:39.737Z"
   },
   {
    "duration": 98,
    "start_time": "2022-08-17T11:04:39.825Z"
   },
   {
    "duration": 3,
    "start_time": "2022-08-17T11:04:39.926Z"
   },
   {
    "duration": 9,
    "start_time": "2022-08-17T11:04:39.931Z"
   },
   {
    "duration": 12,
    "start_time": "2022-08-17T11:04:39.942Z"
   },
   {
    "duration": 20,
    "start_time": "2022-08-17T11:04:39.956Z"
   },
   {
    "duration": 13,
    "start_time": "2022-08-17T11:04:39.982Z"
   },
   {
    "duration": 16,
    "start_time": "2022-08-17T11:04:39.998Z"
   },
   {
    "duration": 12,
    "start_time": "2022-08-17T11:04:40.016Z"
   },
   {
    "duration": 29,
    "start_time": "2022-08-17T11:04:40.031Z"
   },
   {
    "duration": 25,
    "start_time": "2022-08-17T11:04:40.062Z"
   },
   {
    "duration": 11,
    "start_time": "2022-08-17T11:04:40.089Z"
   },
   {
    "duration": 7,
    "start_time": "2022-08-17T11:04:40.102Z"
   },
   {
    "duration": 8,
    "start_time": "2022-08-17T11:04:40.110Z"
   },
   {
    "duration": 4,
    "start_time": "2022-08-17T11:04:40.121Z"
   },
   {
    "duration": 5,
    "start_time": "2022-08-17T11:04:40.127Z"
   },
   {
    "duration": 6,
    "start_time": "2022-08-17T11:04:40.134Z"
   },
   {
    "duration": 10,
    "start_time": "2022-08-17T11:04:40.142Z"
   },
   {
    "duration": 88,
    "start_time": "2022-08-17T11:04:40.154Z"
   },
   {
    "duration": 0,
    "start_time": "2022-08-17T11:04:40.244Z"
   },
   {
    "duration": 0,
    "start_time": "2022-08-17T11:04:40.245Z"
   },
   {
    "duration": 0,
    "start_time": "2022-08-17T11:04:40.248Z"
   },
   {
    "duration": 0,
    "start_time": "2022-08-17T11:04:40.249Z"
   },
   {
    "duration": 0,
    "start_time": "2022-08-17T11:04:40.250Z"
   },
   {
    "duration": 0,
    "start_time": "2022-08-17T11:04:40.252Z"
   },
   {
    "duration": 0,
    "start_time": "2022-08-17T11:04:40.253Z"
   },
   {
    "duration": 0,
    "start_time": "2022-08-17T11:04:40.254Z"
   },
   {
    "duration": 3,
    "start_time": "2022-08-17T11:05:23.908Z"
   },
   {
    "duration": 207,
    "start_time": "2022-08-17T11:05:23.912Z"
   },
   {
    "duration": 12,
    "start_time": "2022-08-17T11:05:24.121Z"
   },
   {
    "duration": 51,
    "start_time": "2022-08-17T11:05:24.134Z"
   },
   {
    "duration": 16,
    "start_time": "2022-08-17T11:05:24.188Z"
   },
   {
    "duration": 10,
    "start_time": "2022-08-17T11:05:24.206Z"
   },
   {
    "duration": 13,
    "start_time": "2022-08-17T11:05:24.218Z"
   },
   {
    "duration": 4,
    "start_time": "2022-08-17T11:05:24.233Z"
   },
   {
    "duration": 42,
    "start_time": "2022-08-17T11:05:24.239Z"
   },
   {
    "duration": 34,
    "start_time": "2022-08-17T11:05:24.283Z"
   },
   {
    "duration": 24,
    "start_time": "2022-08-17T11:05:24.319Z"
   },
   {
    "duration": 80,
    "start_time": "2022-08-17T11:05:24.345Z"
   },
   {
    "duration": 96,
    "start_time": "2022-08-17T11:05:24.427Z"
   },
   {
    "duration": 86,
    "start_time": "2022-08-17T11:05:24.526Z"
   },
   {
    "duration": 2,
    "start_time": "2022-08-17T11:05:24.613Z"
   },
   {
    "duration": 8,
    "start_time": "2022-08-17T11:05:24.617Z"
   },
   {
    "duration": 10,
    "start_time": "2022-08-17T11:05:24.626Z"
   },
   {
    "duration": 11,
    "start_time": "2022-08-17T11:05:24.638Z"
   },
   {
    "duration": 5,
    "start_time": "2022-08-17T11:05:24.651Z"
   },
   {
    "duration": 17,
    "start_time": "2022-08-17T11:05:24.658Z"
   },
   {
    "duration": 14,
    "start_time": "2022-08-17T11:05:24.683Z"
   },
   {
    "duration": 5,
    "start_time": "2022-08-17T11:05:24.699Z"
   },
   {
    "duration": 6,
    "start_time": "2022-08-17T11:05:24.706Z"
   },
   {
    "duration": 5,
    "start_time": "2022-08-17T11:05:24.713Z"
   },
   {
    "duration": 10,
    "start_time": "2022-08-17T11:05:24.719Z"
   },
   {
    "duration": 5,
    "start_time": "2022-08-17T11:05:24.730Z"
   },
   {
    "duration": 7,
    "start_time": "2022-08-17T11:05:24.736Z"
   },
   {
    "duration": 5,
    "start_time": "2022-08-17T11:05:24.745Z"
   },
   {
    "duration": 7,
    "start_time": "2022-08-17T11:05:24.752Z"
   },
   {
    "duration": 122,
    "start_time": "2022-08-17T11:05:24.761Z"
   },
   {
    "duration": 0,
    "start_time": "2022-08-17T11:05:24.888Z"
   },
   {
    "duration": 0,
    "start_time": "2022-08-17T11:05:24.889Z"
   },
   {
    "duration": 0,
    "start_time": "2022-08-17T11:05:24.891Z"
   },
   {
    "duration": 0,
    "start_time": "2022-08-17T11:05:24.893Z"
   },
   {
    "duration": 0,
    "start_time": "2022-08-17T11:05:24.893Z"
   },
   {
    "duration": 0,
    "start_time": "2022-08-17T11:05:24.894Z"
   },
   {
    "duration": 0,
    "start_time": "2022-08-17T11:05:24.896Z"
   },
   {
    "duration": 0,
    "start_time": "2022-08-17T11:05:24.897Z"
   },
   {
    "duration": 114,
    "start_time": "2022-08-17T11:06:14.168Z"
   },
   {
    "duration": 101,
    "start_time": "2022-08-17T11:06:17.339Z"
   },
   {
    "duration": 78,
    "start_time": "2022-08-17T11:06:34.629Z"
   },
   {
    "duration": 80,
    "start_time": "2022-08-17T11:07:35.307Z"
   },
   {
    "duration": 72,
    "start_time": "2022-08-17T11:07:39.560Z"
   },
   {
    "duration": 3,
    "start_time": "2022-08-17T11:07:47.626Z"
   },
   {
    "duration": 196,
    "start_time": "2022-08-17T11:07:47.631Z"
   },
   {
    "duration": 11,
    "start_time": "2022-08-17T11:07:47.829Z"
   },
   {
    "duration": 50,
    "start_time": "2022-08-17T11:07:47.842Z"
   },
   {
    "duration": 3,
    "start_time": "2022-08-17T11:07:47.894Z"
   },
   {
    "duration": 9,
    "start_time": "2022-08-17T11:07:47.898Z"
   },
   {
    "duration": 10,
    "start_time": "2022-08-17T11:07:47.909Z"
   },
   {
    "duration": 5,
    "start_time": "2022-08-17T11:07:47.921Z"
   },
   {
    "duration": 45,
    "start_time": "2022-08-17T11:07:47.928Z"
   },
   {
    "duration": 21,
    "start_time": "2022-08-17T11:07:47.979Z"
   },
   {
    "duration": 32,
    "start_time": "2022-08-17T11:07:48.002Z"
   },
   {
    "duration": 85,
    "start_time": "2022-08-17T11:07:48.036Z"
   },
   {
    "duration": 89,
    "start_time": "2022-08-17T11:07:48.123Z"
   },
   {
    "duration": 75,
    "start_time": "2022-08-17T11:07:48.215Z"
   },
   {
    "duration": 3,
    "start_time": "2022-08-17T11:07:48.291Z"
   },
   {
    "duration": 5,
    "start_time": "2022-08-17T11:07:48.296Z"
   },
   {
    "duration": 6,
    "start_time": "2022-08-17T11:07:48.303Z"
   },
   {
    "duration": 8,
    "start_time": "2022-08-17T11:07:48.311Z"
   },
   {
    "duration": 5,
    "start_time": "2022-08-17T11:07:48.321Z"
   },
   {
    "duration": 6,
    "start_time": "2022-08-17T11:07:48.328Z"
   },
   {
    "duration": 33,
    "start_time": "2022-08-17T11:07:48.336Z"
   },
   {
    "duration": 2,
    "start_time": "2022-08-17T11:07:48.371Z"
   },
   {
    "duration": 3,
    "start_time": "2022-08-17T11:07:48.375Z"
   },
   {
    "duration": 6,
    "start_time": "2022-08-17T11:07:48.379Z"
   },
   {
    "duration": 11,
    "start_time": "2022-08-17T11:07:48.387Z"
   },
   {
    "duration": 11,
    "start_time": "2022-08-17T11:07:48.399Z"
   },
   {
    "duration": 8,
    "start_time": "2022-08-17T11:07:48.412Z"
   },
   {
    "duration": 7,
    "start_time": "2022-08-17T11:07:48.422Z"
   },
   {
    "duration": 4,
    "start_time": "2022-08-17T11:07:48.431Z"
   },
   {
    "duration": 106,
    "start_time": "2022-08-17T11:07:48.437Z"
   },
   {
    "duration": 0,
    "start_time": "2022-08-17T11:07:48.545Z"
   },
   {
    "duration": 0,
    "start_time": "2022-08-17T11:07:48.547Z"
   },
   {
    "duration": 0,
    "start_time": "2022-08-17T11:07:48.549Z"
   },
   {
    "duration": 0,
    "start_time": "2022-08-17T11:07:48.550Z"
   },
   {
    "duration": 0,
    "start_time": "2022-08-17T11:07:48.552Z"
   },
   {
    "duration": 0,
    "start_time": "2022-08-17T11:07:48.554Z"
   },
   {
    "duration": 0,
    "start_time": "2022-08-17T11:07:48.555Z"
   },
   {
    "duration": 0,
    "start_time": "2022-08-17T11:07:48.557Z"
   },
   {
    "duration": 3,
    "start_time": "2022-08-17T11:11:08.109Z"
   },
   {
    "duration": 213,
    "start_time": "2022-08-17T11:11:08.114Z"
   },
   {
    "duration": 13,
    "start_time": "2022-08-17T11:11:08.329Z"
   },
   {
    "duration": 51,
    "start_time": "2022-08-17T11:11:08.344Z"
   },
   {
    "duration": 25,
    "start_time": "2022-08-17T11:11:08.398Z"
   },
   {
    "duration": 26,
    "start_time": "2022-08-17T11:11:08.425Z"
   },
   {
    "duration": 40,
    "start_time": "2022-08-17T11:11:08.453Z"
   },
   {
    "duration": 33,
    "start_time": "2022-08-17T11:11:08.495Z"
   },
   {
    "duration": 39,
    "start_time": "2022-08-17T11:11:08.530Z"
   },
   {
    "duration": 37,
    "start_time": "2022-08-17T11:11:08.573Z"
   },
   {
    "duration": 33,
    "start_time": "2022-08-17T11:11:08.611Z"
   },
   {
    "duration": 116,
    "start_time": "2022-08-17T11:11:08.647Z"
   },
   {
    "duration": 79,
    "start_time": "2022-08-17T11:11:08.767Z"
   },
   {
    "duration": 79,
    "start_time": "2022-08-17T11:11:08.848Z"
   },
   {
    "duration": 7,
    "start_time": "2022-08-17T11:11:08.929Z"
   },
   {
    "duration": 4,
    "start_time": "2022-08-17T11:11:08.938Z"
   },
   {
    "duration": 7,
    "start_time": "2022-08-17T11:11:08.944Z"
   },
   {
    "duration": 18,
    "start_time": "2022-08-17T11:11:08.953Z"
   },
   {
    "duration": 24,
    "start_time": "2022-08-17T11:11:08.972Z"
   },
   {
    "duration": 11,
    "start_time": "2022-08-17T11:11:08.998Z"
   },
   {
    "duration": 6,
    "start_time": "2022-08-17T11:11:09.012Z"
   },
   {
    "duration": 7,
    "start_time": "2022-08-17T11:11:09.020Z"
   },
   {
    "duration": 6,
    "start_time": "2022-08-17T11:11:09.029Z"
   },
   {
    "duration": 26,
    "start_time": "2022-08-17T11:11:09.037Z"
   },
   {
    "duration": 27,
    "start_time": "2022-08-17T11:11:09.065Z"
   },
   {
    "duration": 9,
    "start_time": "2022-08-17T11:11:09.094Z"
   },
   {
    "duration": 6,
    "start_time": "2022-08-17T11:11:09.105Z"
   },
   {
    "duration": 4,
    "start_time": "2022-08-17T11:11:09.113Z"
   },
   {
    "duration": 4,
    "start_time": "2022-08-17T11:11:09.119Z"
   },
   {
    "duration": 99,
    "start_time": "2022-08-17T11:11:09.125Z"
   },
   {
    "duration": 0,
    "start_time": "2022-08-17T11:11:09.226Z"
   },
   {
    "duration": 0,
    "start_time": "2022-08-17T11:11:09.227Z"
   },
   {
    "duration": 0,
    "start_time": "2022-08-17T11:11:09.229Z"
   },
   {
    "duration": 0,
    "start_time": "2022-08-17T11:11:09.231Z"
   },
   {
    "duration": 0,
    "start_time": "2022-08-17T11:11:09.232Z"
   },
   {
    "duration": 0,
    "start_time": "2022-08-17T11:11:09.233Z"
   },
   {
    "duration": 0,
    "start_time": "2022-08-17T11:11:09.234Z"
   },
   {
    "duration": 0,
    "start_time": "2022-08-17T11:11:09.235Z"
   },
   {
    "duration": 3,
    "start_time": "2022-08-17T11:13:27.124Z"
   },
   {
    "duration": 176,
    "start_time": "2022-08-17T11:13:27.129Z"
   },
   {
    "duration": 11,
    "start_time": "2022-08-17T11:13:27.306Z"
   },
   {
    "duration": 27,
    "start_time": "2022-08-17T11:13:27.319Z"
   },
   {
    "duration": 2,
    "start_time": "2022-08-17T11:13:27.367Z"
   },
   {
    "duration": 12,
    "start_time": "2022-08-17T11:13:27.371Z"
   },
   {
    "duration": 15,
    "start_time": "2022-08-17T11:13:27.385Z"
   },
   {
    "duration": 3,
    "start_time": "2022-08-17T11:13:27.402Z"
   },
   {
    "duration": 23,
    "start_time": "2022-08-17T11:13:27.407Z"
   },
   {
    "duration": 16,
    "start_time": "2022-08-17T11:13:27.432Z"
   },
   {
    "duration": 42,
    "start_time": "2022-08-17T11:13:27.450Z"
   },
   {
    "duration": 75,
    "start_time": "2022-08-17T11:13:27.497Z"
   },
   {
    "duration": 69,
    "start_time": "2022-08-17T11:13:27.574Z"
   },
   {
    "duration": 101,
    "start_time": "2022-08-17T11:13:27.647Z"
   },
   {
    "duration": 52,
    "start_time": "2022-08-17T11:13:27.750Z"
   },
   {
    "duration": 0,
    "start_time": "2022-08-17T11:13:27.804Z"
   },
   {
    "duration": 0,
    "start_time": "2022-08-17T11:13:27.805Z"
   },
   {
    "duration": 0,
    "start_time": "2022-08-17T11:13:27.806Z"
   },
   {
    "duration": 0,
    "start_time": "2022-08-17T11:13:27.807Z"
   },
   {
    "duration": 0,
    "start_time": "2022-08-17T11:13:27.807Z"
   },
   {
    "duration": 0,
    "start_time": "2022-08-17T11:13:27.809Z"
   },
   {
    "duration": 0,
    "start_time": "2022-08-17T11:13:27.809Z"
   },
   {
    "duration": 0,
    "start_time": "2022-08-17T11:13:27.810Z"
   },
   {
    "duration": 0,
    "start_time": "2022-08-17T11:13:27.811Z"
   },
   {
    "duration": 0,
    "start_time": "2022-08-17T11:13:27.812Z"
   },
   {
    "duration": 0,
    "start_time": "2022-08-17T11:13:27.814Z"
   },
   {
    "duration": 0,
    "start_time": "2022-08-17T11:13:27.815Z"
   },
   {
    "duration": 0,
    "start_time": "2022-08-17T11:13:27.816Z"
   },
   {
    "duration": 0,
    "start_time": "2022-08-17T11:13:27.817Z"
   },
   {
    "duration": 0,
    "start_time": "2022-08-17T11:13:27.818Z"
   },
   {
    "duration": 0,
    "start_time": "2022-08-17T11:13:27.819Z"
   },
   {
    "duration": 0,
    "start_time": "2022-08-17T11:13:27.820Z"
   },
   {
    "duration": 0,
    "start_time": "2022-08-17T11:13:27.821Z"
   },
   {
    "duration": 0,
    "start_time": "2022-08-17T11:13:27.822Z"
   },
   {
    "duration": 0,
    "start_time": "2022-08-17T11:13:27.823Z"
   },
   {
    "duration": 0,
    "start_time": "2022-08-17T11:13:27.825Z"
   },
   {
    "duration": 0,
    "start_time": "2022-08-17T11:13:27.825Z"
   },
   {
    "duration": 0,
    "start_time": "2022-08-17T11:13:27.868Z"
   },
   {
    "duration": 4,
    "start_time": "2022-08-17T11:15:46.619Z"
   },
   {
    "duration": 254,
    "start_time": "2022-08-17T11:15:46.626Z"
   },
   {
    "duration": 14,
    "start_time": "2022-08-17T11:15:46.883Z"
   },
   {
    "duration": 35,
    "start_time": "2022-08-17T11:15:46.900Z"
   },
   {
    "duration": 2,
    "start_time": "2022-08-17T11:15:46.938Z"
   },
   {
    "duration": 28,
    "start_time": "2022-08-17T11:15:46.942Z"
   },
   {
    "duration": 13,
    "start_time": "2022-08-17T11:15:46.973Z"
   },
   {
    "duration": 5,
    "start_time": "2022-08-17T11:15:46.990Z"
   },
   {
    "duration": 33,
    "start_time": "2022-08-17T11:15:46.997Z"
   },
   {
    "duration": 57,
    "start_time": "2022-08-17T11:15:47.032Z"
   },
   {
    "duration": 29,
    "start_time": "2022-08-17T11:15:47.091Z"
   },
   {
    "duration": 106,
    "start_time": "2022-08-17T11:15:47.122Z"
   },
   {
    "duration": 99,
    "start_time": "2022-08-17T11:15:47.231Z"
   },
   {
    "duration": 88,
    "start_time": "2022-08-17T11:15:47.334Z"
   },
   {
    "duration": 47,
    "start_time": "2022-08-17T11:15:47.424Z"
   },
   {
    "duration": 4,
    "start_time": "2022-08-17T11:15:47.473Z"
   },
   {
    "duration": 16,
    "start_time": "2022-08-17T11:15:47.479Z"
   },
   {
    "duration": 8,
    "start_time": "2022-08-17T11:15:47.498Z"
   },
   {
    "duration": 11,
    "start_time": "2022-08-17T11:15:47.508Z"
   },
   {
    "duration": 9,
    "start_time": "2022-08-17T11:15:47.521Z"
   },
   {
    "duration": 20,
    "start_time": "2022-08-17T11:15:47.533Z"
   },
   {
    "duration": 6,
    "start_time": "2022-08-17T11:15:47.555Z"
   },
   {
    "duration": 8,
    "start_time": "2022-08-17T11:15:47.563Z"
   },
   {
    "duration": 9,
    "start_time": "2022-08-17T11:15:47.573Z"
   },
   {
    "duration": 14,
    "start_time": "2022-08-17T11:15:47.584Z"
   },
   {
    "duration": 8,
    "start_time": "2022-08-17T11:15:47.601Z"
   },
   {
    "duration": 10,
    "start_time": "2022-08-17T11:15:47.611Z"
   },
   {
    "duration": 10,
    "start_time": "2022-08-17T11:15:47.623Z"
   },
   {
    "duration": 5,
    "start_time": "2022-08-17T11:15:47.635Z"
   },
   {
    "duration": 92,
    "start_time": "2022-08-17T11:15:47.642Z"
   },
   {
    "duration": 0,
    "start_time": "2022-08-17T11:15:47.736Z"
   },
   {
    "duration": 0,
    "start_time": "2022-08-17T11:15:47.738Z"
   },
   {
    "duration": 0,
    "start_time": "2022-08-17T11:15:47.740Z"
   },
   {
    "duration": 0,
    "start_time": "2022-08-17T11:15:47.741Z"
   },
   {
    "duration": 0,
    "start_time": "2022-08-17T11:15:47.742Z"
   },
   {
    "duration": 0,
    "start_time": "2022-08-17T11:15:47.744Z"
   },
   {
    "duration": 0,
    "start_time": "2022-08-17T11:15:47.745Z"
   },
   {
    "duration": 0,
    "start_time": "2022-08-17T11:15:47.746Z"
   },
   {
    "duration": 3,
    "start_time": "2022-08-17T11:20:28.381Z"
   },
   {
    "duration": 219,
    "start_time": "2022-08-17T11:20:28.387Z"
   },
   {
    "duration": 11,
    "start_time": "2022-08-17T11:20:28.608Z"
   },
   {
    "duration": 30,
    "start_time": "2022-08-17T11:20:28.621Z"
   },
   {
    "duration": 3,
    "start_time": "2022-08-17T11:20:28.669Z"
   },
   {
    "duration": 8,
    "start_time": "2022-08-17T11:20:28.675Z"
   },
   {
    "duration": 13,
    "start_time": "2022-08-17T11:20:28.684Z"
   },
   {
    "duration": 4,
    "start_time": "2022-08-17T11:20:28.699Z"
   },
   {
    "duration": 28,
    "start_time": "2022-08-17T11:20:28.705Z"
   },
   {
    "duration": 59,
    "start_time": "2022-08-17T11:20:28.735Z"
   },
   {
    "duration": 29,
    "start_time": "2022-08-17T11:20:28.796Z"
   },
   {
    "duration": 94,
    "start_time": "2022-08-17T11:20:28.826Z"
   },
   {
    "duration": 81,
    "start_time": "2022-08-17T11:20:28.922Z"
   },
   {
    "duration": 86,
    "start_time": "2022-08-17T11:20:29.007Z"
   },
   {
    "duration": 40,
    "start_time": "2022-08-17T11:20:29.095Z"
   },
   {
    "duration": 11,
    "start_time": "2022-08-17T11:20:29.137Z"
   },
   {
    "duration": 3,
    "start_time": "2022-08-17T11:20:29.167Z"
   },
   {
    "duration": 7,
    "start_time": "2022-08-17T11:20:29.172Z"
   },
   {
    "duration": 41,
    "start_time": "2022-08-17T11:20:29.182Z"
   },
   {
    "duration": 7,
    "start_time": "2022-08-17T11:20:29.226Z"
   },
   {
    "duration": 8,
    "start_time": "2022-08-17T11:20:29.235Z"
   },
   {
    "duration": 7,
    "start_time": "2022-08-17T11:20:29.245Z"
   },
   {
    "duration": 15,
    "start_time": "2022-08-17T11:20:29.253Z"
   },
   {
    "duration": 9,
    "start_time": "2022-08-17T11:20:29.272Z"
   },
   {
    "duration": 13,
    "start_time": "2022-08-17T11:20:29.284Z"
   },
   {
    "duration": 7,
    "start_time": "2022-08-17T11:20:29.299Z"
   },
   {
    "duration": 7,
    "start_time": "2022-08-17T11:20:29.308Z"
   },
   {
    "duration": 6,
    "start_time": "2022-08-17T11:20:29.317Z"
   },
   {
    "duration": 5,
    "start_time": "2022-08-17T11:20:29.325Z"
   },
   {
    "duration": 140,
    "start_time": "2022-08-17T11:20:29.331Z"
   },
   {
    "duration": 0,
    "start_time": "2022-08-17T11:20:29.473Z"
   },
   {
    "duration": 0,
    "start_time": "2022-08-17T11:20:29.476Z"
   },
   {
    "duration": 0,
    "start_time": "2022-08-17T11:20:29.478Z"
   },
   {
    "duration": 0,
    "start_time": "2022-08-17T11:20:29.480Z"
   },
   {
    "duration": 0,
    "start_time": "2022-08-17T11:20:29.482Z"
   },
   {
    "duration": 0,
    "start_time": "2022-08-17T11:20:29.483Z"
   },
   {
    "duration": 0,
    "start_time": "2022-08-17T11:20:29.484Z"
   },
   {
    "duration": 0,
    "start_time": "2022-08-17T11:20:29.485Z"
   },
   {
    "duration": 2,
    "start_time": "2022-08-17T11:21:26.430Z"
   },
   {
    "duration": 205,
    "start_time": "2022-08-17T11:21:26.435Z"
   },
   {
    "duration": 13,
    "start_time": "2022-08-17T11:21:26.642Z"
   },
   {
    "duration": 47,
    "start_time": "2022-08-17T11:21:26.668Z"
   },
   {
    "duration": 12,
    "start_time": "2022-08-17T11:21:26.718Z"
   },
   {
    "duration": 9,
    "start_time": "2022-08-17T11:21:26.733Z"
   },
   {
    "duration": 9,
    "start_time": "2022-08-17T11:21:26.744Z"
   },
   {
    "duration": 15,
    "start_time": "2022-08-17T11:21:26.755Z"
   },
   {
    "duration": 62,
    "start_time": "2022-08-17T11:21:26.772Z"
   },
   {
    "duration": 30,
    "start_time": "2022-08-17T11:21:26.836Z"
   },
   {
    "duration": 33,
    "start_time": "2022-08-17T11:21:26.868Z"
   },
   {
    "duration": 94,
    "start_time": "2022-08-17T11:21:26.903Z"
   },
   {
    "duration": 79,
    "start_time": "2022-08-17T11:21:26.999Z"
   },
   {
    "duration": 67,
    "start_time": "2022-08-17T11:21:27.082Z"
   },
   {
    "duration": 59,
    "start_time": "2022-08-17T11:21:27.151Z"
   },
   {
    "duration": 11,
    "start_time": "2022-08-17T11:21:27.212Z"
   },
   {
    "duration": 71,
    "start_time": "2022-08-17T11:21:27.225Z"
   },
   {
    "duration": 2,
    "start_time": "2022-08-17T11:21:27.298Z"
   },
   {
    "duration": 11,
    "start_time": "2022-08-17T11:21:27.302Z"
   },
   {
    "duration": 8,
    "start_time": "2022-08-17T11:21:27.315Z"
   },
   {
    "duration": 12,
    "start_time": "2022-08-17T11:21:27.326Z"
   },
   {
    "duration": 5,
    "start_time": "2022-08-17T11:21:27.340Z"
   },
   {
    "duration": 7,
    "start_time": "2022-08-17T11:21:27.346Z"
   },
   {
    "duration": 19,
    "start_time": "2022-08-17T11:21:27.355Z"
   },
   {
    "duration": 23,
    "start_time": "2022-08-17T11:21:27.376Z"
   },
   {
    "duration": 9,
    "start_time": "2022-08-17T11:21:27.400Z"
   },
   {
    "duration": 5,
    "start_time": "2022-08-17T11:21:27.411Z"
   },
   {
    "duration": 9,
    "start_time": "2022-08-17T11:21:27.418Z"
   },
   {
    "duration": 5,
    "start_time": "2022-08-17T11:21:27.429Z"
   },
   {
    "duration": 94,
    "start_time": "2022-08-17T11:21:27.436Z"
   },
   {
    "duration": 0,
    "start_time": "2022-08-17T11:21:27.532Z"
   },
   {
    "duration": 0,
    "start_time": "2022-08-17T11:21:27.534Z"
   },
   {
    "duration": 0,
    "start_time": "2022-08-17T11:21:27.536Z"
   },
   {
    "duration": 0,
    "start_time": "2022-08-17T11:21:27.537Z"
   },
   {
    "duration": 0,
    "start_time": "2022-08-17T11:21:27.539Z"
   },
   {
    "duration": 0,
    "start_time": "2022-08-17T11:21:27.541Z"
   },
   {
    "duration": 0,
    "start_time": "2022-08-17T11:21:27.542Z"
   },
   {
    "duration": 0,
    "start_time": "2022-08-17T11:21:27.544Z"
   },
   {
    "duration": 3,
    "start_time": "2022-08-17T11:27:04.785Z"
   },
   {
    "duration": 169,
    "start_time": "2022-08-17T11:27:04.790Z"
   },
   {
    "duration": 14,
    "start_time": "2022-08-17T11:27:04.961Z"
   },
   {
    "duration": 39,
    "start_time": "2022-08-17T11:27:04.978Z"
   },
   {
    "duration": 2,
    "start_time": "2022-08-17T11:27:05.019Z"
   },
   {
    "duration": 15,
    "start_time": "2022-08-17T11:27:05.022Z"
   },
   {
    "duration": 39,
    "start_time": "2022-08-17T11:27:05.038Z"
   },
   {
    "duration": 7,
    "start_time": "2022-08-17T11:27:05.079Z"
   },
   {
    "duration": 35,
    "start_time": "2022-08-17T11:27:05.090Z"
   },
   {
    "duration": 17,
    "start_time": "2022-08-17T11:27:05.127Z"
   },
   {
    "duration": 29,
    "start_time": "2022-08-17T11:27:05.146Z"
   },
   {
    "duration": 65,
    "start_time": "2022-08-17T11:27:05.177Z"
   },
   {
    "duration": 89,
    "start_time": "2022-08-17T11:27:05.243Z"
   },
   {
    "duration": 76,
    "start_time": "2022-08-17T11:27:05.334Z"
   },
   {
    "duration": 38,
    "start_time": "2022-08-17T11:27:05.412Z"
   },
   {
    "duration": 26,
    "start_time": "2022-08-17T11:27:05.452Z"
   },
   {
    "duration": 46,
    "start_time": "2022-08-17T11:27:05.481Z"
   },
   {
    "duration": 18,
    "start_time": "2022-08-17T11:27:05.528Z"
   },
   {
    "duration": 3,
    "start_time": "2022-08-17T11:27:05.568Z"
   },
   {
    "duration": 17,
    "start_time": "2022-08-17T11:27:05.573Z"
   },
   {
    "duration": 41,
    "start_time": "2022-08-17T11:27:05.592Z"
   },
   {
    "duration": 53,
    "start_time": "2022-08-17T11:27:05.635Z"
   },
   {
    "duration": 74,
    "start_time": "2022-08-17T11:27:05.690Z"
   },
   {
    "duration": 48,
    "start_time": "2022-08-17T11:27:05.767Z"
   },
   {
    "duration": 88,
    "start_time": "2022-08-17T11:27:05.817Z"
   },
   {
    "duration": 67,
    "start_time": "2022-08-17T11:27:05.907Z"
   },
   {
    "duration": 20,
    "start_time": "2022-08-17T11:27:05.976Z"
   },
   {
    "duration": 14,
    "start_time": "2022-08-17T11:27:05.998Z"
   },
   {
    "duration": 13,
    "start_time": "2022-08-17T11:27:06.014Z"
   },
   {
    "duration": 92,
    "start_time": "2022-08-17T11:27:06.029Z"
   },
   {
    "duration": 0,
    "start_time": "2022-08-17T11:27:06.124Z"
   },
   {
    "duration": 0,
    "start_time": "2022-08-17T11:27:06.125Z"
   },
   {
    "duration": 0,
    "start_time": "2022-08-17T11:27:06.127Z"
   },
   {
    "duration": 0,
    "start_time": "2022-08-17T11:27:06.128Z"
   },
   {
    "duration": 0,
    "start_time": "2022-08-17T11:27:06.130Z"
   },
   {
    "duration": 0,
    "start_time": "2022-08-17T11:27:06.131Z"
   },
   {
    "duration": 0,
    "start_time": "2022-08-17T11:27:06.132Z"
   },
   {
    "duration": 0,
    "start_time": "2022-08-17T11:27:06.134Z"
   },
   {
    "duration": 2,
    "start_time": "2022-08-17T11:28:51.183Z"
   },
   {
    "duration": 186,
    "start_time": "2022-08-17T11:28:51.187Z"
   },
   {
    "duration": 18,
    "start_time": "2022-08-17T11:28:51.376Z"
   },
   {
    "duration": 35,
    "start_time": "2022-08-17T11:28:51.396Z"
   },
   {
    "duration": 50,
    "start_time": "2022-08-17T11:28:51.434Z"
   },
   {
    "duration": 72,
    "start_time": "2022-08-17T11:28:51.487Z"
   },
   {
    "duration": 47,
    "start_time": "2022-08-17T11:28:51.562Z"
   },
   {
    "duration": 20,
    "start_time": "2022-08-17T11:28:51.610Z"
   },
   {
    "duration": 36,
    "start_time": "2022-08-17T11:28:51.632Z"
   },
   {
    "duration": 27,
    "start_time": "2022-08-17T11:28:51.670Z"
   },
   {
    "duration": 36,
    "start_time": "2022-08-17T11:28:51.699Z"
   },
   {
    "duration": 81,
    "start_time": "2022-08-17T11:28:51.737Z"
   },
   {
    "duration": 87,
    "start_time": "2022-08-17T11:28:51.820Z"
   },
   {
    "duration": 71,
    "start_time": "2022-08-17T11:28:51.910Z"
   },
   {
    "duration": 39,
    "start_time": "2022-08-17T11:28:51.984Z"
   },
   {
    "duration": 10,
    "start_time": "2022-08-17T11:28:52.025Z"
   },
   {
    "duration": 67,
    "start_time": "2022-08-17T11:28:52.037Z"
   },
   {
    "duration": 13,
    "start_time": "2022-08-17T11:28:52.106Z"
   },
   {
    "duration": 11,
    "start_time": "2022-08-17T11:28:52.121Z"
   },
   {
    "duration": 2,
    "start_time": "2022-08-17T11:28:52.134Z"
   },
   {
    "duration": 7,
    "start_time": "2022-08-17T11:28:52.138Z"
   },
   {
    "duration": 22,
    "start_time": "2022-08-17T11:28:52.147Z"
   },
   {
    "duration": 9,
    "start_time": "2022-08-17T11:28:52.171Z"
   },
   {
    "duration": 8,
    "start_time": "2022-08-17T11:28:52.182Z"
   },
   {
    "duration": 9,
    "start_time": "2022-08-17T11:28:52.192Z"
   },
   {
    "duration": 9,
    "start_time": "2022-08-17T11:28:52.202Z"
   },
   {
    "duration": 6,
    "start_time": "2022-08-17T11:28:52.212Z"
   },
   {
    "duration": 10,
    "start_time": "2022-08-17T11:28:52.220Z"
   },
   {
    "duration": 6,
    "start_time": "2022-08-17T11:28:52.233Z"
   },
   {
    "duration": 94,
    "start_time": "2022-08-17T11:28:52.241Z"
   },
   {
    "duration": 0,
    "start_time": "2022-08-17T11:28:52.337Z"
   },
   {
    "duration": 0,
    "start_time": "2022-08-17T11:28:52.338Z"
   },
   {
    "duration": 0,
    "start_time": "2022-08-17T11:28:52.339Z"
   },
   {
    "duration": 0,
    "start_time": "2022-08-17T11:28:52.340Z"
   },
   {
    "duration": 0,
    "start_time": "2022-08-17T11:28:52.341Z"
   },
   {
    "duration": 0,
    "start_time": "2022-08-17T11:28:52.342Z"
   },
   {
    "duration": 0,
    "start_time": "2022-08-17T11:28:52.343Z"
   },
   {
    "duration": 0,
    "start_time": "2022-08-17T11:28:52.344Z"
   },
   {
    "duration": 3,
    "start_time": "2022-08-17T11:37:53.358Z"
   },
   {
    "duration": 207,
    "start_time": "2022-08-17T11:37:53.364Z"
   },
   {
    "duration": 15,
    "start_time": "2022-08-17T11:37:53.573Z"
   },
   {
    "duration": 38,
    "start_time": "2022-08-17T11:37:53.590Z"
   },
   {
    "duration": 5,
    "start_time": "2022-08-17T11:37:53.631Z"
   },
   {
    "duration": 9,
    "start_time": "2022-08-17T11:37:53.638Z"
   },
   {
    "duration": 30,
    "start_time": "2022-08-17T11:37:53.649Z"
   },
   {
    "duration": 10,
    "start_time": "2022-08-17T11:37:53.682Z"
   },
   {
    "duration": 28,
    "start_time": "2022-08-17T11:37:53.697Z"
   },
   {
    "duration": 22,
    "start_time": "2022-08-17T11:37:53.727Z"
   },
   {
    "duration": 28,
    "start_time": "2022-08-17T11:37:53.768Z"
   },
   {
    "duration": 94,
    "start_time": "2022-08-17T11:37:53.798Z"
   },
   {
    "duration": 85,
    "start_time": "2022-08-17T11:37:53.894Z"
   },
   {
    "duration": 71,
    "start_time": "2022-08-17T11:37:53.985Z"
   },
   {
    "duration": 49,
    "start_time": "2022-08-17T11:37:54.068Z"
   },
   {
    "duration": 12,
    "start_time": "2022-08-17T11:37:54.120Z"
   },
   {
    "duration": 67,
    "start_time": "2022-08-17T11:37:54.134Z"
   },
   {
    "duration": 14,
    "start_time": "2022-08-17T11:37:54.203Z"
   },
   {
    "duration": 15,
    "start_time": "2022-08-17T11:37:54.219Z"
   },
   {
    "duration": 5,
    "start_time": "2022-08-17T11:37:54.267Z"
   },
   {
    "duration": 13,
    "start_time": "2022-08-17T11:37:54.274Z"
   },
   {
    "duration": 12,
    "start_time": "2022-08-17T11:37:54.289Z"
   },
   {
    "duration": 11,
    "start_time": "2022-08-17T11:37:54.303Z"
   },
   {
    "duration": 5,
    "start_time": "2022-08-17T11:37:54.317Z"
   },
   {
    "duration": 8,
    "start_time": "2022-08-17T11:37:54.323Z"
   },
   {
    "duration": 17,
    "start_time": "2022-08-17T11:37:54.333Z"
   },
   {
    "duration": 8,
    "start_time": "2022-08-17T11:37:54.352Z"
   },
   {
    "duration": 10,
    "start_time": "2022-08-17T11:37:54.363Z"
   },
   {
    "duration": 16,
    "start_time": "2022-08-17T11:37:54.375Z"
   },
   {
    "duration": 136,
    "start_time": "2022-08-17T11:37:54.394Z"
   },
   {
    "duration": 0,
    "start_time": "2022-08-17T11:37:54.532Z"
   },
   {
    "duration": 0,
    "start_time": "2022-08-17T11:37:54.534Z"
   },
   {
    "duration": 0,
    "start_time": "2022-08-17T11:37:54.535Z"
   },
   {
    "duration": 0,
    "start_time": "2022-08-17T11:37:54.536Z"
   },
   {
    "duration": 0,
    "start_time": "2022-08-17T11:37:54.537Z"
   },
   {
    "duration": 0,
    "start_time": "2022-08-17T11:37:54.539Z"
   },
   {
    "duration": 0,
    "start_time": "2022-08-17T11:37:54.540Z"
   },
   {
    "duration": 0,
    "start_time": "2022-08-17T11:37:54.542Z"
   },
   {
    "duration": 3,
    "start_time": "2022-08-17T11:42:11.043Z"
   },
   {
    "duration": 199,
    "start_time": "2022-08-17T11:42:11.049Z"
   },
   {
    "duration": 12,
    "start_time": "2022-08-17T11:42:11.250Z"
   },
   {
    "duration": 49,
    "start_time": "2022-08-17T11:42:11.267Z"
   },
   {
    "duration": 40,
    "start_time": "2022-08-17T11:42:11.320Z"
   },
   {
    "duration": 71,
    "start_time": "2022-08-17T11:42:11.363Z"
   },
   {
    "duration": 40,
    "start_time": "2022-08-17T11:42:11.436Z"
   },
   {
    "duration": 66,
    "start_time": "2022-08-17T11:42:11.478Z"
   },
   {
    "duration": 53,
    "start_time": "2022-08-17T11:42:11.545Z"
   },
   {
    "duration": 38,
    "start_time": "2022-08-17T11:42:11.601Z"
   },
   {
    "duration": 54,
    "start_time": "2022-08-17T11:42:11.641Z"
   },
   {
    "duration": 84,
    "start_time": "2022-08-17T11:42:11.697Z"
   },
   {
    "duration": 89,
    "start_time": "2022-08-17T11:42:11.784Z"
   },
   {
    "duration": 67,
    "start_time": "2022-08-17T11:42:11.877Z"
   },
   {
    "duration": 62,
    "start_time": "2022-08-17T11:42:11.946Z"
   },
   {
    "duration": 56,
    "start_time": "2022-08-17T11:42:12.010Z"
   },
   {
    "duration": 64,
    "start_time": "2022-08-17T11:42:12.069Z"
   },
   {
    "duration": 19,
    "start_time": "2022-08-17T11:42:12.135Z"
   },
   {
    "duration": 42,
    "start_time": "2022-08-17T11:42:12.156Z"
   },
   {
    "duration": 6,
    "start_time": "2022-08-17T11:42:12.200Z"
   },
   {
    "duration": 38,
    "start_time": "2022-08-17T11:42:12.208Z"
   },
   {
    "duration": 18,
    "start_time": "2022-08-17T11:42:12.248Z"
   },
   {
    "duration": 30,
    "start_time": "2022-08-17T11:42:12.268Z"
   },
   {
    "duration": 16,
    "start_time": "2022-08-17T11:42:12.300Z"
   },
   {
    "duration": 23,
    "start_time": "2022-08-17T11:42:12.318Z"
   },
   {
    "duration": 44,
    "start_time": "2022-08-17T11:42:12.342Z"
   },
   {
    "duration": 11,
    "start_time": "2022-08-17T11:42:12.388Z"
   },
   {
    "duration": 38,
    "start_time": "2022-08-17T11:42:12.401Z"
   },
   {
    "duration": 9,
    "start_time": "2022-08-17T11:42:12.441Z"
   },
   {
    "duration": 84,
    "start_time": "2022-08-17T11:42:12.452Z"
   },
   {
    "duration": 0,
    "start_time": "2022-08-17T11:42:12.538Z"
   },
   {
    "duration": 0,
    "start_time": "2022-08-17T11:42:12.539Z"
   },
   {
    "duration": 0,
    "start_time": "2022-08-17T11:42:12.540Z"
   },
   {
    "duration": 0,
    "start_time": "2022-08-17T11:42:12.541Z"
   },
   {
    "duration": 0,
    "start_time": "2022-08-17T11:42:12.542Z"
   },
   {
    "duration": 0,
    "start_time": "2022-08-17T11:42:12.543Z"
   },
   {
    "duration": 0,
    "start_time": "2022-08-17T11:42:12.544Z"
   },
   {
    "duration": 0,
    "start_time": "2022-08-17T11:42:12.545Z"
   },
   {
    "duration": 5,
    "start_time": "2022-08-17T11:43:43.586Z"
   },
   {
    "duration": 182,
    "start_time": "2022-08-17T11:43:43.596Z"
   },
   {
    "duration": 16,
    "start_time": "2022-08-17T11:43:43.784Z"
   },
   {
    "duration": 29,
    "start_time": "2022-08-17T11:43:43.802Z"
   },
   {
    "duration": 2,
    "start_time": "2022-08-17T11:43:43.833Z"
   },
   {
    "duration": 7,
    "start_time": "2022-08-17T11:43:43.837Z"
   },
   {
    "duration": 30,
    "start_time": "2022-08-17T11:43:43.845Z"
   },
   {
    "duration": 19,
    "start_time": "2022-08-17T11:43:43.877Z"
   },
   {
    "duration": 25,
    "start_time": "2022-08-17T11:43:43.898Z"
   },
   {
    "duration": 18,
    "start_time": "2022-08-17T11:43:43.925Z"
   },
   {
    "duration": 38,
    "start_time": "2022-08-17T11:43:43.944Z"
   },
   {
    "duration": 78,
    "start_time": "2022-08-17T11:43:43.984Z"
   },
   {
    "duration": 80,
    "start_time": "2022-08-17T11:43:44.064Z"
   },
   {
    "duration": 77,
    "start_time": "2022-08-17T11:43:44.148Z"
   },
   {
    "duration": 57,
    "start_time": "2022-08-17T11:43:44.226Z"
   },
   {
    "duration": 12,
    "start_time": "2022-08-17T11:43:44.288Z"
   },
   {
    "duration": 41,
    "start_time": "2022-08-17T11:43:44.301Z"
   },
   {
    "duration": 14,
    "start_time": "2022-08-17T11:43:44.344Z"
   },
   {
    "duration": 26,
    "start_time": "2022-08-17T11:43:44.359Z"
   },
   {
    "duration": 5,
    "start_time": "2022-08-17T11:43:44.387Z"
   },
   {
    "duration": 26,
    "start_time": "2022-08-17T11:43:44.394Z"
   },
   {
    "duration": 17,
    "start_time": "2022-08-17T11:43:44.422Z"
   },
   {
    "duration": 49,
    "start_time": "2022-08-17T11:43:44.441Z"
   },
   {
    "duration": 19,
    "start_time": "2022-08-17T11:43:44.492Z"
   },
   {
    "duration": 22,
    "start_time": "2022-08-17T11:43:44.513Z"
   },
   {
    "duration": 15,
    "start_time": "2022-08-17T11:43:44.537Z"
   },
   {
    "duration": 22,
    "start_time": "2022-08-17T11:43:44.554Z"
   },
   {
    "duration": 14,
    "start_time": "2022-08-17T11:43:44.578Z"
   },
   {
    "duration": 8,
    "start_time": "2022-08-17T11:43:44.594Z"
   },
   {
    "duration": 82,
    "start_time": "2022-08-17T11:43:44.604Z"
   },
   {
    "duration": 0,
    "start_time": "2022-08-17T11:43:44.691Z"
   },
   {
    "duration": 0,
    "start_time": "2022-08-17T11:43:44.693Z"
   },
   {
    "duration": 0,
    "start_time": "2022-08-17T11:43:44.694Z"
   },
   {
    "duration": 1,
    "start_time": "2022-08-17T11:43:44.695Z"
   },
   {
    "duration": 0,
    "start_time": "2022-08-17T11:43:44.697Z"
   },
   {
    "duration": 0,
    "start_time": "2022-08-17T11:43:44.698Z"
   },
   {
    "duration": 0,
    "start_time": "2022-08-17T11:43:44.699Z"
   },
   {
    "duration": 0,
    "start_time": "2022-08-17T11:43:44.701Z"
   },
   {
    "duration": 3,
    "start_time": "2022-08-17T11:44:43.787Z"
   },
   {
    "duration": 3,
    "start_time": "2022-08-17T11:49:37.431Z"
   },
   {
    "duration": 198,
    "start_time": "2022-08-17T11:49:37.437Z"
   },
   {
    "duration": 11,
    "start_time": "2022-08-17T11:49:37.636Z"
   },
   {
    "duration": 44,
    "start_time": "2022-08-17T11:49:37.649Z"
   },
   {
    "duration": 4,
    "start_time": "2022-08-17T11:49:37.695Z"
   },
   {
    "duration": 7,
    "start_time": "2022-08-17T11:49:37.700Z"
   },
   {
    "duration": 12,
    "start_time": "2022-08-17T11:49:37.709Z"
   },
   {
    "duration": 10,
    "start_time": "2022-08-17T11:49:37.723Z"
   },
   {
    "duration": 47,
    "start_time": "2022-08-17T11:49:37.735Z"
   },
   {
    "duration": 25,
    "start_time": "2022-08-17T11:49:37.784Z"
   },
   {
    "duration": 25,
    "start_time": "2022-08-17T11:49:37.811Z"
   },
   {
    "duration": 85,
    "start_time": "2022-08-17T11:49:37.838Z"
   },
   {
    "duration": 95,
    "start_time": "2022-08-17T11:49:37.924Z"
   },
   {
    "duration": 71,
    "start_time": "2022-08-17T11:49:38.023Z"
   },
   {
    "duration": 40,
    "start_time": "2022-08-17T11:49:38.096Z"
   },
   {
    "duration": 11,
    "start_time": "2022-08-17T11:49:38.137Z"
   },
   {
    "duration": 54,
    "start_time": "2022-08-17T11:49:38.150Z"
   },
   {
    "duration": 12,
    "start_time": "2022-08-17T11:49:38.206Z"
   },
   {
    "duration": 16,
    "start_time": "2022-08-17T11:49:38.220Z"
   },
   {
    "duration": 4,
    "start_time": "2022-08-17T11:49:38.238Z"
   },
   {
    "duration": 22,
    "start_time": "2022-08-17T11:49:38.268Z"
   },
   {
    "duration": 16,
    "start_time": "2022-08-17T11:49:38.292Z"
   },
   {
    "duration": 15,
    "start_time": "2022-08-17T11:49:38.309Z"
   },
   {
    "duration": 49,
    "start_time": "2022-08-17T11:49:38.326Z"
   },
   {
    "duration": 21,
    "start_time": "2022-08-17T11:49:38.376Z"
   },
   {
    "duration": 16,
    "start_time": "2022-08-17T11:49:38.399Z"
   },
   {
    "duration": 74,
    "start_time": "2022-08-17T11:49:38.417Z"
   },
   {
    "duration": 0,
    "start_time": "2022-08-17T11:49:38.493Z"
   },
   {
    "duration": 0,
    "start_time": "2022-08-17T11:49:38.495Z"
   },
   {
    "duration": 0,
    "start_time": "2022-08-17T11:49:38.497Z"
   },
   {
    "duration": 0,
    "start_time": "2022-08-17T11:49:38.498Z"
   },
   {
    "duration": 0,
    "start_time": "2022-08-17T11:49:38.499Z"
   },
   {
    "duration": 0,
    "start_time": "2022-08-17T11:49:38.500Z"
   },
   {
    "duration": 0,
    "start_time": "2022-08-17T11:49:38.501Z"
   },
   {
    "duration": 0,
    "start_time": "2022-08-17T11:49:38.502Z"
   },
   {
    "duration": 0,
    "start_time": "2022-08-17T11:49:38.503Z"
   },
   {
    "duration": 0,
    "start_time": "2022-08-17T11:49:38.505Z"
   },
   {
    "duration": 0,
    "start_time": "2022-08-17T11:49:38.506Z"
   },
   {
    "duration": 3,
    "start_time": "2022-08-17T11:51:51.936Z"
   },
   {
    "duration": 274,
    "start_time": "2022-08-17T11:51:51.941Z"
   },
   {
    "duration": 12,
    "start_time": "2022-08-17T11:51:52.218Z"
   },
   {
    "duration": 38,
    "start_time": "2022-08-17T11:51:52.233Z"
   },
   {
    "duration": 11,
    "start_time": "2022-08-17T11:51:52.273Z"
   },
   {
    "duration": 27,
    "start_time": "2022-08-17T11:51:52.288Z"
   },
   {
    "duration": 16,
    "start_time": "2022-08-17T11:51:52.318Z"
   },
   {
    "duration": 9,
    "start_time": "2022-08-17T11:51:52.336Z"
   },
   {
    "duration": 35,
    "start_time": "2022-08-17T11:51:52.347Z"
   },
   {
    "duration": 25,
    "start_time": "2022-08-17T11:51:52.389Z"
   },
   {
    "duration": 28,
    "start_time": "2022-08-17T11:51:52.416Z"
   },
   {
    "duration": 82,
    "start_time": "2022-08-17T11:51:52.446Z"
   },
   {
    "duration": 93,
    "start_time": "2022-08-17T11:51:52.530Z"
   },
   {
    "duration": 88,
    "start_time": "2022-08-17T11:51:52.626Z"
   },
   {
    "duration": 63,
    "start_time": "2022-08-17T11:51:52.717Z"
   },
   {
    "duration": 19,
    "start_time": "2022-08-17T11:51:52.782Z"
   },
   {
    "duration": 42,
    "start_time": "2022-08-17T11:51:52.803Z"
   },
   {
    "duration": 33,
    "start_time": "2022-08-17T11:51:52.847Z"
   },
   {
    "duration": 31,
    "start_time": "2022-08-17T11:51:52.882Z"
   },
   {
    "duration": 4,
    "start_time": "2022-08-17T11:51:52.915Z"
   },
   {
    "duration": 21,
    "start_time": "2022-08-17T11:51:52.921Z"
   },
   {
    "duration": 38,
    "start_time": "2022-08-17T11:51:52.944Z"
   },
   {
    "duration": 25,
    "start_time": "2022-08-17T11:51:52.983Z"
   },
   {
    "duration": 23,
    "start_time": "2022-08-17T11:51:53.010Z"
   },
   {
    "duration": 47,
    "start_time": "2022-08-17T11:51:53.035Z"
   },
   {
    "duration": 24,
    "start_time": "2022-08-17T11:51:53.085Z"
   },
   {
    "duration": 101,
    "start_time": "2022-08-17T11:51:53.111Z"
   },
   {
    "duration": 0,
    "start_time": "2022-08-17T11:51:53.215Z"
   },
   {
    "duration": 0,
    "start_time": "2022-08-17T11:51:53.217Z"
   },
   {
    "duration": 0,
    "start_time": "2022-08-17T11:51:53.219Z"
   },
   {
    "duration": 0,
    "start_time": "2022-08-17T11:51:53.221Z"
   },
   {
    "duration": 0,
    "start_time": "2022-08-17T11:51:53.222Z"
   },
   {
    "duration": 0,
    "start_time": "2022-08-17T11:51:53.223Z"
   },
   {
    "duration": 0,
    "start_time": "2022-08-17T11:51:53.226Z"
   },
   {
    "duration": 0,
    "start_time": "2022-08-17T11:51:53.227Z"
   },
   {
    "duration": 0,
    "start_time": "2022-08-17T11:51:53.229Z"
   },
   {
    "duration": 0,
    "start_time": "2022-08-17T11:51:53.231Z"
   },
   {
    "duration": 0,
    "start_time": "2022-08-17T11:51:53.232Z"
   },
   {
    "duration": 3,
    "start_time": "2022-08-17T11:53:06.393Z"
   },
   {
    "duration": 222,
    "start_time": "2022-08-17T11:53:06.399Z"
   },
   {
    "duration": 13,
    "start_time": "2022-08-17T11:53:06.625Z"
   },
   {
    "duration": 56,
    "start_time": "2022-08-17T11:53:06.640Z"
   },
   {
    "duration": 62,
    "start_time": "2022-08-17T11:53:06.700Z"
   },
   {
    "duration": 93,
    "start_time": "2022-08-17T11:53:06.764Z"
   },
   {
    "duration": 38,
    "start_time": "2022-08-17T11:53:06.860Z"
   },
   {
    "duration": 25,
    "start_time": "2022-08-17T11:53:06.901Z"
   },
   {
    "duration": 70,
    "start_time": "2022-08-17T11:53:06.929Z"
   },
   {
    "duration": 21,
    "start_time": "2022-08-17T11:53:07.002Z"
   },
   {
    "duration": 64,
    "start_time": "2022-08-17T11:53:07.025Z"
   },
   {
    "duration": 94,
    "start_time": "2022-08-17T11:53:07.091Z"
   },
   {
    "duration": 97,
    "start_time": "2022-08-17T11:53:07.187Z"
   },
   {
    "duration": 62,
    "start_time": "2022-08-17T11:53:07.289Z"
   },
   {
    "duration": 40,
    "start_time": "2022-08-17T11:53:07.367Z"
   },
   {
    "duration": 13,
    "start_time": "2022-08-17T11:53:07.410Z"
   },
   {
    "duration": 79,
    "start_time": "2022-08-17T11:53:07.426Z"
   },
   {
    "duration": 14,
    "start_time": "2022-08-17T11:53:07.507Z"
   },
   {
    "duration": 24,
    "start_time": "2022-08-17T11:53:07.523Z"
   },
   {
    "duration": 3,
    "start_time": "2022-08-17T11:53:07.568Z"
   },
   {
    "duration": 22,
    "start_time": "2022-08-17T11:53:07.573Z"
   },
   {
    "duration": 20,
    "start_time": "2022-08-17T11:53:07.597Z"
   },
   {
    "duration": 56,
    "start_time": "2022-08-17T11:53:07.619Z"
   },
   {
    "duration": 25,
    "start_time": "2022-08-17T11:53:07.678Z"
   },
   {
    "duration": 26,
    "start_time": "2022-08-17T11:53:07.705Z"
   },
   {
    "duration": 46,
    "start_time": "2022-08-17T11:53:07.734Z"
   },
   {
    "duration": 4,
    "start_time": "2022-08-17T11:53:07.782Z"
   },
   {
    "duration": 0,
    "start_time": "2022-08-17T11:53:07.789Z"
   },
   {
    "duration": 0,
    "start_time": "2022-08-17T11:53:07.790Z"
   },
   {
    "duration": 0,
    "start_time": "2022-08-17T11:53:07.791Z"
   },
   {
    "duration": 0,
    "start_time": "2022-08-17T11:53:07.792Z"
   },
   {
    "duration": 0,
    "start_time": "2022-08-17T11:53:07.794Z"
   },
   {
    "duration": 0,
    "start_time": "2022-08-17T11:53:07.795Z"
   },
   {
    "duration": 0,
    "start_time": "2022-08-17T11:53:07.796Z"
   },
   {
    "duration": 0,
    "start_time": "2022-08-17T11:53:07.797Z"
   },
   {
    "duration": 0,
    "start_time": "2022-08-17T11:53:07.798Z"
   },
   {
    "duration": 0,
    "start_time": "2022-08-17T11:53:07.799Z"
   },
   {
    "duration": 0,
    "start_time": "2022-08-17T11:53:07.801Z"
   },
   {
    "duration": 3,
    "start_time": "2022-08-17T11:53:55.232Z"
   },
   {
    "duration": 207,
    "start_time": "2022-08-17T11:53:55.239Z"
   },
   {
    "duration": 21,
    "start_time": "2022-08-17T11:53:55.448Z"
   },
   {
    "duration": 45,
    "start_time": "2022-08-17T11:53:55.472Z"
   },
   {
    "duration": 10,
    "start_time": "2022-08-17T11:53:55.521Z"
   },
   {
    "duration": 18,
    "start_time": "2022-08-17T11:53:55.534Z"
   },
   {
    "duration": 29,
    "start_time": "2022-08-17T11:53:55.554Z"
   },
   {
    "duration": 54,
    "start_time": "2022-08-17T11:53:55.585Z"
   },
   {
    "duration": 141,
    "start_time": "2022-08-17T11:53:55.641Z"
   },
   {
    "duration": 68,
    "start_time": "2022-08-17T11:53:55.784Z"
   },
   {
    "duration": 35,
    "start_time": "2022-08-17T11:53:55.854Z"
   },
   {
    "duration": 139,
    "start_time": "2022-08-17T11:53:55.891Z"
   },
   {
    "duration": 82,
    "start_time": "2022-08-17T11:53:56.032Z"
   },
   {
    "duration": 73,
    "start_time": "2022-08-17T11:53:56.117Z"
   },
   {
    "duration": 39,
    "start_time": "2022-08-17T11:53:56.192Z"
   },
   {
    "duration": 35,
    "start_time": "2022-08-17T11:53:56.233Z"
   },
   {
    "duration": 64,
    "start_time": "2022-08-17T11:53:56.271Z"
   },
   {
    "duration": 14,
    "start_time": "2022-08-17T11:53:56.337Z"
   },
   {
    "duration": 33,
    "start_time": "2022-08-17T11:53:56.353Z"
   },
   {
    "duration": 24,
    "start_time": "2022-08-17T11:53:56.389Z"
   },
   {
    "duration": 51,
    "start_time": "2022-08-17T11:53:56.415Z"
   },
   {
    "duration": 33,
    "start_time": "2022-08-17T11:53:56.468Z"
   },
   {
    "duration": 68,
    "start_time": "2022-08-17T11:53:56.503Z"
   },
   {
    "duration": 35,
    "start_time": "2022-08-17T11:53:56.574Z"
   },
   {
    "duration": 31,
    "start_time": "2022-08-17T11:53:56.613Z"
   },
   {
    "duration": 39,
    "start_time": "2022-08-17T11:53:56.647Z"
   },
   {
    "duration": 41,
    "start_time": "2022-08-17T11:53:56.689Z"
   },
   {
    "duration": 34,
    "start_time": "2022-08-17T11:53:56.732Z"
   },
   {
    "duration": 34,
    "start_time": "2022-08-17T11:53:56.768Z"
   },
   {
    "duration": 144,
    "start_time": "2022-08-17T11:53:56.805Z"
   },
   {
    "duration": 0,
    "start_time": "2022-08-17T11:53:56.951Z"
   },
   {
    "duration": 0,
    "start_time": "2022-08-17T11:53:56.952Z"
   },
   {
    "duration": 0,
    "start_time": "2022-08-17T11:53:56.954Z"
   },
   {
    "duration": 0,
    "start_time": "2022-08-17T11:53:56.955Z"
   },
   {
    "duration": 0,
    "start_time": "2022-08-17T11:53:56.957Z"
   },
   {
    "duration": 0,
    "start_time": "2022-08-17T11:53:56.958Z"
   },
   {
    "duration": 0,
    "start_time": "2022-08-17T11:53:56.960Z"
   },
   {
    "duration": 0,
    "start_time": "2022-08-17T11:53:56.961Z"
   },
   {
    "duration": 3,
    "start_time": "2022-08-17T11:54:06.246Z"
   },
   {
    "duration": 295,
    "start_time": "2022-08-17T11:54:06.251Z"
   },
   {
    "duration": 26,
    "start_time": "2022-08-17T11:54:06.549Z"
   },
   {
    "duration": 69,
    "start_time": "2022-08-17T11:54:06.581Z"
   },
   {
    "duration": 13,
    "start_time": "2022-08-17T11:54:06.655Z"
   },
   {
    "duration": 39,
    "start_time": "2022-08-17T11:54:06.670Z"
   },
   {
    "duration": 56,
    "start_time": "2022-08-17T11:54:06.711Z"
   },
   {
    "duration": 30,
    "start_time": "2022-08-17T11:54:06.769Z"
   },
   {
    "duration": 60,
    "start_time": "2022-08-17T11:54:06.801Z"
   },
   {
    "duration": 57,
    "start_time": "2022-08-17T11:54:06.864Z"
   },
   {
    "duration": 35,
    "start_time": "2022-08-17T11:54:06.923Z"
   },
   {
    "duration": 107,
    "start_time": "2022-08-17T11:54:06.960Z"
   },
   {
    "duration": 79,
    "start_time": "2022-08-17T11:54:07.069Z"
   },
   {
    "duration": 74,
    "start_time": "2022-08-17T11:54:07.153Z"
   },
   {
    "duration": 56,
    "start_time": "2022-08-17T11:54:07.228Z"
   },
   {
    "duration": 15,
    "start_time": "2022-08-17T11:54:07.286Z"
   },
   {
    "duration": 66,
    "start_time": "2022-08-17T11:54:07.303Z"
   },
   {
    "duration": 19,
    "start_time": "2022-08-17T11:54:07.372Z"
   },
   {
    "duration": 18,
    "start_time": "2022-08-17T11:54:07.393Z"
   },
   {
    "duration": 4,
    "start_time": "2022-08-17T11:54:07.412Z"
   },
   {
    "duration": 59,
    "start_time": "2022-08-17T11:54:07.419Z"
   },
   {
    "duration": 22,
    "start_time": "2022-08-17T11:54:07.480Z"
   },
   {
    "duration": 29,
    "start_time": "2022-08-17T11:54:07.504Z"
   },
   {
    "duration": 38,
    "start_time": "2022-08-17T11:54:07.535Z"
   },
   {
    "duration": 26,
    "start_time": "2022-08-17T11:54:07.576Z"
   },
   {
    "duration": 23,
    "start_time": "2022-08-17T11:54:07.604Z"
   },
   {
    "duration": 40,
    "start_time": "2022-08-17T11:54:07.629Z"
   },
   {
    "duration": 3,
    "start_time": "2022-08-17T11:54:07.671Z"
   },
   {
    "duration": 7,
    "start_time": "2022-08-17T11:54:07.677Z"
   },
   {
    "duration": 136,
    "start_time": "2022-08-17T11:54:07.687Z"
   },
   {
    "duration": 0,
    "start_time": "2022-08-17T11:54:07.825Z"
   },
   {
    "duration": 0,
    "start_time": "2022-08-17T11:54:07.827Z"
   },
   {
    "duration": 0,
    "start_time": "2022-08-17T11:54:07.829Z"
   },
   {
    "duration": 0,
    "start_time": "2022-08-17T11:54:07.831Z"
   },
   {
    "duration": 0,
    "start_time": "2022-08-17T11:54:07.833Z"
   },
   {
    "duration": 0,
    "start_time": "2022-08-17T11:54:07.835Z"
   },
   {
    "duration": 0,
    "start_time": "2022-08-17T11:54:07.837Z"
   },
   {
    "duration": 0,
    "start_time": "2022-08-17T11:54:07.839Z"
   },
   {
    "duration": 3,
    "start_time": "2022-08-17T12:09:52.242Z"
   },
   {
    "duration": 207,
    "start_time": "2022-08-17T12:09:52.249Z"
   },
   {
    "duration": 32,
    "start_time": "2022-08-17T12:09:52.459Z"
   },
   {
    "duration": 35,
    "start_time": "2022-08-17T12:09:52.493Z"
   },
   {
    "duration": 23,
    "start_time": "2022-08-17T12:09:52.530Z"
   },
   {
    "duration": 17,
    "start_time": "2022-08-17T12:09:52.554Z"
   },
   {
    "duration": 35,
    "start_time": "2022-08-17T12:09:52.572Z"
   },
   {
    "duration": 16,
    "start_time": "2022-08-17T12:09:52.609Z"
   },
   {
    "duration": 33,
    "start_time": "2022-08-17T12:09:52.628Z"
   },
   {
    "duration": 65,
    "start_time": "2022-08-17T12:09:52.663Z"
   },
   {
    "duration": 28,
    "start_time": "2022-08-17T12:09:52.730Z"
   },
   {
    "duration": 105,
    "start_time": "2022-08-17T12:09:52.761Z"
   },
   {
    "duration": 103,
    "start_time": "2022-08-17T12:09:52.881Z"
   },
   {
    "duration": 86,
    "start_time": "2022-08-17T12:09:52.990Z"
   },
   {
    "duration": 69,
    "start_time": "2022-08-17T12:09:53.082Z"
   },
   {
    "duration": 30,
    "start_time": "2022-08-17T12:09:53.154Z"
   },
   {
    "duration": 97,
    "start_time": "2022-08-17T12:09:53.187Z"
   },
   {
    "duration": 13,
    "start_time": "2022-08-17T12:09:53.287Z"
   },
   {
    "duration": 14,
    "start_time": "2022-08-17T12:09:53.302Z"
   },
   {
    "duration": 9,
    "start_time": "2022-08-17T12:09:53.318Z"
   },
   {
    "duration": 25,
    "start_time": "2022-08-17T12:09:53.329Z"
   },
   {
    "duration": 25,
    "start_time": "2022-08-17T12:09:53.372Z"
   },
   {
    "duration": 18,
    "start_time": "2022-08-17T12:09:53.399Z"
   },
   {
    "duration": 16,
    "start_time": "2022-08-17T12:09:53.419Z"
   },
   {
    "duration": 61,
    "start_time": "2022-08-17T12:09:53.437Z"
   },
   {
    "duration": 19,
    "start_time": "2022-08-17T12:09:53.500Z"
   },
   {
    "duration": 12,
    "start_time": "2022-08-17T12:09:53.521Z"
   },
   {
    "duration": 39,
    "start_time": "2022-08-17T12:09:53.535Z"
   },
   {
    "duration": 13,
    "start_time": "2022-08-17T12:09:53.576Z"
   },
   {
    "duration": 7,
    "start_time": "2022-08-17T12:09:53.590Z"
   },
   {
    "duration": 10,
    "start_time": "2022-08-17T12:09:53.599Z"
   },
   {
    "duration": 7,
    "start_time": "2022-08-17T12:09:53.610Z"
   },
   {
    "duration": 10,
    "start_time": "2022-08-17T12:09:53.618Z"
   },
   {
    "duration": 6,
    "start_time": "2022-08-17T12:09:53.629Z"
   },
   {
    "duration": 4,
    "start_time": "2022-08-17T12:09:53.637Z"
   },
   {
    "duration": 9,
    "start_time": "2022-08-17T12:09:53.643Z"
   },
   {
    "duration": 15,
    "start_time": "2022-08-17T12:09:53.653Z"
   },
   {
    "duration": 22,
    "start_time": "2022-08-17T12:09:53.673Z"
   },
   {
    "duration": 3,
    "start_time": "2022-08-17T12:10:56.261Z"
   },
   {
    "duration": 236,
    "start_time": "2022-08-17T12:10:56.266Z"
   },
   {
    "duration": 18,
    "start_time": "2022-08-17T12:10:56.504Z"
   },
   {
    "duration": 93,
    "start_time": "2022-08-17T12:10:56.525Z"
   },
   {
    "duration": 40,
    "start_time": "2022-08-17T12:10:56.621Z"
   },
   {
    "duration": 74,
    "start_time": "2022-08-17T12:10:56.664Z"
   },
   {
    "duration": 68,
    "start_time": "2022-08-17T12:10:56.740Z"
   },
   {
    "duration": 99,
    "start_time": "2022-08-17T12:10:56.810Z"
   },
   {
    "duration": 97,
    "start_time": "2022-08-17T12:10:56.912Z"
   },
   {
    "duration": 70,
    "start_time": "2022-08-17T12:10:57.011Z"
   },
   {
    "duration": 58,
    "start_time": "2022-08-17T12:10:57.082Z"
   },
   {
    "duration": 97,
    "start_time": "2022-08-17T12:10:57.142Z"
   },
   {
    "duration": 91,
    "start_time": "2022-08-17T12:10:57.241Z"
   },
   {
    "duration": 85,
    "start_time": "2022-08-17T12:10:57.337Z"
   },
   {
    "duration": 58,
    "start_time": "2022-08-17T12:10:57.424Z"
   },
   {
    "duration": 14,
    "start_time": "2022-08-17T12:10:57.484Z"
   },
   {
    "duration": 107,
    "start_time": "2022-08-17T12:10:57.500Z"
   },
   {
    "duration": 15,
    "start_time": "2022-08-17T12:10:57.609Z"
   },
   {
    "duration": 20,
    "start_time": "2022-08-17T12:10:57.626Z"
   },
   {
    "duration": 33,
    "start_time": "2022-08-17T12:10:57.648Z"
   },
   {
    "duration": 39,
    "start_time": "2022-08-17T12:10:57.683Z"
   },
   {
    "duration": 20,
    "start_time": "2022-08-17T12:10:57.723Z"
   },
   {
    "duration": 18,
    "start_time": "2022-08-17T12:10:57.745Z"
   },
   {
    "duration": 40,
    "start_time": "2022-08-17T12:10:57.767Z"
   },
   {
    "duration": 30,
    "start_time": "2022-08-17T12:10:57.809Z"
   },
   {
    "duration": 23,
    "start_time": "2022-08-17T12:10:57.841Z"
   },
   {
    "duration": 55,
    "start_time": "2022-08-17T12:10:57.872Z"
   },
   {
    "duration": 76,
    "start_time": "2022-08-17T12:10:57.929Z"
   },
   {
    "duration": 36,
    "start_time": "2022-08-17T12:10:58.007Z"
   },
   {
    "duration": 49,
    "start_time": "2022-08-17T12:10:58.045Z"
   },
   {
    "duration": 23,
    "start_time": "2022-08-17T12:10:58.096Z"
   },
   {
    "duration": 12,
    "start_time": "2022-08-17T12:10:58.122Z"
   },
   {
    "duration": 14,
    "start_time": "2022-08-17T12:10:58.137Z"
   },
   {
    "duration": 37,
    "start_time": "2022-08-17T12:10:58.153Z"
   },
   {
    "duration": 19,
    "start_time": "2022-08-17T12:10:58.192Z"
   },
   {
    "duration": 11,
    "start_time": "2022-08-17T12:10:58.213Z"
   },
   {
    "duration": 18,
    "start_time": "2022-08-17T12:10:58.225Z"
   },
   {
    "duration": 32,
    "start_time": "2022-08-17T12:10:58.244Z"
   },
   {
    "duration": 2,
    "start_time": "2022-08-17T12:12:43.719Z"
   },
   {
    "duration": 194,
    "start_time": "2022-08-17T12:12:43.727Z"
   },
   {
    "duration": 11,
    "start_time": "2022-08-17T12:12:43.924Z"
   },
   {
    "duration": 42,
    "start_time": "2022-08-17T12:12:43.936Z"
   },
   {
    "duration": 20,
    "start_time": "2022-08-17T12:12:43.984Z"
   },
   {
    "duration": 6,
    "start_time": "2022-08-17T12:12:44.007Z"
   },
   {
    "duration": 13,
    "start_time": "2022-08-17T12:12:44.015Z"
   },
   {
    "duration": 9,
    "start_time": "2022-08-17T12:12:44.031Z"
   },
   {
    "duration": 28,
    "start_time": "2022-08-17T12:12:44.042Z"
   },
   {
    "duration": 43,
    "start_time": "2022-08-17T12:12:44.078Z"
   },
   {
    "duration": 26,
    "start_time": "2022-08-17T12:12:44.123Z"
   },
   {
    "duration": 74,
    "start_time": "2022-08-17T12:12:44.151Z"
   },
   {
    "duration": 87,
    "start_time": "2022-08-17T12:12:44.227Z"
   },
   {
    "duration": 84,
    "start_time": "2022-08-17T12:12:44.316Z"
   },
   {
    "duration": 44,
    "start_time": "2022-08-17T12:12:44.405Z"
   },
   {
    "duration": 28,
    "start_time": "2022-08-17T12:12:44.451Z"
   },
   {
    "duration": 48,
    "start_time": "2022-08-17T12:12:44.481Z"
   },
   {
    "duration": 12,
    "start_time": "2022-08-17T12:12:44.531Z"
   },
   {
    "duration": 37,
    "start_time": "2022-08-17T12:12:44.545Z"
   },
   {
    "duration": 8,
    "start_time": "2022-08-17T12:12:44.584Z"
   },
   {
    "duration": 27,
    "start_time": "2022-08-17T12:12:44.593Z"
   },
   {
    "duration": 17,
    "start_time": "2022-08-17T12:12:44.622Z"
   },
   {
    "duration": 41,
    "start_time": "2022-08-17T12:12:44.640Z"
   },
   {
    "duration": 21,
    "start_time": "2022-08-17T12:12:44.683Z"
   },
   {
    "duration": 18,
    "start_time": "2022-08-17T12:12:44.706Z"
   },
   {
    "duration": 21,
    "start_time": "2022-08-17T12:12:44.726Z"
   },
   {
    "duration": 44,
    "start_time": "2022-08-17T12:12:44.749Z"
   },
   {
    "duration": 20,
    "start_time": "2022-08-17T12:12:44.796Z"
   },
   {
    "duration": 15,
    "start_time": "2022-08-17T12:12:44.818Z"
   },
   {
    "duration": 6,
    "start_time": "2022-08-17T12:12:44.835Z"
   },
   {
    "duration": 11,
    "start_time": "2022-08-17T12:12:44.842Z"
   },
   {
    "duration": 8,
    "start_time": "2022-08-17T12:12:44.855Z"
   },
   {
    "duration": 40,
    "start_time": "2022-08-17T12:12:44.864Z"
   },
   {
    "duration": 5,
    "start_time": "2022-08-17T12:12:44.906Z"
   },
   {
    "duration": 4,
    "start_time": "2022-08-17T12:12:44.913Z"
   },
   {
    "duration": 5,
    "start_time": "2022-08-17T12:12:44.919Z"
   },
   {
    "duration": 6,
    "start_time": "2022-08-17T12:12:44.925Z"
   },
   {
    "duration": 8,
    "start_time": "2022-08-17T12:12:44.933Z"
   },
   {
    "duration": 4,
    "start_time": "2022-08-17T12:16:18.626Z"
   },
   {
    "duration": 236,
    "start_time": "2022-08-17T12:16:18.633Z"
   },
   {
    "duration": 24,
    "start_time": "2022-08-17T12:16:18.878Z"
   },
   {
    "duration": 42,
    "start_time": "2022-08-17T12:16:18.904Z"
   },
   {
    "duration": 5,
    "start_time": "2022-08-17T12:16:18.949Z"
   },
   {
    "duration": 51,
    "start_time": "2022-08-17T12:16:18.957Z"
   },
   {
    "duration": 27,
    "start_time": "2022-08-17T12:16:19.010Z"
   },
   {
    "duration": 60,
    "start_time": "2022-08-17T12:16:19.038Z"
   },
   {
    "duration": 33,
    "start_time": "2022-08-17T12:16:19.100Z"
   },
   {
    "duration": 24,
    "start_time": "2022-08-17T12:16:19.135Z"
   },
   {
    "duration": 44,
    "start_time": "2022-08-17T12:16:19.161Z"
   },
   {
    "duration": 95,
    "start_time": "2022-08-17T12:16:19.208Z"
   },
   {
    "duration": 92,
    "start_time": "2022-08-17T12:16:19.305Z"
   },
   {
    "duration": 80,
    "start_time": "2022-08-17T12:16:19.402Z"
   },
   {
    "duration": 69,
    "start_time": "2022-08-17T12:16:19.484Z"
   },
   {
    "duration": 24,
    "start_time": "2022-08-17T12:16:19.555Z"
   },
   {
    "duration": 69,
    "start_time": "2022-08-17T12:16:19.584Z"
   },
   {
    "duration": 18,
    "start_time": "2022-08-17T12:16:19.656Z"
   },
   {
    "duration": 36,
    "start_time": "2022-08-17T12:16:19.677Z"
   },
   {
    "duration": 4,
    "start_time": "2022-08-17T12:16:19.715Z"
   },
   {
    "duration": 27,
    "start_time": "2022-08-17T12:16:19.720Z"
   },
   {
    "duration": 18,
    "start_time": "2022-08-17T12:16:19.749Z"
   },
   {
    "duration": 25,
    "start_time": "2022-08-17T12:16:19.770Z"
   },
   {
    "duration": 34,
    "start_time": "2022-08-17T12:16:19.797Z"
   },
   {
    "duration": 37,
    "start_time": "2022-08-17T12:16:19.834Z"
   },
   {
    "duration": 24,
    "start_time": "2022-08-17T12:16:19.873Z"
   },
   {
    "duration": 16,
    "start_time": "2022-08-17T12:16:19.902Z"
   },
   {
    "duration": 18,
    "start_time": "2022-08-17T12:16:19.920Z"
   },
   {
    "duration": 35,
    "start_time": "2022-08-17T12:16:19.940Z"
   },
   {
    "duration": 11,
    "start_time": "2022-08-17T12:16:19.980Z"
   },
   {
    "duration": 40,
    "start_time": "2022-08-17T12:16:19.993Z"
   },
   {
    "duration": 16,
    "start_time": "2022-08-17T12:16:20.035Z"
   },
   {
    "duration": 44,
    "start_time": "2022-08-17T12:16:20.053Z"
   },
   {
    "duration": 25,
    "start_time": "2022-08-17T12:16:20.101Z"
   },
   {
    "duration": 4,
    "start_time": "2022-08-17T12:16:20.127Z"
   },
   {
    "duration": 10,
    "start_time": "2022-08-17T12:16:20.132Z"
   },
   {
    "duration": 13,
    "start_time": "2022-08-17T12:16:20.144Z"
   },
   {
    "duration": 35,
    "start_time": "2022-08-17T12:16:20.159Z"
   },
   {
    "duration": 3,
    "start_time": "2022-08-17T12:20:23.341Z"
   },
   {
    "duration": 198,
    "start_time": "2022-08-17T12:20:23.346Z"
   },
   {
    "duration": 13,
    "start_time": "2022-08-17T12:20:23.546Z"
   },
   {
    "duration": 96,
    "start_time": "2022-08-17T12:20:23.561Z"
   },
   {
    "duration": 17,
    "start_time": "2022-08-17T12:20:23.661Z"
   },
   {
    "duration": 49,
    "start_time": "2022-08-17T12:20:23.680Z"
   },
   {
    "duration": 44,
    "start_time": "2022-08-17T12:20:23.732Z"
   },
   {
    "duration": 54,
    "start_time": "2022-08-17T12:20:23.778Z"
   },
   {
    "duration": 29,
    "start_time": "2022-08-17T12:20:23.834Z"
   },
   {
    "duration": 31,
    "start_time": "2022-08-17T12:20:23.865Z"
   },
   {
    "duration": 26,
    "start_time": "2022-08-17T12:20:23.898Z"
   },
   {
    "duration": 83,
    "start_time": "2022-08-17T12:20:23.926Z"
   },
   {
    "duration": 82,
    "start_time": "2022-08-17T12:20:24.010Z"
   },
   {
    "duration": 77,
    "start_time": "2022-08-17T12:20:24.095Z"
   },
   {
    "duration": 39,
    "start_time": "2022-08-17T12:20:24.174Z"
   },
   {
    "duration": 12,
    "start_time": "2022-08-17T12:20:24.214Z"
   },
   {
    "duration": 63,
    "start_time": "2022-08-17T12:20:24.228Z"
   },
   {
    "duration": 13,
    "start_time": "2022-08-17T12:20:24.293Z"
   },
   {
    "duration": 15,
    "start_time": "2022-08-17T12:20:24.308Z"
   },
   {
    "duration": 4,
    "start_time": "2022-08-17T12:20:24.325Z"
   },
   {
    "duration": 49,
    "start_time": "2022-08-17T12:20:24.331Z"
   },
   {
    "duration": 18,
    "start_time": "2022-08-17T12:20:24.382Z"
   },
   {
    "duration": 19,
    "start_time": "2022-08-17T12:20:24.402Z"
   },
   {
    "duration": 46,
    "start_time": "2022-08-17T12:20:24.423Z"
   },
   {
    "duration": 20,
    "start_time": "2022-08-17T12:20:24.470Z"
   },
   {
    "duration": 17,
    "start_time": "2022-08-17T12:20:24.492Z"
   },
   {
    "duration": 9,
    "start_time": "2022-08-17T12:20:24.511Z"
   },
   {
    "duration": 47,
    "start_time": "2022-08-17T12:20:24.522Z"
   },
   {
    "duration": 11,
    "start_time": "2022-08-17T12:20:24.571Z"
   },
   {
    "duration": 8,
    "start_time": "2022-08-17T12:20:24.584Z"
   },
   {
    "duration": 30,
    "start_time": "2022-08-17T12:20:24.594Z"
   },
   {
    "duration": 13,
    "start_time": "2022-08-17T12:20:24.626Z"
   },
   {
    "duration": 46,
    "start_time": "2022-08-17T12:20:24.641Z"
   },
   {
    "duration": 16,
    "start_time": "2022-08-17T12:20:24.689Z"
   },
   {
    "duration": 13,
    "start_time": "2022-08-17T12:20:24.707Z"
   },
   {
    "duration": 0,
    "start_time": "2022-08-17T12:20:24.722Z"
   },
   {
    "duration": 0,
    "start_time": "2022-08-17T12:20:24.723Z"
   },
   {
    "duration": 0,
    "start_time": "2022-08-17T12:20:24.725Z"
   },
   {
    "duration": 3,
    "start_time": "2022-08-17T12:20:44.717Z"
   },
   {
    "duration": 168,
    "start_time": "2022-08-17T12:20:44.722Z"
   },
   {
    "duration": 15,
    "start_time": "2022-08-17T12:20:44.892Z"
   },
   {
    "duration": 29,
    "start_time": "2022-08-17T12:20:44.910Z"
   },
   {
    "duration": 2,
    "start_time": "2022-08-17T12:20:44.942Z"
   },
   {
    "duration": 25,
    "start_time": "2022-08-17T12:20:44.946Z"
   },
   {
    "duration": 12,
    "start_time": "2022-08-17T12:20:44.973Z"
   },
   {
    "duration": 7,
    "start_time": "2022-08-17T12:20:44.987Z"
   },
   {
    "duration": 30,
    "start_time": "2022-08-17T12:20:44.996Z"
   },
   {
    "duration": 50,
    "start_time": "2022-08-17T12:20:45.030Z"
   },
   {
    "duration": 25,
    "start_time": "2022-08-17T12:20:45.082Z"
   },
   {
    "duration": 79,
    "start_time": "2022-08-17T12:20:45.109Z"
   },
   {
    "duration": 79,
    "start_time": "2022-08-17T12:20:45.189Z"
   },
   {
    "duration": 62,
    "start_time": "2022-08-17T12:20:45.270Z"
   },
   {
    "duration": 49,
    "start_time": "2022-08-17T12:20:45.334Z"
   },
   {
    "duration": 11,
    "start_time": "2022-08-17T12:20:45.384Z"
   },
   {
    "duration": 44,
    "start_time": "2022-08-17T12:20:45.397Z"
   },
   {
    "duration": 32,
    "start_time": "2022-08-17T12:20:45.443Z"
   },
   {
    "duration": 13,
    "start_time": "2022-08-17T12:20:45.476Z"
   },
   {
    "duration": 4,
    "start_time": "2022-08-17T12:20:45.490Z"
   },
   {
    "duration": 24,
    "start_time": "2022-08-17T12:20:45.495Z"
   },
   {
    "duration": 19,
    "start_time": "2022-08-17T12:20:45.522Z"
   },
   {
    "duration": 19,
    "start_time": "2022-08-17T12:20:45.569Z"
   },
   {
    "duration": 41,
    "start_time": "2022-08-17T12:20:45.589Z"
   },
   {
    "duration": 29,
    "start_time": "2022-08-17T12:20:45.632Z"
   },
   {
    "duration": 17,
    "start_time": "2022-08-17T12:20:45.663Z"
   },
   {
    "duration": 10,
    "start_time": "2022-08-17T12:20:45.682Z"
   },
   {
    "duration": 33,
    "start_time": "2022-08-17T12:20:45.695Z"
   },
   {
    "duration": 41,
    "start_time": "2022-08-17T12:20:45.730Z"
   },
   {
    "duration": 12,
    "start_time": "2022-08-17T12:20:45.773Z"
   },
   {
    "duration": 41,
    "start_time": "2022-08-17T12:20:45.788Z"
   },
   {
    "duration": 14,
    "start_time": "2022-08-17T12:20:45.831Z"
   },
   {
    "duration": 27,
    "start_time": "2022-08-17T12:20:45.847Z"
   },
   {
    "duration": 30,
    "start_time": "2022-08-17T12:20:45.876Z"
   },
   {
    "duration": 30,
    "start_time": "2022-08-17T12:20:45.908Z"
   },
   {
    "duration": 12,
    "start_time": "2022-08-17T12:20:45.940Z"
   },
   {
    "duration": 22,
    "start_time": "2022-08-17T12:20:45.954Z"
   },
   {
    "duration": 22,
    "start_time": "2022-08-17T12:20:45.977Z"
   },
   {
    "duration": 5,
    "start_time": "2022-08-17T12:21:05.586Z"
   },
   {
    "duration": 187,
    "start_time": "2022-08-17T12:21:05.594Z"
   },
   {
    "duration": 17,
    "start_time": "2022-08-17T12:21:05.783Z"
   },
   {
    "duration": 67,
    "start_time": "2022-08-17T12:21:05.803Z"
   },
   {
    "duration": 6,
    "start_time": "2022-08-17T12:21:05.876Z"
   },
   {
    "duration": 19,
    "start_time": "2022-08-17T12:21:05.884Z"
   },
   {
    "duration": 30,
    "start_time": "2022-08-17T12:21:05.905Z"
   },
   {
    "duration": 24,
    "start_time": "2022-08-17T12:21:05.938Z"
   },
   {
    "duration": 53,
    "start_time": "2022-08-17T12:21:05.965Z"
   },
   {
    "duration": 32,
    "start_time": "2022-08-17T12:21:06.021Z"
   },
   {
    "duration": 30,
    "start_time": "2022-08-17T12:21:06.055Z"
   },
   {
    "duration": 88,
    "start_time": "2022-08-17T12:21:06.087Z"
   },
   {
    "duration": 114,
    "start_time": "2022-08-17T12:21:06.178Z"
   },
   {
    "duration": 64,
    "start_time": "2022-08-17T12:21:06.293Z"
   },
   {
    "duration": 47,
    "start_time": "2022-08-17T12:21:06.368Z"
   },
   {
    "duration": 11,
    "start_time": "2022-08-17T12:21:06.417Z"
   },
   {
    "duration": 79,
    "start_time": "2022-08-17T12:21:06.430Z"
   },
   {
    "duration": 52,
    "start_time": "2022-08-17T12:21:06.510Z"
   },
   {
    "duration": 17,
    "start_time": "2022-08-17T12:21:06.565Z"
   },
   {
    "duration": 21,
    "start_time": "2022-08-17T12:21:06.587Z"
   },
   {
    "duration": 48,
    "start_time": "2022-08-17T12:21:06.610Z"
   },
   {
    "duration": 49,
    "start_time": "2022-08-17T12:21:06.661Z"
   },
   {
    "duration": 48,
    "start_time": "2022-08-17T12:21:06.713Z"
   },
   {
    "duration": 23,
    "start_time": "2022-08-17T12:21:06.766Z"
   },
   {
    "duration": 57,
    "start_time": "2022-08-17T12:21:06.792Z"
   },
   {
    "duration": 39,
    "start_time": "2022-08-17T12:21:06.852Z"
   },
   {
    "duration": 23,
    "start_time": "2022-08-17T12:21:06.894Z"
   },
   {
    "duration": 29,
    "start_time": "2022-08-17T12:21:06.920Z"
   },
   {
    "duration": 57,
    "start_time": "2022-08-17T12:21:06.952Z"
   },
   {
    "duration": 23,
    "start_time": "2022-08-17T12:21:07.012Z"
   },
   {
    "duration": 52,
    "start_time": "2022-08-17T12:21:07.037Z"
   },
   {
    "duration": 25,
    "start_time": "2022-08-17T12:21:07.095Z"
   },
   {
    "duration": 27,
    "start_time": "2022-08-17T12:21:07.121Z"
   },
   {
    "duration": 14,
    "start_time": "2022-08-17T12:21:07.149Z"
   },
   {
    "duration": 22,
    "start_time": "2022-08-17T12:21:07.166Z"
   },
   {
    "duration": 24,
    "start_time": "2022-08-17T12:21:07.195Z"
   },
   {
    "duration": 19,
    "start_time": "2022-08-17T12:21:07.221Z"
   },
   {
    "duration": 13,
    "start_time": "2022-08-17T12:21:07.242Z"
   },
   {
    "duration": 3,
    "start_time": "2022-08-17T12:21:38.151Z"
   },
   {
    "duration": 193,
    "start_time": "2022-08-17T12:21:38.157Z"
   },
   {
    "duration": 17,
    "start_time": "2022-08-17T12:21:38.352Z"
   },
   {
    "duration": 34,
    "start_time": "2022-08-17T12:21:38.371Z"
   },
   {
    "duration": 3,
    "start_time": "2022-08-17T12:21:38.408Z"
   },
   {
    "duration": 8,
    "start_time": "2022-08-17T12:21:38.413Z"
   },
   {
    "duration": 46,
    "start_time": "2022-08-17T12:21:38.423Z"
   },
   {
    "duration": 20,
    "start_time": "2022-08-17T12:21:38.471Z"
   },
   {
    "duration": 33,
    "start_time": "2022-08-17T12:21:38.493Z"
   },
   {
    "duration": 22,
    "start_time": "2022-08-17T12:21:38.528Z"
   },
   {
    "duration": 39,
    "start_time": "2022-08-17T12:21:38.552Z"
   },
   {
    "duration": 100,
    "start_time": "2022-08-17T12:21:38.596Z"
   },
   {
    "duration": 80,
    "start_time": "2022-08-17T12:21:38.697Z"
   },
   {
    "duration": 69,
    "start_time": "2022-08-17T12:21:38.781Z"
   },
   {
    "duration": 60,
    "start_time": "2022-08-17T12:21:38.852Z"
   },
   {
    "duration": 12,
    "start_time": "2022-08-17T12:21:38.914Z"
   },
   {
    "duration": 64,
    "start_time": "2022-08-17T12:21:38.928Z"
   },
   {
    "duration": 13,
    "start_time": "2022-08-17T12:21:38.995Z"
   },
   {
    "duration": 16,
    "start_time": "2022-08-17T12:21:39.010Z"
   },
   {
    "duration": 4,
    "start_time": "2022-08-17T12:21:39.028Z"
   },
   {
    "duration": 47,
    "start_time": "2022-08-17T12:21:39.034Z"
   },
   {
    "duration": 18,
    "start_time": "2022-08-17T12:21:39.084Z"
   },
   {
    "duration": 17,
    "start_time": "2022-08-17T12:21:39.104Z"
   },
   {
    "duration": 46,
    "start_time": "2022-08-17T12:21:39.123Z"
   },
   {
    "duration": 24,
    "start_time": "2022-08-17T12:21:39.171Z"
   },
   {
    "duration": 18,
    "start_time": "2022-08-17T12:21:39.196Z"
   },
   {
    "duration": 9,
    "start_time": "2022-08-17T12:21:39.216Z"
   },
   {
    "duration": 41,
    "start_time": "2022-08-17T12:21:39.227Z"
   },
   {
    "duration": 23,
    "start_time": "2022-08-17T12:21:39.271Z"
   },
   {
    "duration": 5,
    "start_time": "2022-08-17T12:21:39.297Z"
   },
   {
    "duration": 22,
    "start_time": "2022-08-17T12:21:39.304Z"
   },
   {
    "duration": 12,
    "start_time": "2022-08-17T12:21:39.328Z"
   },
   {
    "duration": 29,
    "start_time": "2022-08-17T12:21:39.368Z"
   },
   {
    "duration": 19,
    "start_time": "2022-08-17T12:21:39.399Z"
   },
   {
    "duration": 13,
    "start_time": "2022-08-17T12:21:39.420Z"
   },
   {
    "duration": 35,
    "start_time": "2022-08-17T12:21:39.435Z"
   },
   {
    "duration": 13,
    "start_time": "2022-08-17T12:21:39.472Z"
   },
   {
    "duration": 18,
    "start_time": "2022-08-17T12:21:39.487Z"
   },
   {
    "duration": 3,
    "start_time": "2022-08-17T12:22:45.157Z"
   },
   {
    "duration": 219,
    "start_time": "2022-08-17T12:22:45.162Z"
   },
   {
    "duration": 12,
    "start_time": "2022-08-17T12:22:45.383Z"
   },
   {
    "duration": 46,
    "start_time": "2022-08-17T12:22:45.396Z"
   },
   {
    "duration": 8,
    "start_time": "2022-08-17T12:22:45.445Z"
   },
   {
    "duration": 26,
    "start_time": "2022-08-17T12:22:45.454Z"
   },
   {
    "duration": 36,
    "start_time": "2022-08-17T12:22:45.482Z"
   },
   {
    "duration": 25,
    "start_time": "2022-08-17T12:22:45.520Z"
   },
   {
    "duration": 45,
    "start_time": "2022-08-17T12:22:45.547Z"
   },
   {
    "duration": 36,
    "start_time": "2022-08-17T12:22:45.594Z"
   },
   {
    "duration": 60,
    "start_time": "2022-08-17T12:22:45.633Z"
   },
   {
    "duration": 93,
    "start_time": "2022-08-17T12:22:45.694Z"
   },
   {
    "duration": 83,
    "start_time": "2022-08-17T12:22:45.789Z"
   },
   {
    "duration": 69,
    "start_time": "2022-08-17T12:22:45.879Z"
   },
   {
    "duration": 53,
    "start_time": "2022-08-17T12:22:45.949Z"
   },
   {
    "duration": 11,
    "start_time": "2022-08-17T12:22:46.004Z"
   },
   {
    "duration": 84,
    "start_time": "2022-08-17T12:22:46.017Z"
   },
   {
    "duration": 13,
    "start_time": "2022-08-17T12:22:46.102Z"
   },
   {
    "duration": 28,
    "start_time": "2022-08-17T12:22:46.117Z"
   },
   {
    "duration": 29,
    "start_time": "2022-08-17T12:22:46.147Z"
   },
   {
    "duration": 53,
    "start_time": "2022-08-17T12:22:46.177Z"
   },
   {
    "duration": 31,
    "start_time": "2022-08-17T12:22:46.232Z"
   },
   {
    "duration": 50,
    "start_time": "2022-08-17T12:22:46.265Z"
   },
   {
    "duration": 38,
    "start_time": "2022-08-17T12:22:46.316Z"
   },
   {
    "duration": 45,
    "start_time": "2022-08-17T12:22:46.356Z"
   },
   {
    "duration": 51,
    "start_time": "2022-08-17T12:22:46.403Z"
   },
   {
    "duration": 26,
    "start_time": "2022-08-17T12:22:46.455Z"
   },
   {
    "duration": 43,
    "start_time": "2022-08-17T12:22:46.483Z"
   },
   {
    "duration": 56,
    "start_time": "2022-08-17T12:22:46.528Z"
   },
   {
    "duration": 27,
    "start_time": "2022-08-17T12:22:46.587Z"
   },
   {
    "duration": 59,
    "start_time": "2022-08-17T12:22:46.619Z"
   },
   {
    "duration": 81,
    "start_time": "2022-08-17T12:22:46.680Z"
   },
   {
    "duration": 64,
    "start_time": "2022-08-17T12:22:46.763Z"
   },
   {
    "duration": 23,
    "start_time": "2022-08-17T12:22:46.829Z"
   },
   {
    "duration": 12,
    "start_time": "2022-08-17T12:22:46.854Z"
   },
   {
    "duration": 28,
    "start_time": "2022-08-17T12:22:46.872Z"
   },
   {
    "duration": 20,
    "start_time": "2022-08-17T12:22:46.901Z"
   },
   {
    "duration": 15,
    "start_time": "2022-08-17T12:22:46.922Z"
   },
   {
    "duration": 3,
    "start_time": "2022-08-17T12:23:36.295Z"
   },
   {
    "duration": 194,
    "start_time": "2022-08-17T12:23:36.300Z"
   },
   {
    "duration": 22,
    "start_time": "2022-08-17T12:23:36.496Z"
   },
   {
    "duration": 61,
    "start_time": "2022-08-17T12:23:36.520Z"
   },
   {
    "duration": 25,
    "start_time": "2022-08-17T12:23:36.586Z"
   },
   {
    "duration": 12,
    "start_time": "2022-08-17T12:23:36.616Z"
   },
   {
    "duration": 19,
    "start_time": "2022-08-17T12:23:36.631Z"
   },
   {
    "duration": 13,
    "start_time": "2022-08-17T12:23:36.653Z"
   },
   {
    "duration": 111,
    "start_time": "2022-08-17T12:23:36.668Z"
   },
   {
    "duration": 28,
    "start_time": "2022-08-17T12:23:36.793Z"
   },
   {
    "duration": 48,
    "start_time": "2022-08-17T12:23:36.824Z"
   },
   {
    "duration": 79,
    "start_time": "2022-08-17T12:23:36.874Z"
   },
   {
    "duration": 70,
    "start_time": "2022-08-17T12:23:36.954Z"
   },
   {
    "duration": 63,
    "start_time": "2022-08-17T12:23:37.027Z"
   },
   {
    "duration": 35,
    "start_time": "2022-08-17T12:23:37.092Z"
   },
   {
    "duration": 10,
    "start_time": "2022-08-17T12:23:37.128Z"
   },
   {
    "duration": 65,
    "start_time": "2022-08-17T12:23:37.140Z"
   },
   {
    "duration": 11,
    "start_time": "2022-08-17T12:23:37.207Z"
   },
   {
    "duration": 11,
    "start_time": "2022-08-17T12:23:37.220Z"
   },
   {
    "duration": 4,
    "start_time": "2022-08-17T12:23:37.233Z"
   },
   {
    "duration": 50,
    "start_time": "2022-08-17T12:23:37.238Z"
   },
   {
    "duration": 16,
    "start_time": "2022-08-17T12:23:37.290Z"
   },
   {
    "duration": 15,
    "start_time": "2022-08-17T12:23:37.308Z"
   },
   {
    "duration": 14,
    "start_time": "2022-08-17T12:23:37.325Z"
   },
   {
    "duration": 44,
    "start_time": "2022-08-17T12:23:37.341Z"
   },
   {
    "duration": 19,
    "start_time": "2022-08-17T12:23:37.387Z"
   },
   {
    "duration": 8,
    "start_time": "2022-08-17T12:23:37.408Z"
   },
   {
    "duration": 17,
    "start_time": "2022-08-17T12:23:37.417Z"
   },
   {
    "duration": 35,
    "start_time": "2022-08-17T12:23:37.436Z"
   },
   {
    "duration": 10,
    "start_time": "2022-08-17T12:23:37.473Z"
   },
   {
    "duration": 31,
    "start_time": "2022-08-17T12:23:37.485Z"
   },
   {
    "duration": 12,
    "start_time": "2022-08-17T12:23:37.518Z"
   },
   {
    "duration": 19,
    "start_time": "2022-08-17T12:23:37.531Z"
   },
   {
    "duration": 36,
    "start_time": "2022-08-17T12:23:37.552Z"
   },
   {
    "duration": 9,
    "start_time": "2022-08-17T12:23:37.589Z"
   },
   {
    "duration": 8,
    "start_time": "2022-08-17T12:23:37.600Z"
   },
   {
    "duration": 9,
    "start_time": "2022-08-17T12:23:37.609Z"
   },
   {
    "duration": 6,
    "start_time": "2022-08-17T12:23:37.619Z"
   }
  ],
  "colab": {
   "collapsed_sections": [
    "E0vqbgi9ay0H",
    "VUC88oWjTJw2"
   ],
   "name": "automatization_template_upd4.ipynb",
   "provenance": []
  },
  "kernelspec": {
   "display_name": "Python 3 (ipykernel)",
   "language": "python",
   "name": "python3"
  },
  "language_info": {
   "codemirror_mode": {
    "name": "ipython",
    "version": 3
   },
   "file_extension": ".py",
   "mimetype": "text/x-python",
   "name": "python",
   "nbconvert_exporter": "python",
   "pygments_lexer": "ipython3",
   "version": "3.9.5"
  },
  "toc": {
   "base_numbering": 1,
   "nav_menu": {
    "height": "215px",
    "width": "403px"
   },
   "number_sections": true,
   "sideBar": true,
   "skip_h1_title": true,
   "title_cell": "Table of Contents",
   "title_sidebar": "Contents",
   "toc_cell": false,
   "toc_position": {
    "height": "calc(100% - 180px)",
    "left": "10px",
    "top": "150px",
    "width": "285.825px"
   },
   "toc_section_display": true,
   "toc_window_display": false
  }
 },
 "nbformat": 4,
 "nbformat_minor": 1
}
